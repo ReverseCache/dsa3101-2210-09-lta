{
 "cells": [
  {
   "cell_type": "code",
   "execution_count": 27,
   "id": "5bbb65c4",
   "metadata": {},
   "outputs": [],
   "source": [
    "import requests\n",
    "import pandas as pd\n",
    "import numpy as np\n",
    "import urllib.request"
   ]
  },
  {
   "cell_type": "code",
   "execution_count": 28,
   "id": "33c6fc2e",
   "metadata": {},
   "outputs": [],
   "source": [
    "from math import radians, cos, sin, asin, sqrt\n",
    "\n",
    "def haversine(lon1, lat1, lon2, lat2):\n",
    "\n",
    "    # convert decimal degrees to radians \n",
    "    lon1, lat1, lon2, lat2 = map(radians, [lon1, lat1, lon2, lat2])\n",
    "\n",
    "    # haversine formula \n",
    "    dlon = lon2 - lon1 \n",
    "    dlat = lat2 - lat1 \n",
    "    a = sin(dlat/2)**2 + cos(lat1) * cos(lat2) * sin(dlon/2)**2\n",
    "    c = 2 * asin(sqrt(a)) \n",
    "    r = 6371 # Radius of earth in kilometers. Use 3956 for miles. Determines return value units.\n",
    "    return c * r *1000"
   ]
  },
  {
   "cell_type": "code",
   "execution_count": 29,
   "id": "28f7fb9d",
   "metadata": {},
   "outputs": [],
   "source": [
    "def location_splitter(location):\n",
    "    location=location.split(' ')\n",
    "    return location[0],location[1],location[2],location[3]"
   ]
  },
  {
   "cell_type": "code",
   "execution_count": 30,
   "id": "dbe186c4",
   "metadata": {},
   "outputs": [],
   "source": [
    "traffic_image_url='http://datamall2.mytransport.sg/ltaodataservice/Traffic-Imagesv2'\n",
    "headers_val={'AccountKey':'AO4qMbK3S7CWKSlplQZqlA=='}\n",
    "traffic_image_req=requests.get(url=traffic_image_url,headers=headers_val)\n",
    "traffic_image_df=pd.DataFrame(eval(traffic_image_req.content)['value'])"
   ]
  },
  {
   "cell_type": "code",
   "execution_count": 34,
   "id": "f07e71d5",
   "metadata": {},
   "outputs": [],
   "source": [
    "traffic_image_df=traffic_image_df.merge(pd.read_csv('traffic_camera_region.csv',converters={'CameraID':str}),'left','CameraID')"
   ]
  },
  {
   "cell_type": "code",
   "execution_count": 5,
   "id": "d7beae03",
   "metadata": {},
   "outputs": [],
   "source": [
    "# traffic_speed_url='http://datamall2.mytransport.sg/ltaodataservice/TrafficSpeedBandsv2'\n",
    "# traffic_speed_req=requests.get(url=traffic_speed_url,headers=headers_val)\n",
    "# traffic_speed_df=pd.DataFrame(eval(traffic_speed_req.content)['value'])\n",
    "# road_category_letter=['A','B','C','D','E','F','G']\n",
    "# road_category_type=['Expressways','Major Arterial Roads','Arterial Roads','Minor Arterial Roads','Small Roads','Slip Roads','No category info available']\n",
    "# category_mapping=pd.DataFrame({'RoadCategory':road_category_letter,'category':road_category_type})\n",
    "# traffic_speed_df=traffic_speed_df.merge(category_mapping,'left','RoadCategory')\n",
    "# traffic_speed_df['start_latitude'],traffic_speed_df['start_longitude'],traffic_speed_df['end_latitude'],traffic_speed_df['end_longitude']=np.vectorize(location_splitter)(traffic_speed_df['Location'])\n",
    "# traffic_speed_df=traffic_speed_df.drop(['LinkID','RoadCategory','SpeedBand','MaximumSpeed','Location'],axis=1)\n",
    "# traffic_speed_df=traffic_speed_df.astype({'start_latitude':float,'start_longitude':float,'end_latitude':float,'end_longitude':float})"
   ]
  },
  {
   "cell_type": "code",
   "execution_count": 35,
   "id": "49a87654",
   "metadata": {},
   "outputs": [],
   "source": [
    "traffic_incidents_url='http://datamall2.mytransport.sg/ltaodataservice/TrafficIncidents'\n",
    "traffic_incidents_req=requests.get(url=traffic_incidents_url,headers=headers_val)\n",
    "traffic_incidents_df=pd.DataFrame(eval(traffic_incidents_req.content)['value'])\n"
   ]
  },
  {
   "cell_type": "markdown",
   "id": "77c0a431",
   "metadata": {},
   "source": [
    "# NEA API\n",
    "For some reason this one need to constantly call and keep track of previous results. Sometimes calls does not return all data.\n",
    "Some names are given as S123, etc, looking to try OneMap reverse geocoding to get road name from lat long."
   ]
  },
  {
   "cell_type": "code",
   "execution_count": 36,
   "id": "2f96d8a8",
   "metadata": {},
   "outputs": [],
   "source": [
    "weatherreq=requests.get(url='https://api.data.gov.sg/v1/environment/rainfall')\n",
    "weather_df=pd.DataFrame(eval(weatherreq.content)['metadata']['stations'])\n",
    "\n",
    "weather_df['latitude']=weather_df['location'].apply(lambda x: x['latitude'])\n",
    "weather_df['longitude']=weather_df['location'].apply(lambda x: x['longitude'])\n",
    "weather_df['timestamp']=eval(weatherreq.content)['items'][0]['timestamp']\n",
    "weather_df['timestamp']=pd.to_datetime(weather_df['timestamp'])\n",
    "\n",
    "station_rainfall=pd.DataFrame(eval(weatherreq.content)['items'][0]['readings']).rename(columns={'value':'rainfall'})\n",
    "\n",
    "weather_df=weather_df.merge(station_rainfall,how='left',left_on='id',right_on='station_id')\n",
    "weather_df=weather_df.drop(['id','device_id','station_id','location'],axis=1)"
   ]
  },
  {
   "cell_type": "markdown",
   "id": "7c15ff4e",
   "metadata": {},
   "source": [
    "# Onemap"
   ]
  },
  {
   "cell_type": "code",
   "execution_count": 37,
   "id": "c8ce6866",
   "metadata": {},
   "outputs": [],
   "source": [
    "onemapTokenAPIResponse=requests.post('https://developers.onemap.sg/privateapi/auth/post/getToken',json={'email':'leejin@u.nus.edu','password':'Whysohardtochange123!'})#.content\n",
    "onemapAPItoken=eval(onemapTokenAPIResponse.content)['access_token']"
   ]
  },
  {
   "cell_type": "code",
   "execution_count": 38,
   "id": "884222b5",
   "metadata": {},
   "outputs": [],
   "source": [
    "def roadnamegrabber(latitude,longitude):\n",
    "    tempResponse=requests.get('https://developers.onemap.sg/privateapi/commonsvc/revgeocode?location=%s,%s&token=%s&buffer=100&addressType=all'%(str(latitude),str(longitude),onemapAPItoken))\n",
    "    name=pd.DataFrame(eval(tempResponse.content)['GeocodeInfo'])['ROAD'].mode()[0]\n",
    "    return name.replace('S','s').title()"
   ]
  },
  {
   "cell_type": "markdown",
   "id": "3f57eb31",
   "metadata": {},
   "source": [
    "# Calculations\n"
   ]
  },
  {
   "cell_type": "code",
   "execution_count": 40,
   "id": "b684dad3",
   "metadata": {},
   "outputs": [],
   "source": [
    "traffic_image_df['key']=0\n",
    "traffic_incidents_df['key']=0\n",
    "weather_df['key']=0"
   ]
  },
  {
   "cell_type": "code",
   "execution_count": 45,
   "id": "7026b796",
   "metadata": {},
   "outputs": [],
   "source": [
    "nearest_incidents=traffic_image_df.merge(traffic_incidents_df,'outer','key')\n",
    "nearest_incidents['incident_distance_from_id']=(np.vectorize(haversine)(nearest_incidents['Latitude_x'],nearest_incidents['Longitude_x'],nearest_incidents['Latitude_y'],nearest_incidents['Longitude_y']))\n",
    "nearest_incidents=nearest_incidents[nearest_incidents['incident_distance_from_id']<500].sort_values('incident_distance_from_id')\n",
    "nearest_incidents=nearest_incidents[['CameraID','Message']]"
   ]
  },
  {
   "cell_type": "code",
   "execution_count": 44,
   "id": "fd6f88a2",
   "metadata": {},
   "outputs": [
    {
     "data": {
      "text/html": [
       "<div>\n",
       "<style scoped>\n",
       "    .dataframe tbody tr th:only-of-type {\n",
       "        vertical-align: middle;\n",
       "    }\n",
       "\n",
       "    .dataframe tbody tr th {\n",
       "        vertical-align: top;\n",
       "    }\n",
       "\n",
       "    .dataframe thead th {\n",
       "        text-align: right;\n",
       "    }\n",
       "</style>\n",
       "<table border=\"1\" class=\"dataframe\">\n",
       "  <thead>\n",
       "    <tr style=\"text-align: right;\">\n",
       "      <th></th>\n",
       "      <th>CameraID</th>\n",
       "      <th>Type</th>\n",
       "      <th>Message</th>\n",
       "    </tr>\n",
       "  </thead>\n",
       "  <tbody>\n",
       "    <tr>\n",
       "      <th>93</th>\n",
       "      <td>1709</td>\n",
       "      <td>Roadwork</td>\n",
       "      <td>(28/10)20:22 Roadworks on Thomson Road (toward...</td>\n",
       "    </tr>\n",
       "    <tr>\n",
       "      <th>292</th>\n",
       "      <td>6703</td>\n",
       "      <td>Roadwork</td>\n",
       "      <td>(28/10)20:34 Roadworks on Thomson Road (toward...</td>\n",
       "    </tr>\n",
       "    <tr>\n",
       "      <th>294</th>\n",
       "      <td>6703</td>\n",
       "      <td>Roadwork</td>\n",
       "      <td>(28/10)19:52 Roadworks on Thomson Road (toward...</td>\n",
       "    </tr>\n",
       "    <tr>\n",
       "      <th>90</th>\n",
       "      <td>1709</td>\n",
       "      <td>Roadwork</td>\n",
       "      <td>(28/10)20:50 Roadworks on Thomson Road (toward...</td>\n",
       "    </tr>\n",
       "    <tr>\n",
       "      <th>290</th>\n",
       "      <td>6703</td>\n",
       "      <td>Roadwork</td>\n",
       "      <td>(28/10)20:50 Roadworks on Thomson Road (toward...</td>\n",
       "    </tr>\n",
       "    <tr>\n",
       "      <th>92</th>\n",
       "      <td>1709</td>\n",
       "      <td>Roadwork</td>\n",
       "      <td>(28/10)20:34 Roadworks on Thomson Road (toward...</td>\n",
       "    </tr>\n",
       "  </tbody>\n",
       "</table>\n",
       "</div>"
      ],
      "text/plain": [
       "    CameraID      Type                                            Message\n",
       "93      1709  Roadwork  (28/10)20:22 Roadworks on Thomson Road (toward...\n",
       "292     6703  Roadwork  (28/10)20:34 Roadworks on Thomson Road (toward...\n",
       "294     6703  Roadwork  (28/10)19:52 Roadworks on Thomson Road (toward...\n",
       "90      1709  Roadwork  (28/10)20:50 Roadworks on Thomson Road (toward...\n",
       "290     6703  Roadwork  (28/10)20:50 Roadworks on Thomson Road (toward...\n",
       "92      1709  Roadwork  (28/10)20:34 Roadworks on Thomson Road (toward..."
      ]
     },
     "execution_count": 44,
     "metadata": {},
     "output_type": "execute_result"
    }
   ],
   "source": []
  },
  {
   "cell_type": "code",
   "execution_count": 42,
   "id": "3b049112",
   "metadata": {},
   "outputs": [],
   "source": [
    "nearest_weather=traffic_image_df.merge(weather_df,'outer','key')\n",
    "nearest_weather['distance_from_id']=(np.vectorize(haversine)(nearest_weather['Latitude'],nearest_weather['Longitude'],nearest_weather['latitude'],nearest_weather['longitude']))\n",
    "nearest_weather=nearest_weather.sort_values('distance_from_id').groupby('CameraID').head(1).sort_values('distance_from_id')\n",
    "nearest_weather=nearest_weather[['CameraID','Latitude','Longitude','ImageLink','rainfall']]\n",
    "nearest_weather['name']=np.vectorize(roadnamegrabber)(nearest_weather['Latitude'],nearest_weather['Longitude'])"
   ]
  },
  {
   "cell_type": "code",
   "execution_count": 43,
   "id": "7feed59d",
   "metadata": {},
   "outputs": [],
   "source": [
    "final_df=nearest_weather.merge(nearest_incidents,'left','CameraID')"
   ]
  },
  {
   "cell_type": "code",
   "execution_count": 24,
   "id": "a4fdabf5",
   "metadata": {},
   "outputs": [
    {
     "data": {
      "text/html": [
       "<div>\n",
       "<style scoped>\n",
       "    .dataframe tbody tr th:only-of-type {\n",
       "        vertical-align: middle;\n",
       "    }\n",
       "\n",
       "    .dataframe tbody tr th {\n",
       "        vertical-align: top;\n",
       "    }\n",
       "\n",
       "    .dataframe thead th {\n",
       "        text-align: right;\n",
       "    }\n",
       "</style>\n",
       "<table border=\"1\" class=\"dataframe\">\n",
       "  <thead>\n",
       "    <tr style=\"text-align: right;\">\n",
       "      <th></th>\n",
       "      <th>CameraID</th>\n",
       "      <th>Latitude</th>\n",
       "      <th>Longitude</th>\n",
       "      <th>ImageLink</th>\n",
       "      <th>rainfall</th>\n",
       "      <th>name</th>\n",
       "      <th>Type</th>\n",
       "      <th>Message</th>\n",
       "      <th>Region</th>\n",
       "    </tr>\n",
       "  </thead>\n",
       "  <tbody>\n",
       "    <tr>\n",
       "      <th>0</th>\n",
       "      <td>1701</td>\n",
       "      <td>1.323605</td>\n",
       "      <td>103.858780</td>\n",
       "      <td>https://dm-traffic-camera-itsc.s3.ap-southeast...</td>\n",
       "      <td>0</td>\n",
       "      <td>Saint George'S Lane</td>\n",
       "      <td>Heavy Traffic</td>\n",
       "      <td>(28/10)18:40 Heavy Traffic on CTE (towards AYE...</td>\n",
       "      <td>Central</td>\n",
       "    </tr>\n",
       "    <tr>\n",
       "      <th>1</th>\n",
       "      <td>3795</td>\n",
       "      <td>1.301451</td>\n",
       "      <td>103.910596</td>\n",
       "      <td>https://dm-traffic-camera-itsc.s3.ap-southeast...</td>\n",
       "      <td>0</td>\n",
       "      <td>Still Road South</td>\n",
       "      <td>NaN</td>\n",
       "      <td>NaN</td>\n",
       "      <td>Central</td>\n",
       "    </tr>\n",
       "    <tr>\n",
       "      <th>2</th>\n",
       "      <td>4706</td>\n",
       "      <td>1.297920</td>\n",
       "      <td>103.782050</td>\n",
       "      <td>https://dm-traffic-camera-itsc.s3.ap-southeast...</td>\n",
       "      <td>0</td>\n",
       "      <td>Lower Kent Ridge Road</td>\n",
       "      <td>NaN</td>\n",
       "      <td>NaN</td>\n",
       "      <td>West</td>\n",
       "    </tr>\n",
       "    <tr>\n",
       "      <th>3</th>\n",
       "      <td>2702</td>\n",
       "      <td>1.445554</td>\n",
       "      <td>103.768340</td>\n",
       "      <td>https://dm-traffic-camera-itsc.s3.ap-southeast...</td>\n",
       "      <td>0</td>\n",
       "      <td>Woodlands Crossing</td>\n",
       "      <td>Heavy Traffic</td>\n",
       "      <td>(28/10)15:19 Heavy Traffic on Woodlands Checkp...</td>\n",
       "      <td>North</td>\n",
       "    </tr>\n",
       "    <tr>\n",
       "      <th>4</th>\n",
       "      <td>2702</td>\n",
       "      <td>1.445554</td>\n",
       "      <td>103.768340</td>\n",
       "      <td>https://dm-traffic-camera-itsc.s3.ap-southeast...</td>\n",
       "      <td>0</td>\n",
       "      <td>Woodlands Crossing</td>\n",
       "      <td>Heavy Traffic</td>\n",
       "      <td>(28/10)18:18 Heavy Traffic on BKE (towards Woo...</td>\n",
       "      <td>North</td>\n",
       "    </tr>\n",
       "    <tr>\n",
       "      <th>...</th>\n",
       "      <td>...</td>\n",
       "      <td>...</td>\n",
       "      <td>...</td>\n",
       "      <td>...</td>\n",
       "      <td>...</td>\n",
       "      <td>...</td>\n",
       "      <td>...</td>\n",
       "      <td>...</td>\n",
       "      <td>...</td>\n",
       "    </tr>\n",
       "    <tr>\n",
       "      <th>92</th>\n",
       "      <td>8702</td>\n",
       "      <td>1.390590</td>\n",
       "      <td>103.771700</td>\n",
       "      <td>https://dm-traffic-camera-itsc.s3.ap-southeast...</td>\n",
       "      <td>0</td>\n",
       "      <td>Segar Road</td>\n",
       "      <td>Heavy Traffic</td>\n",
       "      <td>(28/10)18:16 Heavy Traffic on KJE (towards BKE...</td>\n",
       "      <td>North</td>\n",
       "    </tr>\n",
       "    <tr>\n",
       "      <th>93</th>\n",
       "      <td>1503</td>\n",
       "      <td>1.270664</td>\n",
       "      <td>103.856978</td>\n",
       "      <td>https://dm-traffic-camera-itsc.s3.ap-southeast...</td>\n",
       "      <td>0</td>\n",
       "      <td>Marina Coastal Drive</td>\n",
       "      <td>NaN</td>\n",
       "      <td>NaN</td>\n",
       "      <td>Central</td>\n",
       "    </tr>\n",
       "    <tr>\n",
       "      <th>94</th>\n",
       "      <td>2708</td>\n",
       "      <td>1.386500</td>\n",
       "      <td>103.774700</td>\n",
       "      <td>https://dm-traffic-camera-itsc.s3.ap-southeast...</td>\n",
       "      <td>0</td>\n",
       "      <td>Bukit Timah Expressway</td>\n",
       "      <td>Heavy Traffic</td>\n",
       "      <td>(28/10)18:16 Heavy Traffic on KJE (towards BKE...</td>\n",
       "      <td>North</td>\n",
       "    </tr>\n",
       "    <tr>\n",
       "      <th>95</th>\n",
       "      <td>2703</td>\n",
       "      <td>1.350478</td>\n",
       "      <td>103.791034</td>\n",
       "      <td>https://dm-traffic-camera-itsc.s3.ap-southeast...</td>\n",
       "      <td>0</td>\n",
       "      <td>Rifle Range Road</td>\n",
       "      <td>NaN</td>\n",
       "      <td>NaN</td>\n",
       "      <td>Central</td>\n",
       "    </tr>\n",
       "    <tr>\n",
       "      <th>96</th>\n",
       "      <td>7793</td>\n",
       "      <td>1.377047</td>\n",
       "      <td>103.929470</td>\n",
       "      <td>https://dm-traffic-camera-itsc.s3.ap-southeast...</td>\n",
       "      <td>0</td>\n",
       "      <td>Pasir Ris Drive 12</td>\n",
       "      <td>NaN</td>\n",
       "      <td>NaN</td>\n",
       "      <td>East</td>\n",
       "    </tr>\n",
       "  </tbody>\n",
       "</table>\n",
       "<p>97 rows × 9 columns</p>\n",
       "</div>"
      ],
      "text/plain": [
       "   CameraID  Latitude   Longitude  \\\n",
       "0      1701  1.323605  103.858780   \n",
       "1      3795  1.301451  103.910596   \n",
       "2      4706  1.297920  103.782050   \n",
       "3      2702  1.445554  103.768340   \n",
       "4      2702  1.445554  103.768340   \n",
       "..      ...       ...         ...   \n",
       "92     8702  1.390590  103.771700   \n",
       "93     1503  1.270664  103.856978   \n",
       "94     2708  1.386500  103.774700   \n",
       "95     2703  1.350478  103.791034   \n",
       "96     7793  1.377047  103.929470   \n",
       "\n",
       "                                            ImageLink  rainfall  \\\n",
       "0   https://dm-traffic-camera-itsc.s3.ap-southeast...         0   \n",
       "1   https://dm-traffic-camera-itsc.s3.ap-southeast...         0   \n",
       "2   https://dm-traffic-camera-itsc.s3.ap-southeast...         0   \n",
       "3   https://dm-traffic-camera-itsc.s3.ap-southeast...         0   \n",
       "4   https://dm-traffic-camera-itsc.s3.ap-southeast...         0   \n",
       "..                                                ...       ...   \n",
       "92  https://dm-traffic-camera-itsc.s3.ap-southeast...         0   \n",
       "93  https://dm-traffic-camera-itsc.s3.ap-southeast...         0   \n",
       "94  https://dm-traffic-camera-itsc.s3.ap-southeast...         0   \n",
       "95  https://dm-traffic-camera-itsc.s3.ap-southeast...         0   \n",
       "96  https://dm-traffic-camera-itsc.s3.ap-southeast...         0   \n",
       "\n",
       "                      name           Type  \\\n",
       "0      Saint George'S Lane  Heavy Traffic   \n",
       "1         Still Road South            NaN   \n",
       "2    Lower Kent Ridge Road            NaN   \n",
       "3       Woodlands Crossing  Heavy Traffic   \n",
       "4       Woodlands Crossing  Heavy Traffic   \n",
       "..                     ...            ...   \n",
       "92              Segar Road  Heavy Traffic   \n",
       "93    Marina Coastal Drive            NaN   \n",
       "94  Bukit Timah Expressway  Heavy Traffic   \n",
       "95        Rifle Range Road            NaN   \n",
       "96      Pasir Ris Drive 12            NaN   \n",
       "\n",
       "                                              Message   Region  \n",
       "0   (28/10)18:40 Heavy Traffic on CTE (towards AYE...  Central  \n",
       "1                                                 NaN  Central  \n",
       "2                                                 NaN     West  \n",
       "3   (28/10)15:19 Heavy Traffic on Woodlands Checkp...    North  \n",
       "4   (28/10)18:18 Heavy Traffic on BKE (towards Woo...    North  \n",
       "..                                                ...      ...  \n",
       "92  (28/10)18:16 Heavy Traffic on KJE (towards BKE...    North  \n",
       "93                                                NaN  Central  \n",
       "94  (28/10)18:16 Heavy Traffic on KJE (towards BKE...    North  \n",
       "95                                                NaN  Central  \n",
       "96                                                NaN     East  \n",
       "\n",
       "[97 rows x 9 columns]"
      ]
     },
     "execution_count": 24,
     "metadata": {},
     "output_type": "execute_result"
    }
   ],
   "source": [
    "final_df"
   ]
  },
  {
   "cell_type": "code",
   "execution_count": 46,
   "id": "d55e86a3",
   "metadata": {},
   "outputs": [],
   "source": [
    "final_df.to_csv('main_df.csv',index=False)\n",
    "nearest_incidents.to_csv('traffic_incidents.csv',index=False)"
   ]
  },
  {
   "cell_type": "code",
   "execution_count": 52,
   "id": "3b0a3d2e",
   "metadata": {},
   "outputs": [
    {
     "data": {
      "text/html": [
       "<div>\n",
       "<style scoped>\n",
       "    .dataframe tbody tr th:only-of-type {\n",
       "        vertical-align: middle;\n",
       "    }\n",
       "\n",
       "    .dataframe tbody tr th {\n",
       "        vertical-align: top;\n",
       "    }\n",
       "\n",
       "    .dataframe thead th {\n",
       "        text-align: right;\n",
       "    }\n",
       "</style>\n",
       "<table border=\"1\" class=\"dataframe\">\n",
       "  <thead>\n",
       "    <tr style=\"text-align: right;\">\n",
       "      <th></th>\n",
       "      <th>CameraID</th>\n",
       "      <th>Message</th>\n",
       "    </tr>\n",
       "  </thead>\n",
       "  <tbody>\n",
       "    <tr>\n",
       "      <th>93</th>\n",
       "      <td>1709</td>\n",
       "      <td>(28/10)20:22 Roadworks on Thomson Road (toward...</td>\n",
       "    </tr>\n",
       "    <tr>\n",
       "      <th>292</th>\n",
       "      <td>6703</td>\n",
       "      <td>(28/10)20:34 Roadworks on Thomson Road (toward...</td>\n",
       "    </tr>\n",
       "    <tr>\n",
       "      <th>294</th>\n",
       "      <td>6703</td>\n",
       "      <td>(28/10)19:52 Roadworks on Thomson Road (toward...</td>\n",
       "    </tr>\n",
       "    <tr>\n",
       "      <th>90</th>\n",
       "      <td>1709</td>\n",
       "      <td>(28/10)20:50 Roadworks on Thomson Road (toward...</td>\n",
       "    </tr>\n",
       "    <tr>\n",
       "      <th>290</th>\n",
       "      <td>6703</td>\n",
       "      <td>(28/10)20:50 Roadworks on Thomson Road (toward...</td>\n",
       "    </tr>\n",
       "    <tr>\n",
       "      <th>92</th>\n",
       "      <td>1709</td>\n",
       "      <td>(28/10)20:34 Roadworks on Thomson Road (toward...</td>\n",
       "    </tr>\n",
       "  </tbody>\n",
       "</table>\n",
       "</div>"
      ],
      "text/plain": [
       "    CameraID                                            Message\n",
       "93      1709  (28/10)20:22 Roadworks on Thomson Road (toward...\n",
       "292     6703  (28/10)20:34 Roadworks on Thomson Road (toward...\n",
       "294     6703  (28/10)19:52 Roadworks on Thomson Road (toward...\n",
       "90      1709  (28/10)20:50 Roadworks on Thomson Road (toward...\n",
       "290     6703  (28/10)20:50 Roadworks on Thomson Road (toward...\n",
       "92      1709  (28/10)20:34 Roadworks on Thomson Road (toward..."
      ]
     },
     "execution_count": 52,
     "metadata": {},
     "output_type": "execute_result"
    }
   ],
   "source": [
    "nearest_incidents"
   ]
  },
  {
   "cell_type": "code",
   "execution_count": 56,
   "id": "f1bec747",
   "metadata": {},
   "outputs": [
    {
     "data": {
      "text/plain": [
       "['(28/10)20:22 Roadworks on Thomson Road (towards Keng Lee Road) after Moulmein Road. Avoid right lane.',\n",
       " '(28/10)20:50 Roadworks on Thomson Road (towards Newton) after Balestier Road. Avoid left lane.',\n",
       " '(28/10)20:34 Roadworks on Thomson Road (towards Newton) after Balestier Road. Avoid right lane.']"
      ]
     },
     "execution_count": 56,
     "metadata": {},
     "output_type": "execute_result"
    }
   ],
   "source": [
    "nearest_incidents.loc[nearest_incidents['CameraID']=='1709']['Message'].to_list()"
   ]
  },
  {
   "cell_type": "markdown",
   "id": "44404f60",
   "metadata": {},
   "source": [
    "# END"
   ]
  },
  {
   "cell_type": "code",
   "execution_count": null,
   "id": "59cd570f",
   "metadata": {},
   "outputs": [],
   "source": [
    "incident_res=''\n",
    "new_line = '\\n'\n",
    "for i in final_df.loc[final_df['CameraID']=='1004',][['Message']].reset_index(drop=True).itertuples():\n",
    "    incident_res+= '%s. %s \\n'%(str(i[0]+1),i[1])\n",
    "incident_res"
   ]
  },
  {
   "cell_type": "code",
   "execution_count": null,
   "id": "a02031ba",
   "metadata": {},
   "outputs": [],
   "source": [
    "new_line = '\\n'\n",
    "print(f\"Nearby Incidents:{new_line}{new_line.join(incident_res)}\")"
   ]
  },
  {
   "cell_type": "code",
   "execution_count": null,
   "id": "6d6c37f8",
   "metadata": {},
   "outputs": [],
   "source": [
    "f\"{new_line}{new_line.join(incident_res)}\""
   ]
  },
  {
   "cell_type": "code",
   "execution_count": null,
   "id": "de93198a",
   "metadata": {},
   "outputs": [],
   "source": [
    "# Downloads all the csv files\n",
    "# traffic_image_df.to_csv('traffic_image.csv',index=False)\n",
    "# traffic_speed_df.to_csv('traffic_speed.csv',index=False)\n",
    "# traffic_incidents_df.to_csv('traffic_incidents.csv',index=False)\n",
    "# weather_df.to_csv('weather.csv',index=False)"
   ]
  }
 ],
 "metadata": {
  "kernelspec": {
   "display_name": "Python 3 (ipykernel)",
   "language": "python",
   "name": "python3"
  },
  "language_info": {
   "codemirror_mode": {
    "name": "ipython",
    "version": 3
   },
   "file_extension": ".py",
   "mimetype": "text/x-python",
   "name": "python",
   "nbconvert_exporter": "python",
   "pygments_lexer": "ipython3",
   "version": "3.8.5"
  }
 },
 "nbformat": 4,
 "nbformat_minor": 5
}
