{
 "cells": [
  {
   "cell_type": "markdown",
   "id": "642567a0",
   "metadata": {},
   "source": [
    "Set-up"
   ]
  },
  {
   "cell_type": "code",
   "execution_count": 64,
   "id": "5bbb65c4",
   "metadata": {},
   "outputs": [],
   "source": [
    "import requests\n",
    "import pandas as pd\n",
    "import numpy as np\n",
    "import urllib.request"
   ]
  },
  {
   "cell_type": "markdown",
   "id": "dbfac76e",
   "metadata": {},
   "source": [
    "Function to calculate distance given latitude and longitude"
   ]
  },
  {
   "cell_type": "code",
   "execution_count": 65,
   "id": "33c6fc2e",
   "metadata": {},
   "outputs": [],
   "source": [
    "from math import radians, cos, sin, asin, sqrt\n",
    "\n",
    "def haversine(lon1, lat1, lon2, lat2):\n",
    "\n",
    "    # convert decimal degrees to radians \n",
    "    lon1, lat1, lon2, lat2 = map(radians, [lon1, lat1, lon2, lat2])\n",
    "\n",
    "    # haversine formula \n",
    "    dlon = lon2 - lon1 \n",
    "    dlat = lat2 - lat1 \n",
    "    a = sin(dlat/2)**2 + cos(lat1) * cos(lat2) * sin(dlon/2)**2\n",
    "    c = 2 * asin(sqrt(a)) \n",
    "    r = 6371 # Radius of earth in kilometers. Use 3956 for miles. Determines return value units.\n",
    "    return c * r *1000"
   ]
  },
  {
   "cell_type": "markdown",
   "id": "b5115602",
   "metadata": {},
   "source": [
    "Get LTA camera id and images"
   ]
  },
  {
   "cell_type": "code",
   "execution_count": 66,
   "id": "dbe186c4",
   "metadata": {},
   "outputs": [],
   "source": [
    "traffic_image_url='http://datamall2.mytransport.sg/ltaodataservice/Traffic-Imagesv2'\n",
    "headers_val={'AccountKey':'AO4qMbK3S7CWKSlplQZqlA=='}\n",
    "traffic_image_req=requests.get(url=traffic_image_url,headers=headers_val)\n",
    "traffic_image_df=pd.DataFrame(eval(traffic_image_req.content)['value'])\n",
    "traffic_image_df['Count']=np.random.uniform(low=0, high=20, size=(len(traffic_image_df.index),)).astype(int)\n",
    "traffic_image_df['is_jam']=0\n",
    "traffic_image_df=traffic_image_df.merge(pd.read_csv('traffic_camera_region_RoadName.csv',converters={'CameraID':str}),'left','CameraID')"
   ]
  },
  {
   "cell_type": "markdown",
   "id": "f484d5d3",
   "metadata": {},
   "source": [
    "Get LTA incidents on Expressways"
   ]
  },
  {
   "cell_type": "code",
   "execution_count": 68,
   "id": "49a87654",
   "metadata": {},
   "outputs": [],
   "source": [
    "traffic_incidents_url='http://datamall2.mytransport.sg/ltaodataservice/TrafficIncidents'\n",
    "traffic_incidents_req=requests.get(url=traffic_incidents_url,headers=headers_val)\n",
    "traffic_incidents_df=pd.DataFrame(eval(traffic_incidents_req.content)['value'])\n",
    "incidents_roads=['AYE','BKE','CTE','ECP','KJE','KPE','MCE','PIE','SLE','TPE','Sentosa','Tuas','Woodlands']\n",
    "traffic_incidents_df=traffic_incidents_df[traffic_incidents_df['Message'].apply(lambda x: any(expressway in x for expressway in incidents_roads))]"
   ]
  },
  {
   "cell_type": "markdown",
   "id": "77c0a431",
   "metadata": {},
   "source": [
    "NEA API to get rainfall in mm"
   ]
  },
  {
   "cell_type": "code",
   "execution_count": 70,
   "id": "2f96d8a8",
   "metadata": {},
   "outputs": [],
   "source": [
    "weatherreq=requests.get(url='https://api.data.gov.sg/v1/environment/rainfall')\n",
    "weather_df=pd.DataFrame(eval(weatherreq.content)['metadata']['stations'])\n",
    "\n",
    "weather_df['latitude']=weather_df['location'].apply(lambda x: x['latitude'])\n",
    "weather_df['longitude']=weather_df['location'].apply(lambda x: x['longitude'])\n",
    "weather_df['timestamp']=eval(weatherreq.content)['items'][0]['timestamp']\n",
    "weather_df['timestamp']=pd.to_datetime(weather_df['timestamp'])\n",
    "\n",
    "station_rainfall=pd.DataFrame(eval(weatherreq.content)['items'][0]['readings']).rename(columns={'value':'rainfall'})\n",
    "\n",
    "weather_df=weather_df.merge(station_rainfall,how='left',left_on='id',right_on='station_id')\n",
    "weather_df=weather_df.drop(['id','device_id','station_id','location'],axis=1)"
   ]
  },
  {
   "cell_type": "markdown",
   "id": "3f57eb31",
   "metadata": {},
   "source": [
    "Calculations and table joining\n"
   ]
  },
  {
   "cell_type": "code",
   "execution_count": 71,
   "id": "b684dad3",
   "metadata": {},
   "outputs": [],
   "source": [
    "traffic_image_df['key']=0\n",
    "traffic_incidents_df['key']=0\n",
    "weather_df['key']=0"
   ]
  },
  {
   "cell_type": "markdown",
   "id": "a229d800",
   "metadata": {},
   "source": [
    "Select incidents that occur within 500m of a camera location"
   ]
  },
  {
   "cell_type": "code",
   "execution_count": 72,
   "id": "7026b796",
   "metadata": {
    "scrolled": true
   },
   "outputs": [],
   "source": [
    "nearest_incidents=traffic_image_df.merge(traffic_incidents_df,'outer','key')\n",
    "nearest_incidents['incident_distance_from_id']=(np.vectorize(haversine)(nearest_incidents['Latitude_x'],nearest_incidents['Longitude_x'],nearest_incidents['Latitude_y'],nearest_incidents['Longitude_y']))\n",
    "nearest_incidents=nearest_incidents[nearest_incidents['incident_distance_from_id']<500].sort_values('incident_distance_from_id')\n",
    "nearest_incidents=nearest_incidents[['CameraID','Message']]"
   ]
  },
  {
   "cell_type": "markdown",
   "id": "af63f54b",
   "metadata": {},
   "source": [
    "Select nearest weather station for each camera id"
   ]
  },
  {
   "cell_type": "code",
   "execution_count": 73,
   "id": "5b5433cd",
   "metadata": {},
   "outputs": [],
   "source": [
    "final_df=traffic_image_df.merge(weather_df,'outer','key')\n",
    "final_df['distance_from_id']=(np.vectorize(haversine)(final_df['Latitude'],final_df['Longitude'],final_df['latitude'],final_df['longitude']))\n",
    "final_df=final_df.sort_values('distance_from_id').groupby('CameraID').head(1)[['CameraID','Latitude','Longitude','Region','rainfall','ImageLink','RoadName','Count','is_jam']]\n",
    "final_df=final_df.sort_values('CameraID').reset_index(drop=True)\n"
   ]
  },
  {
   "cell_type": "markdown",
   "id": "13f9a8da",
   "metadata": {},
   "source": [
    "Convert dataframes to CSV to be used in frontend"
   ]
  },
  {
   "cell_type": "code",
   "execution_count": 74,
   "id": "d55e86a3",
   "metadata": {},
   "outputs": [],
   "source": [
    "final_df.to_csv('main_df.csv',index=False)\n",
    "nearest_incidents.to_csv('traffic_incidents.csv',index=False)"
   ]
  },
  {
   "cell_type": "markdown",
   "id": "b1c8eb3e",
   "metadata": {},
   "source": [
    "# END"
   ]
  },
  {
   "cell_type": "code",
   "execution_count": 2,
   "id": "84ca1516",
   "metadata": {},
   "outputs": [],
   "source": [
    "import pandas as pd"
   ]
  },
  {
   "cell_type": "code",
   "execution_count": 3,
   "id": "6fd0466a",
   "metadata": {},
   "outputs": [
    {
     "data": {
      "text/plain": [
       "[{'name': 'East Coast Parkway (ECP)', 'lat': 1.29531332, 'lon': 103.871146},\n",
       " {'name': 'Pan-Island Expressway (PIE)',\n",
       "  'lat': 1.319541067,\n",
       "  'lon': 103.8785627},\n",
       " {'name': 'Pan-Island Expressway (PIE)',\n",
       "  'lat': 1.323957439,\n",
       "  'lon': 103.8728576},\n",
       " {'name': 'Kallang Way Flyover', 'lat': 1.319535712, 'lon': 103.8750668},\n",
       " {'name': 'Kallang-Paya Lebar Expressway (KPE)',\n",
       "  'lat': 1.363519886,\n",
       "  'lon': 103.905394},\n",
       " {'name': 'Kallang-Paya Lebar Expressway (KPE)',\n",
       "  'lat': 1.357098686,\n",
       "  'lon': 103.902042},\n",
       " {'name': 'Marina Coastal Expressway (MCE)',\n",
       "  'lat': 1.27414394350065,\n",
       "  'lon': 103.851316802547},\n",
       " {'name': 'Marina Coastal Expressway (MCE)',\n",
       "  'lat': 1.27135090682664,\n",
       "  'lon': 103.861828440597},\n",
       " {'name': 'Marina Coastal Expressway (MCE)',\n",
       "  'lat': 1.27066408655104,\n",
       "  'lon': 103.856977943394},\n",
       " {'name': 'Marina Coastal Expressway (MCE)',\n",
       "  'lat': 1.29409891409364,\n",
       "  'lon': 103.876056196568},\n",
       " {'name': 'Marina Coastal Expressway (MCE)',\n",
       "  'lat': 1.2752977149006,\n",
       "  'lon': 103.866390381759},\n",
       " {'name': 'Central Expressway (CTE)', 'lat': 1.323604823, 'lon': 103.8587802},\n",
       " {'name': 'Central Expressway (CTE)', 'lat': 1.34355015, 'lon': 103.8601984},\n",
       " {'name': 'Central Expressway (CTE)',\n",
       "  'lat': 1.32814722194857,\n",
       "  'lon': 103.862203282048},\n",
       " {'name': 'Central Expressway (CTE)',\n",
       "  'lat': 1.28569398886979,\n",
       "  'lon': 103.837524510188},\n",
       " {'name': 'Central Expressway (CTE)', 'lat': 1.375925022, 'lon': 103.8587986},\n",
       " {'name': 'Central Expressway (CTE)', 'lat': 1.38861, 'lon': 103.85806},\n",
       " {'name': 'Central Expressway (CTE)',\n",
       "  'lat': 1.28036584335876,\n",
       "  'lon': 103.830451146503},\n",
       " {'name': 'Central Expressway (CTE)',\n",
       "  'lat': 1.31384231654635,\n",
       "  'lon': 103.845603032574},\n",
       " {'name': 'Central Expressway (CTE)', 'lat': 1.35296, 'lon': 103.85719},\n",
       " {'name': 'Woodlands Causeway', 'lat': 1.447023728, 'lon': 103.7716543},\n",
       " {'name': 'Woodlands Checkpoint', 'lat': 1.445554109, 'lon': 103.7683397},\n",
       " {'name': 'Pan-Island Expressway (PIE)',\n",
       "  'lat': 1.35047790791386,\n",
       "  'lon': 103.791033581325},\n",
       " {'name': 'Bukit Timah Expressway (BKE)',\n",
       "  'lat': 1.429588536,\n",
       "  'lon': 103.769311},\n",
       " {'name': 'Bukit Timah Expressway (BKE)',\n",
       "  'lat': 1.36728572,\n",
       "  'lon': 103.7794698},\n",
       " {'name': 'Bukit Timah Expressway (BKE)', 'lat': 1.414142, 'lon': 103.771168},\n",
       " {'name': 'Bukit Timah Expressway (BKE)', 'lat': 1.3983, 'lon': 103.774247},\n",
       " {'name': 'Bukit Timah Expressway (BKE)', 'lat': 1.3865, 'lon': 103.7747},\n",
       " {'name': 'East Coast Parkway (ECP)', 'lat': 1.33831, 'lon': 103.98032},\n",
       " {'name': 'East Coast Parkway (ECP)',\n",
       "  'lat': 1.2958550156561,\n",
       "  'lon': 103.880314665981},\n",
       " {'name': 'East Coast Parkway (ECP)', 'lat': 1.32743, 'lon': 103.97383},\n",
       " {'name': 'East Coast Parkway (ECP)', 'lat': 1.309330837, 'lon': 103.9350504},\n",
       " {'name': 'East Coast Parkway (ECP)',\n",
       "  'lat': 1.30145145166066,\n",
       "  'lon': 103.910596320237},\n",
       " {'name': 'East Coast Parkway (ECP)', 'lat': 1.297512569, 'lon': 103.8983019},\n",
       " {'name': 'East Coast Parkway (ECP)',\n",
       "  'lat': 1.29565733262976,\n",
       "  'lon': 103.885283049309},\n",
       " {'name': 'East Coast Parkway (ECP)', 'lat': 1.29158484, 'lon': 103.8615987},\n",
       " {'name': 'Ayer Rajah Expressway (AYE)', 'lat': 1.2871, 'lon': 103.79633},\n",
       " {'name': 'Ayer Rajah Expressway (AYE)', 'lat': 1.27237, 'lon': 103.8324},\n",
       " {'name': 'Tuas Second Link', 'lat': 1.348697862, 'lon': 103.6350413},\n",
       " {'name': 'Ayer Rajah Expressway (AYE)', 'lat': 1.27877, 'lon': 103.82375},\n",
       " {'name': 'Ayer Rajah Expressway (AYE)', 'lat': 1.32618, 'lon': 103.73028},\n",
       " {'name': 'Ayer Rajah Expressway (AYE)', 'lat': 1.29792, 'lon': 103.78205},\n",
       " {'name': 'Ayer Rajah Expressway (AYE)', 'lat': 1.29939, 'lon': 103.7799},\n",
       " {'name': 'Ayer Rajah Expressway (AYE)', 'lat': 1.312019, 'lon': 103.763002},\n",
       " {'name': 'Ayer Rajah Expressway (AYE)', 'lat': 1.32153, 'lon': 103.75273},\n",
       " {'name': 'Ayer Rajah Expressway (AYE)',\n",
       "  'lat': 1.341244001,\n",
       "  'lon': 103.6439134},\n",
       " {'name': 'Tuas Checkpoint', 'lat': 1.347645829, 'lon': 103.6366955},\n",
       " {'name': 'Ayer Rajah Expressway (AYE)', 'lat': 1.31023, 'lon': 103.76438},\n",
       " {'name': 'Ayer Rajah Expressway (AYE)', 'lat': 1.32227, 'lon': 103.67453},\n",
       " {'name': 'Sentosa Gateway', 'lat': 1.25999999687243, 'lon': 103.823611110166},\n",
       " {'name': 'Sentosa Gateway', 'lat': 1.26027777363278, 'lon': 103.823888890049},\n",
       " {'name': 'Pan-Island Expressway (PIE)', 'lat': 1.3309693, 'lon': 103.9168616},\n",
       " {'name': 'Pan-Island Expressway (PIE)',\n",
       "  'lat': 1.326024822,\n",
       "  'lon': 103.905625},\n",
       " {'name': 'Pan-Island Expressway (PIE)',\n",
       "  'lat': 1.322875288,\n",
       "  'lon': 103.8910793},\n",
       " {'name': 'Pan-Island Expressway (PIE)',\n",
       "  'lat': 1.32036078126842,\n",
       "  'lon': 103.877174116489},\n",
       " {'name': 'Pan-Island Expressway (PIE)',\n",
       "  'lat': 1.328171608,\n",
       "  'lon': 103.8685191},\n",
       " {'name': 'Pan-Island Expressway (PIE)', 'lat': 1.329334, 'lon': 103.858222},\n",
       " {'name': 'Pan-Island Expressway (PIE)', 'lat': 1.328899, 'lon': 103.84121},\n",
       " {'name': 'Pan-Island Expressway (PIE)',\n",
       "  'lat': 1.32657403632366,\n",
       "  'lon': 103.826857295633},\n",
       " {'name': 'Pan-Island Expressway (PIE)', 'lat': 1.332124, 'lon': 103.81768},\n",
       " {'name': 'Pan-Island Expressway (PIE)',\n",
       "  'lat': 1.349428893,\n",
       "  'lon': 103.7952799},\n",
       " {'name': 'Pan-Island Expressway (PIE)', 'lat': 1.345996, 'lon': 103.69016},\n",
       " {'name': 'Pan-Island Expressway (PIE)', 'lat': 1.344205, 'lon': 103.78577},\n",
       " {'name': 'Pan-Island Expressway (PIE)', 'lat': 1.33771, 'lon': 103.977827},\n",
       " {'name': 'Pan-Island Expressway (PIE)', 'lat': 1.332691, 'lon': 103.770278},\n",
       " {'name': 'Pan-Island Expressway (PIE)', 'lat': 1.340298, 'lon': 103.945652},\n",
       " {'name': 'Pan-Island Expressway (PIE)', 'lat': 1.361742, 'lon': 103.703341},\n",
       " {'name': 'Pan-Island Expressway (PIE)', 'lat': 1.356299, 'lon': 103.716071},\n",
       " {'name': 'Ayer Rajah Expressway (AYE)', 'lat': 1.322893, 'lon': 103.6635051},\n",
       " {'name': 'Tampines Expressway (TPE)', 'lat': 1.354245, 'lon': 103.963782},\n",
       " {'name': 'Tampines Expressway (TPE)', 'lat': 1.37704704, 'lon': 103.92946983},\n",
       " {'name': 'Tampines Expressway (TPE)', 'lat': 1.37988658, 'lon': 103.92009174},\n",
       " {'name': 'Tampines Expressway (TPE)', 'lat': 1.38432741, 'lon': 103.91585701},\n",
       " {'name': 'Tampines Expressway (TPE)', 'lat': 1.39559294, 'lon': 103.90515712},\n",
       " {'name': 'Tampines Expressway (TPE)', 'lat': 1.40002575, 'lon': 103.85702534},\n",
       " {'name': 'Tampines Expressway (TPE)', 'lat': 1.39748842, 'lon': 103.85400467},\n",
       " {'name': 'Kranji Expressway (KJE)', 'lat': 1.38647, 'lon': 103.74143},\n",
       " {'name': 'Kranji Expressway (KJE)', 'lat': 1.39059, 'lon': 103.7717},\n",
       " {'name': 'Kranji Expressway (KJE)', 'lat': 1.3899, 'lon': 103.74843},\n",
       " {'name': 'Kranji Expressway (KJE)', 'lat': 1.3664, 'lon': 103.70899},\n",
       " {'name': 'Seletar Expressway (SLE)', 'lat': 1.39466333, 'lon': 103.83474601},\n",
       " {'name': 'Seletar Expressway (SLE)', 'lat': 1.39474081, 'lon': 103.81797086},\n",
       " {'name': 'Seletar Expressway (SLE)', 'lat': 1.422857, 'lon': 103.773005},\n",
       " {'name': 'Seletar Expressway (SLE)', 'lat': 1.42214311, 'lon': 103.79542062},\n",
       " {'name': 'Seletar Expressway (SLE)', 'lat': 1.42627712, 'lon': 103.78716637},\n",
       " {'name': 'Seletar Expressway (SLE)', 'lat': 1.41270056, 'lon': 103.80642712}]"
      ]
     },
     "execution_count": 3,
     "metadata": {},
     "output_type": "execute_result"
    }
   ],
   "source": [
    "main_df=pd.read_csv('main_df.csv')\n",
    "camera = []\n",
    "for i in range(len(main_df)):\n",
    "    d=dict(name = main_df.iloc[i,6], lat = main_df.iloc[i,1], lon = main_df.iloc[i,2])\n",
    "    camera.append(d)\n",
    "camera"
   ]
  },
  {
   "cell_type": "code",
   "execution_count": 10,
   "id": "b5e210ae",
   "metadata": {},
   "outputs": [],
   "source": [
    "# Create drop down options.\n",
    "dd_options = [dict(value=c[\"name\"], label=c[\"name\"]+'_') for c in camera]\n",
    "dd_defaults = [o[\"value\"] for o in dd_options]"
   ]
  },
  {
   "cell_type": "code",
   "execution_count": 11,
   "id": "72506832",
   "metadata": {},
   "outputs": [
    {
     "data": {
      "text/plain": [
       "[{'value': 'East Coast Parkway (ECP)', 'label': 'East Coast Parkway (ECP)lul'},\n",
       " {'value': 'Pan-Island Expressway (PIE)',\n",
       "  'label': 'Pan-Island Expressway (PIE)lul'},\n",
       " {'value': 'Pan-Island Expressway (PIE)',\n",
       "  'label': 'Pan-Island Expressway (PIE)lul'},\n",
       " {'value': 'Kallang Way Flyover', 'label': 'Kallang Way Flyoverlul'},\n",
       " {'value': 'Kallang-Paya Lebar Expressway (KPE)',\n",
       "  'label': 'Kallang-Paya Lebar Expressway (KPE)lul'},\n",
       " {'value': 'Kallang-Paya Lebar Expressway (KPE)',\n",
       "  'label': 'Kallang-Paya Lebar Expressway (KPE)lul'},\n",
       " {'value': 'Marina Coastal Expressway (MCE)',\n",
       "  'label': 'Marina Coastal Expressway (MCE)lul'},\n",
       " {'value': 'Marina Coastal Expressway (MCE)',\n",
       "  'label': 'Marina Coastal Expressway (MCE)lul'},\n",
       " {'value': 'Marina Coastal Expressway (MCE)',\n",
       "  'label': 'Marina Coastal Expressway (MCE)lul'},\n",
       " {'value': 'Marina Coastal Expressway (MCE)',\n",
       "  'label': 'Marina Coastal Expressway (MCE)lul'},\n",
       " {'value': 'Marina Coastal Expressway (MCE)',\n",
       "  'label': 'Marina Coastal Expressway (MCE)lul'},\n",
       " {'value': 'Central Expressway (CTE)', 'label': 'Central Expressway (CTE)lul'},\n",
       " {'value': 'Central Expressway (CTE)', 'label': 'Central Expressway (CTE)lul'},\n",
       " {'value': 'Central Expressway (CTE)', 'label': 'Central Expressway (CTE)lul'},\n",
       " {'value': 'Central Expressway (CTE)', 'label': 'Central Expressway (CTE)lul'},\n",
       " {'value': 'Central Expressway (CTE)', 'label': 'Central Expressway (CTE)lul'},\n",
       " {'value': 'Central Expressway (CTE)', 'label': 'Central Expressway (CTE)lul'},\n",
       " {'value': 'Central Expressway (CTE)', 'label': 'Central Expressway (CTE)lul'},\n",
       " {'value': 'Central Expressway (CTE)', 'label': 'Central Expressway (CTE)lul'},\n",
       " {'value': 'Central Expressway (CTE)', 'label': 'Central Expressway (CTE)lul'},\n",
       " {'value': 'Woodlands Causeway', 'label': 'Woodlands Causewaylul'},\n",
       " {'value': 'Woodlands Checkpoint', 'label': 'Woodlands Checkpointlul'},\n",
       " {'value': 'Pan-Island Expressway (PIE)',\n",
       "  'label': 'Pan-Island Expressway (PIE)lul'},\n",
       " {'value': 'Bukit Timah Expressway (BKE)',\n",
       "  'label': 'Bukit Timah Expressway (BKE)lul'},\n",
       " {'value': 'Bukit Timah Expressway (BKE)',\n",
       "  'label': 'Bukit Timah Expressway (BKE)lul'},\n",
       " {'value': 'Bukit Timah Expressway (BKE)',\n",
       "  'label': 'Bukit Timah Expressway (BKE)lul'},\n",
       " {'value': 'Bukit Timah Expressway (BKE)',\n",
       "  'label': 'Bukit Timah Expressway (BKE)lul'},\n",
       " {'value': 'Bukit Timah Expressway (BKE)',\n",
       "  'label': 'Bukit Timah Expressway (BKE)lul'},\n",
       " {'value': 'East Coast Parkway (ECP)', 'label': 'East Coast Parkway (ECP)lul'},\n",
       " {'value': 'East Coast Parkway (ECP)', 'label': 'East Coast Parkway (ECP)lul'},\n",
       " {'value': 'East Coast Parkway (ECP)', 'label': 'East Coast Parkway (ECP)lul'},\n",
       " {'value': 'East Coast Parkway (ECP)', 'label': 'East Coast Parkway (ECP)lul'},\n",
       " {'value': 'East Coast Parkway (ECP)', 'label': 'East Coast Parkway (ECP)lul'},\n",
       " {'value': 'East Coast Parkway (ECP)', 'label': 'East Coast Parkway (ECP)lul'},\n",
       " {'value': 'East Coast Parkway (ECP)', 'label': 'East Coast Parkway (ECP)lul'},\n",
       " {'value': 'East Coast Parkway (ECP)', 'label': 'East Coast Parkway (ECP)lul'},\n",
       " {'value': 'Ayer Rajah Expressway (AYE)',\n",
       "  'label': 'Ayer Rajah Expressway (AYE)lul'},\n",
       " {'value': 'Ayer Rajah Expressway (AYE)',\n",
       "  'label': 'Ayer Rajah Expressway (AYE)lul'},\n",
       " {'value': 'Tuas Second Link', 'label': 'Tuas Second Linklul'},\n",
       " {'value': 'Ayer Rajah Expressway (AYE)',\n",
       "  'label': 'Ayer Rajah Expressway (AYE)lul'},\n",
       " {'value': 'Ayer Rajah Expressway (AYE)',\n",
       "  'label': 'Ayer Rajah Expressway (AYE)lul'},\n",
       " {'value': 'Ayer Rajah Expressway (AYE)',\n",
       "  'label': 'Ayer Rajah Expressway (AYE)lul'},\n",
       " {'value': 'Ayer Rajah Expressway (AYE)',\n",
       "  'label': 'Ayer Rajah Expressway (AYE)lul'},\n",
       " {'value': 'Ayer Rajah Expressway (AYE)',\n",
       "  'label': 'Ayer Rajah Expressway (AYE)lul'},\n",
       " {'value': 'Ayer Rajah Expressway (AYE)',\n",
       "  'label': 'Ayer Rajah Expressway (AYE)lul'},\n",
       " {'value': 'Ayer Rajah Expressway (AYE)',\n",
       "  'label': 'Ayer Rajah Expressway (AYE)lul'},\n",
       " {'value': 'Tuas Checkpoint', 'label': 'Tuas Checkpointlul'},\n",
       " {'value': 'Ayer Rajah Expressway (AYE)',\n",
       "  'label': 'Ayer Rajah Expressway (AYE)lul'},\n",
       " {'value': 'Ayer Rajah Expressway (AYE)',\n",
       "  'label': 'Ayer Rajah Expressway (AYE)lul'},\n",
       " {'value': 'Sentosa Gateway', 'label': 'Sentosa Gatewaylul'},\n",
       " {'value': 'Sentosa Gateway', 'label': 'Sentosa Gatewaylul'},\n",
       " {'value': 'Pan-Island Expressway (PIE)',\n",
       "  'label': 'Pan-Island Expressway (PIE)lul'},\n",
       " {'value': 'Pan-Island Expressway (PIE)',\n",
       "  'label': 'Pan-Island Expressway (PIE)lul'},\n",
       " {'value': 'Pan-Island Expressway (PIE)',\n",
       "  'label': 'Pan-Island Expressway (PIE)lul'},\n",
       " {'value': 'Pan-Island Expressway (PIE)',\n",
       "  'label': 'Pan-Island Expressway (PIE)lul'},\n",
       " {'value': 'Pan-Island Expressway (PIE)',\n",
       "  'label': 'Pan-Island Expressway (PIE)lul'},\n",
       " {'value': 'Pan-Island Expressway (PIE)',\n",
       "  'label': 'Pan-Island Expressway (PIE)lul'},\n",
       " {'value': 'Pan-Island Expressway (PIE)',\n",
       "  'label': 'Pan-Island Expressway (PIE)lul'},\n",
       " {'value': 'Pan-Island Expressway (PIE)',\n",
       "  'label': 'Pan-Island Expressway (PIE)lul'},\n",
       " {'value': 'Pan-Island Expressway (PIE)',\n",
       "  'label': 'Pan-Island Expressway (PIE)lul'},\n",
       " {'value': 'Pan-Island Expressway (PIE)',\n",
       "  'label': 'Pan-Island Expressway (PIE)lul'},\n",
       " {'value': 'Pan-Island Expressway (PIE)',\n",
       "  'label': 'Pan-Island Expressway (PIE)lul'},\n",
       " {'value': 'Pan-Island Expressway (PIE)',\n",
       "  'label': 'Pan-Island Expressway (PIE)lul'},\n",
       " {'value': 'Pan-Island Expressway (PIE)',\n",
       "  'label': 'Pan-Island Expressway (PIE)lul'},\n",
       " {'value': 'Pan-Island Expressway (PIE)',\n",
       "  'label': 'Pan-Island Expressway (PIE)lul'},\n",
       " {'value': 'Pan-Island Expressway (PIE)',\n",
       "  'label': 'Pan-Island Expressway (PIE)lul'},\n",
       " {'value': 'Pan-Island Expressway (PIE)',\n",
       "  'label': 'Pan-Island Expressway (PIE)lul'},\n",
       " {'value': 'Pan-Island Expressway (PIE)',\n",
       "  'label': 'Pan-Island Expressway (PIE)lul'},\n",
       " {'value': 'Ayer Rajah Expressway (AYE)',\n",
       "  'label': 'Ayer Rajah Expressway (AYE)lul'},\n",
       " {'value': 'Tampines Expressway (TPE)',\n",
       "  'label': 'Tampines Expressway (TPE)lul'},\n",
       " {'value': 'Tampines Expressway (TPE)',\n",
       "  'label': 'Tampines Expressway (TPE)lul'},\n",
       " {'value': 'Tampines Expressway (TPE)',\n",
       "  'label': 'Tampines Expressway (TPE)lul'},\n",
       " {'value': 'Tampines Expressway (TPE)',\n",
       "  'label': 'Tampines Expressway (TPE)lul'},\n",
       " {'value': 'Tampines Expressway (TPE)',\n",
       "  'label': 'Tampines Expressway (TPE)lul'},\n",
       " {'value': 'Tampines Expressway (TPE)',\n",
       "  'label': 'Tampines Expressway (TPE)lul'},\n",
       " {'value': 'Tampines Expressway (TPE)',\n",
       "  'label': 'Tampines Expressway (TPE)lul'},\n",
       " {'value': 'Kranji Expressway (KJE)', 'label': 'Kranji Expressway (KJE)lul'},\n",
       " {'value': 'Kranji Expressway (KJE)', 'label': 'Kranji Expressway (KJE)lul'},\n",
       " {'value': 'Kranji Expressway (KJE)', 'label': 'Kranji Expressway (KJE)lul'},\n",
       " {'value': 'Kranji Expressway (KJE)', 'label': 'Kranji Expressway (KJE)lul'},\n",
       " {'value': 'Seletar Expressway (SLE)', 'label': 'Seletar Expressway (SLE)lul'},\n",
       " {'value': 'Seletar Expressway (SLE)', 'label': 'Seletar Expressway (SLE)lul'},\n",
       " {'value': 'Seletar Expressway (SLE)', 'label': 'Seletar Expressway (SLE)lul'},\n",
       " {'value': 'Seletar Expressway (SLE)', 'label': 'Seletar Expressway (SLE)lul'},\n",
       " {'value': 'Seletar Expressway (SLE)', 'label': 'Seletar Expressway (SLE)lul'},\n",
       " {'value': 'Seletar Expressway (SLE)', 'label': 'Seletar Expressway (SLE)lul'}]"
      ]
     },
     "execution_count": 11,
     "metadata": {},
     "output_type": "execute_result"
    }
   ],
   "source": [
    "dd_options\n"
   ]
  }
 ],
 "metadata": {
  "kernelspec": {
   "display_name": "Python 3.8.5 64-bit",
   "language": "python",
   "name": "python3"
  },
  "language_info": {
   "codemirror_mode": {
    "name": "ipython",
    "version": 3
   },
   "file_extension": ".py",
   "mimetype": "text/x-python",
   "name": "python",
   "nbconvert_exporter": "python",
   "pygments_lexer": "ipython3",
   "version": "3.8.5"
  },
  "vscode": {
   "interpreter": {
    "hash": "fb35dd890d68e096be9f14379b3a9284481e88885d0ed98f8469bd5ccd24451f"
   }
  }
 },
 "nbformat": 4,
 "nbformat_minor": 5
}
