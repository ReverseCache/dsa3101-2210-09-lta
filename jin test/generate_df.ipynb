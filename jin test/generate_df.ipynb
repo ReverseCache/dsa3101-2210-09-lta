{
 "cells": [
  {
   "cell_type": "markdown",
   "id": "642567a0",
   "metadata": {},
   "source": [
    "Set-up"
   ]
  },
  {
   "cell_type": "code",
   "execution_count": 64,
   "id": "5bbb65c4",
   "metadata": {},
   "outputs": [],
   "source": [
    "import requests\n",
    "import pandas as pd\n",
    "import numpy as np\n",
    "import urllib.request"
   ]
  },
  {
   "cell_type": "markdown",
   "id": "dbfac76e",
   "metadata": {},
   "source": [
    "Function to calculate distance given latitude and longitude"
   ]
  },
  {
   "cell_type": "code",
   "execution_count": 65,
   "id": "33c6fc2e",
   "metadata": {},
   "outputs": [],
   "source": [
    "from math import radians, cos, sin, asin, sqrt\n",
    "\n",
    "def haversine(lon1, lat1, lon2, lat2):\n",
    "\n",
    "    # convert decimal degrees to radians \n",
    "    lon1, lat1, lon2, lat2 = map(radians, [lon1, lat1, lon2, lat2])\n",
    "\n",
    "    # haversine formula \n",
    "    dlon = lon2 - lon1 \n",
    "    dlat = lat2 - lat1 \n",
    "    a = sin(dlat/2)**2 + cos(lat1) * cos(lat2) * sin(dlon/2)**2\n",
    "    c = 2 * asin(sqrt(a)) \n",
    "    r = 6371 # Radius of earth in kilometers. Use 3956 for miles. Determines return value units.\n",
    "    return c * r *1000"
   ]
  },
  {
   "cell_type": "markdown",
   "id": "b5115602",
   "metadata": {},
   "source": [
    "Get LTA camera id and images"
   ]
  },
  {
   "cell_type": "code",
   "execution_count": 66,
   "id": "dbe186c4",
   "metadata": {},
   "outputs": [],
   "source": [
    "traffic_image_url='http://datamall2.mytransport.sg/ltaodataservice/Traffic-Imagesv2'\n",
    "headers_val={'AccountKey':'AO4qMbK3S7CWKSlplQZqlA=='}\n",
    "traffic_image_req=requests.get(url=traffic_image_url,headers=headers_val)\n",
    "traffic_image_df=pd.DataFrame(eval(traffic_image_req.content)['value'])\n",
    "traffic_image_df['Count']=np.random.uniform(low=0, high=20, size=(len(traffic_image_df.index),)).astype(int)\n",
    "traffic_image_df['is_jam']=0\n",
    "traffic_image_df=traffic_image_df.merge(pd.read_csv('traffic_camera_region_RoadName.csv',converters={'CameraID':str}),'left','CameraID')"
   ]
  },
  {
   "cell_type": "markdown",
   "id": "f484d5d3",
   "metadata": {},
   "source": [
    "Get LTA incidents on Expressways"
   ]
  },
  {
   "cell_type": "code",
   "execution_count": 68,
   "id": "49a87654",
   "metadata": {},
   "outputs": [],
   "source": [
    "traffic_incidents_url='http://datamall2.mytransport.sg/ltaodataservice/TrafficIncidents'\n",
    "traffic_incidents_req=requests.get(url=traffic_incidents_url,headers=headers_val)\n",
    "traffic_incidents_df=pd.DataFrame(eval(traffic_incidents_req.content)['value'])\n",
    "incidents_roads=['AYE','BKE','CTE','ECP','KJE','KPE','MCE','PIE','SLE','TPE','Sentosa','Tuas','Woodlands']\n",
    "traffic_incidents_df=traffic_incidents_df[traffic_incidents_df['Message'].apply(lambda x: any(expressway in x for expressway in incidents_roads))]"
   ]
  },
  {
   "cell_type": "markdown",
   "id": "77c0a431",
   "metadata": {},
   "source": [
    "NEA API to get rainfall in mm"
   ]
  },
  {
   "cell_type": "code",
   "execution_count": 70,
   "id": "2f96d8a8",
   "metadata": {},
   "outputs": [],
   "source": [
    "weatherreq=requests.get(url='https://api.data.gov.sg/v1/environment/rainfall')\n",
    "weather_df=pd.DataFrame(eval(weatherreq.content)['metadata']['stations'])\n",
    "\n",
    "weather_df['latitude']=weather_df['location'].apply(lambda x: x['latitude'])\n",
    "weather_df['longitude']=weather_df['location'].apply(lambda x: x['longitude'])\n",
    "weather_df['timestamp']=eval(weatherreq.content)['items'][0]['timestamp']\n",
    "weather_df['timestamp']=pd.to_datetime(weather_df['timestamp'])\n",
    "\n",
    "station_rainfall=pd.DataFrame(eval(weatherreq.content)['items'][0]['readings']).rename(columns={'value':'rainfall'})\n",
    "\n",
    "weather_df=weather_df.merge(station_rainfall,how='left',left_on='id',right_on='station_id')\n",
    "weather_df=weather_df.drop(['id','device_id','station_id','location'],axis=1)"
   ]
  },
  {
   "cell_type": "markdown",
   "id": "3f57eb31",
   "metadata": {},
   "source": [
    "Calculations and table joining\n"
   ]
  },
  {
   "cell_type": "code",
   "execution_count": 71,
   "id": "b684dad3",
   "metadata": {},
   "outputs": [],
   "source": [
    "traffic_image_df['key']=0\n",
    "traffic_incidents_df['key']=0\n",
    "weather_df['key']=0"
   ]
  },
  {
   "cell_type": "markdown",
   "id": "a229d800",
   "metadata": {},
   "source": [
    "Select incidents that occur within 500m of a camera location"
   ]
  },
  {
   "cell_type": "code",
   "execution_count": 72,
   "id": "7026b796",
   "metadata": {
    "scrolled": true
   },
   "outputs": [],
   "source": [
    "nearest_incidents=traffic_image_df.merge(traffic_incidents_df,'outer','key')\n",
    "nearest_incidents['incident_distance_from_id']=(np.vectorize(haversine)(nearest_incidents['Latitude_x'],nearest_incidents['Longitude_x'],nearest_incidents['Latitude_y'],nearest_incidents['Longitude_y']))\n",
    "nearest_incidents=nearest_incidents[nearest_incidents['incident_distance_from_id']<500].sort_values('incident_distance_from_id')\n",
    "nearest_incidents=nearest_incidents[['CameraID','Message']]"
   ]
  },
  {
   "cell_type": "markdown",
   "id": "af63f54b",
   "metadata": {},
   "source": [
    "Select nearest weather station for each camera id"
   ]
  },
  {
   "cell_type": "code",
   "execution_count": 73,
   "id": "5b5433cd",
   "metadata": {},
   "outputs": [],
   "source": [
    "final_df=traffic_image_df.merge(weather_df,'outer','key')\n",
    "final_df['distance_from_id']=(np.vectorize(haversine)(final_df['Latitude'],final_df['Longitude'],final_df['latitude'],final_df['longitude']))\n",
    "final_df=final_df.sort_values('distance_from_id').groupby('CameraID').head(1)[['CameraID','Latitude','Longitude','Region','rainfall','ImageLink','RoadName','Count','is_jam']]\n",
    "final_df=final_df.sort_values('CameraID').reset_index(drop=True)\n"
   ]
  },
  {
   "cell_type": "markdown",
   "id": "13f9a8da",
   "metadata": {},
   "source": [
    "Convert dataframes to CSV to be used in frontend"
   ]
  },
  {
   "cell_type": "code",
   "execution_count": 74,
   "id": "d55e86a3",
   "metadata": {},
   "outputs": [],
   "source": [
    "final_df.to_csv('main_df.csv',index=False)\n",
    "nearest_incidents.to_csv('traffic_incidents.csv',index=False)"
   ]
  },
  {
   "cell_type": "markdown",
   "id": "b1c8eb3e",
   "metadata": {},
   "source": [
    "# END"
   ]
  },
  {
   "cell_type": "code",
   "execution_count": 1,
   "id": "84ca1516",
   "metadata": {},
   "outputs": [],
   "source": [
    "import pandas as pd"
   ]
  },
  {
   "cell_type": "code",
   "execution_count": null,
   "id": "6fd0466a",
   "metadata": {},
   "outputs": [],
   "source": [
    "main_df=pd.read_csv('main_df.csv')\n",
    "camera = []\n",
    "for i in range(len(main_df)):\n",
    "    d=dict(name = main_df.iloc[i,6], lat = main_df.iloc[i,1], lon = main_df.iloc[i,2])\n",
    "    camera.append(d)\n",
    "camera"
   ]
  },
  {
   "cell_type": "code",
   "execution_count": 10,
   "id": "b5e210ae",
   "metadata": {},
   "outputs": [],
   "source": [
    "# Create drop down options.\n",
    "dd_options = [dict(value=c[\"name\"], label=c[\"name\"]+'_') for c in camera]\n",
    "dd_defaults = [o[\"value\"] for o in dd_options]"
   ]
  },
  {
   "cell_type": "code",
   "execution_count": 5,
   "id": "72506832",
   "metadata": {},
   "outputs": [
    {
     "data": {
      "text/plain": [
       "[[1001, 'East Coast Parkway (ECP)'],\n",
       " [1002, 'Pan-Island Expressway (PIE)'],\n",
       " [1003, 'Pan-Island Expressway (PIE)'],\n",
       " [1004, 'Kallang Way Flyover'],\n",
       " [1005, 'Kallang-Paya Lebar Expressway (KPE)'],\n",
       " [1006, 'Kallang-Paya Lebar Expressway (KPE)'],\n",
       " [1501, 'Marina Coastal Expressway (MCE)'],\n",
       " [1502, 'Marina Coastal Expressway (MCE)'],\n",
       " [1503, 'Marina Coastal Expressway (MCE)'],\n",
       " [1504, 'Marina Coastal Expressway (MCE)'],\n",
       " [1505, 'Marina Coastal Expressway (MCE)'],\n",
       " [1701, 'Central Expressway (CTE)'],\n",
       " [1702, 'Central Expressway (CTE)'],\n",
       " [1703, 'Central Expressway (CTE)'],\n",
       " [1704, 'Central Expressway (CTE)'],\n",
       " [1705, 'Central Expressway (CTE)'],\n",
       " [1706, 'Central Expressway (CTE)'],\n",
       " [1707, 'Central Expressway (CTE)'],\n",
       " [1709, 'Central Expressway (CTE)'],\n",
       " [1711, 'Central Expressway (CTE)'],\n",
       " [2701, 'Woodlands Causeway'],\n",
       " [2702, 'Woodlands Checkpoint'],\n",
       " [2703, 'Pan-Island Expressway (PIE)'],\n",
       " [2704, 'Bukit Timah Expressway (BKE)'],\n",
       " [2705, 'Bukit Timah Expressway (BKE)'],\n",
       " [2706, 'Bukit Timah Expressway (BKE)'],\n",
       " [2707, 'Bukit Timah Expressway (BKE)'],\n",
       " [2708, 'Bukit Timah Expressway (BKE)'],\n",
       " [3702, 'East Coast Parkway (ECP)'],\n",
       " [3704, 'East Coast Parkway (ECP)'],\n",
       " [3705, 'East Coast Parkway (ECP)'],\n",
       " [3793, 'East Coast Parkway (ECP)'],\n",
       " [3795, 'East Coast Parkway (ECP)'],\n",
       " [3796, 'East Coast Parkway (ECP)'],\n",
       " [3797, 'East Coast Parkway (ECP)'],\n",
       " [3798, 'East Coast Parkway (ECP)'],\n",
       " [4701, 'Ayer Rajah Expressway (AYE)'],\n",
       " [4702, 'Ayer Rajah Expressway (AYE)'],\n",
       " [4703, 'Tuas Second Link'],\n",
       " [4704, 'Ayer Rajah Expressway (AYE)'],\n",
       " [4705, 'Ayer Rajah Expressway (AYE)'],\n",
       " [4706, 'Ayer Rajah Expressway (AYE)'],\n",
       " [4708, 'Ayer Rajah Expressway (AYE)'],\n",
       " [4709, 'Ayer Rajah Expressway (AYE)'],\n",
       " [4710, 'Ayer Rajah Expressway (AYE)'],\n",
       " [4712, 'Ayer Rajah Expressway (AYE)'],\n",
       " [4713, 'Tuas Checkpoint'],\n",
       " [4714, 'Ayer Rajah Expressway (AYE)'],\n",
       " [4716, 'Ayer Rajah Expressway (AYE)'],\n",
       " [4798, 'Sentosa Gateway'],\n",
       " [4799, 'Sentosa Gateway'],\n",
       " [5794, 'Pan-Island Expressway (PIE)'],\n",
       " [5795, 'Pan-Island Expressway (PIE)'],\n",
       " [5797, 'Pan-Island Expressway (PIE)'],\n",
       " [5798, 'Pan-Island Expressway (PIE)'],\n",
       " [5799, 'Pan-Island Expressway (PIE)'],\n",
       " [6701, 'Pan-Island Expressway (PIE)'],\n",
       " [6703, 'Pan-Island Expressway (PIE)'],\n",
       " [6704, 'Pan-Island Expressway (PIE)'],\n",
       " [6705, 'Pan-Island Expressway (PIE)'],\n",
       " [6706, 'Pan-Island Expressway (PIE)'],\n",
       " [6708, 'Pan-Island Expressway (PIE)'],\n",
       " [6710, 'Pan-Island Expressway (PIE)'],\n",
       " [6711, 'Pan-Island Expressway (PIE)'],\n",
       " [6712, 'Pan-Island Expressway (PIE)'],\n",
       " [6713, 'Pan-Island Expressway (PIE)'],\n",
       " [6714, 'Pan-Island Expressway (PIE)'],\n",
       " [6715, 'Pan-Island Expressway (PIE)'],\n",
       " [6716, 'Ayer Rajah Expressway (AYE)'],\n",
       " [7791, 'Tampines Expressway (TPE)'],\n",
       " [7793, 'Tampines Expressway (TPE)'],\n",
       " [7794, 'Tampines Expressway (TPE)'],\n",
       " [7795, 'Tampines Expressway (TPE)'],\n",
       " [7796, 'Tampines Expressway (TPE)'],\n",
       " [7797, 'Tampines Expressway (TPE)'],\n",
       " [7798, 'Tampines Expressway (TPE)'],\n",
       " [8701, 'Kranji Expressway (KJE)'],\n",
       " [8702, 'Kranji Expressway (KJE)'],\n",
       " [8704, 'Kranji Expressway (KJE)'],\n",
       " [8706, 'Kranji Expressway (KJE)'],\n",
       " [9701, 'Seletar Expressway (SLE)'],\n",
       " [9702, 'Seletar Expressway (SLE)'],\n",
       " [9703, 'Seletar Expressway (SLE)'],\n",
       " [9704, 'Seletar Expressway (SLE)'],\n",
       " [9705, 'Seletar Expressway (SLE)'],\n",
       " [9706, 'Seletar Expressway (SLE)']]"
      ]
     },
     "execution_count": 5,
     "metadata": {},
     "output_type": "execute_result"
    }
   ],
   "source": [
    "relevant_camera_options=main_df[['CameraID', 'RoadName']].values.tolist()\n",
    "relevant_camera_options"
   ]
  },
  {
   "cell_type": "code",
   "execution_count": 10,
   "id": "5fa012e9",
   "metadata": {},
   "outputs": [
    {
     "data": {
      "text/plain": [
       "[{'label': 'East Coast Parkway (ECP)_1001', 'value': 1001},\n",
       " {'label': 'Pan-Island Expressway (PIE)_1002', 'value': 1002},\n",
       " {'label': 'Pan-Island Expressway (PIE)_1003', 'value': 1003},\n",
       " {'label': 'Kallang Way Flyover_1004', 'value': 1004},\n",
       " {'label': 'Kallang-Paya Lebar Expressway (KPE)_1005', 'value': 1005},\n",
       " {'label': 'Kallang-Paya Lebar Expressway (KPE)_1006', 'value': 1006},\n",
       " {'label': 'Marina Coastal Expressway (MCE)_1501', 'value': 1501},\n",
       " {'label': 'Marina Coastal Expressway (MCE)_1502', 'value': 1502},\n",
       " {'label': 'Marina Coastal Expressway (MCE)_1503', 'value': 1503},\n",
       " {'label': 'Marina Coastal Expressway (MCE)_1504', 'value': 1504},\n",
       " {'label': 'Marina Coastal Expressway (MCE)_1505', 'value': 1505},\n",
       " {'label': 'Central Expressway (CTE)_1701', 'value': 1701},\n",
       " {'label': 'Central Expressway (CTE)_1702', 'value': 1702},\n",
       " {'label': 'Central Expressway (CTE)_1703', 'value': 1703},\n",
       " {'label': 'Central Expressway (CTE)_1704', 'value': 1704},\n",
       " {'label': 'Central Expressway (CTE)_1705', 'value': 1705},\n",
       " {'label': 'Central Expressway (CTE)_1706', 'value': 1706},\n",
       " {'label': 'Central Expressway (CTE)_1707', 'value': 1707},\n",
       " {'label': 'Central Expressway (CTE)_1709', 'value': 1709},\n",
       " {'label': 'Central Expressway (CTE)_1711', 'value': 1711},\n",
       " {'label': 'Woodlands Causeway_2701', 'value': 2701},\n",
       " {'label': 'Woodlands Checkpoint_2702', 'value': 2702},\n",
       " {'label': 'Pan-Island Expressway (PIE)_2703', 'value': 2703},\n",
       " {'label': 'Bukit Timah Expressway (BKE)_2704', 'value': 2704},\n",
       " {'label': 'Bukit Timah Expressway (BKE)_2705', 'value': 2705},\n",
       " {'label': 'Bukit Timah Expressway (BKE)_2706', 'value': 2706},\n",
       " {'label': 'Bukit Timah Expressway (BKE)_2707', 'value': 2707},\n",
       " {'label': 'Bukit Timah Expressway (BKE)_2708', 'value': 2708},\n",
       " {'label': 'East Coast Parkway (ECP)_3702', 'value': 3702},\n",
       " {'label': 'East Coast Parkway (ECP)_3704', 'value': 3704},\n",
       " {'label': 'East Coast Parkway (ECP)_3705', 'value': 3705},\n",
       " {'label': 'East Coast Parkway (ECP)_3793', 'value': 3793},\n",
       " {'label': 'East Coast Parkway (ECP)_3795', 'value': 3795},\n",
       " {'label': 'East Coast Parkway (ECP)_3796', 'value': 3796},\n",
       " {'label': 'East Coast Parkway (ECP)_3797', 'value': 3797},\n",
       " {'label': 'East Coast Parkway (ECP)_3798', 'value': 3798},\n",
       " {'label': 'Ayer Rajah Expressway (AYE)_4701', 'value': 4701},\n",
       " {'label': 'Ayer Rajah Expressway (AYE)_4702', 'value': 4702},\n",
       " {'label': 'Tuas Second Link_4703', 'value': 4703},\n",
       " {'label': 'Ayer Rajah Expressway (AYE)_4704', 'value': 4704},\n",
       " {'label': 'Ayer Rajah Expressway (AYE)_4705', 'value': 4705},\n",
       " {'label': 'Ayer Rajah Expressway (AYE)_4706', 'value': 4706},\n",
       " {'label': 'Ayer Rajah Expressway (AYE)_4708', 'value': 4708},\n",
       " {'label': 'Ayer Rajah Expressway (AYE)_4709', 'value': 4709},\n",
       " {'label': 'Ayer Rajah Expressway (AYE)_4710', 'value': 4710},\n",
       " {'label': 'Ayer Rajah Expressway (AYE)_4712', 'value': 4712},\n",
       " {'label': 'Tuas Checkpoint_4713', 'value': 4713},\n",
       " {'label': 'Ayer Rajah Expressway (AYE)_4714', 'value': 4714},\n",
       " {'label': 'Ayer Rajah Expressway (AYE)_4716', 'value': 4716},\n",
       " {'label': 'Sentosa Gateway_4798', 'value': 4798},\n",
       " {'label': 'Sentosa Gateway_4799', 'value': 4799},\n",
       " {'label': 'Pan-Island Expressway (PIE)_5794', 'value': 5794},\n",
       " {'label': 'Pan-Island Expressway (PIE)_5795', 'value': 5795},\n",
       " {'label': 'Pan-Island Expressway (PIE)_5797', 'value': 5797},\n",
       " {'label': 'Pan-Island Expressway (PIE)_5798', 'value': 5798},\n",
       " {'label': 'Pan-Island Expressway (PIE)_5799', 'value': 5799},\n",
       " {'label': 'Pan-Island Expressway (PIE)_6701', 'value': 6701},\n",
       " {'label': 'Pan-Island Expressway (PIE)_6703', 'value': 6703},\n",
       " {'label': 'Pan-Island Expressway (PIE)_6704', 'value': 6704},\n",
       " {'label': 'Pan-Island Expressway (PIE)_6705', 'value': 6705},\n",
       " {'label': 'Pan-Island Expressway (PIE)_6706', 'value': 6706},\n",
       " {'label': 'Pan-Island Expressway (PIE)_6708', 'value': 6708},\n",
       " {'label': 'Pan-Island Expressway (PIE)_6710', 'value': 6710},\n",
       " {'label': 'Pan-Island Expressway (PIE)_6711', 'value': 6711},\n",
       " {'label': 'Pan-Island Expressway (PIE)_6712', 'value': 6712},\n",
       " {'label': 'Pan-Island Expressway (PIE)_6713', 'value': 6713},\n",
       " {'label': 'Pan-Island Expressway (PIE)_6714', 'value': 6714},\n",
       " {'label': 'Pan-Island Expressway (PIE)_6715', 'value': 6715},\n",
       " {'label': 'Ayer Rajah Expressway (AYE)_6716', 'value': 6716},\n",
       " {'label': 'Tampines Expressway (TPE)_7791', 'value': 7791},\n",
       " {'label': 'Tampines Expressway (TPE)_7793', 'value': 7793},\n",
       " {'label': 'Tampines Expressway (TPE)_7794', 'value': 7794},\n",
       " {'label': 'Tampines Expressway (TPE)_7795', 'value': 7795},\n",
       " {'label': 'Tampines Expressway (TPE)_7796', 'value': 7796},\n",
       " {'label': 'Tampines Expressway (TPE)_7797', 'value': 7797},\n",
       " {'label': 'Tampines Expressway (TPE)_7798', 'value': 7798},\n",
       " {'label': 'Kranji Expressway (KJE)_8701', 'value': 8701},\n",
       " {'label': 'Kranji Expressway (KJE)_8702', 'value': 8702},\n",
       " {'label': 'Kranji Expressway (KJE)_8704', 'value': 8704},\n",
       " {'label': 'Kranji Expressway (KJE)_8706', 'value': 8706},\n",
       " {'label': 'Seletar Expressway (SLE)_9701', 'value': 9701},\n",
       " {'label': 'Seletar Expressway (SLE)_9702', 'value': 9702},\n",
       " {'label': 'Seletar Expressway (SLE)_9703', 'value': 9703},\n",
       " {'label': 'Seletar Expressway (SLE)_9704', 'value': 9704},\n",
       " {'label': 'Seletar Expressway (SLE)_9705', 'value': 9705},\n",
       " {'label': 'Seletar Expressway (SLE)_9706', 'value': 9706}]"
      ]
     },
     "execution_count": 10,
     "metadata": {},
     "output_type": "execute_result"
    }
   ],
   "source": [
    "formatted_relevant_camera_options = [{'label':x[1]+'_'+str(x[0]), 'value':x[0]} for x in relevant_camera_options]\n",
    "formatted_relevant_camera_options"
   ]
  }
 ],
 "metadata": {
  "kernelspec": {
   "display_name": "Python 3.8.5 64-bit",
   "language": "python",
   "name": "python3"
  },
  "language_info": {
   "codemirror_mode": {
    "name": "ipython",
    "version": 3
   },
   "file_extension": ".py",
   "mimetype": "text/x-python",
   "name": "python",
   "nbconvert_exporter": "python",
   "pygments_lexer": "ipython3",
   "version": "3.8.5"
  },
  "vscode": {
   "interpreter": {
    "hash": "fb35dd890d68e096be9f14379b3a9284481e88885d0ed98f8469bd5ccd24451f"
   }
  }
 },
 "nbformat": 4,
 "nbformat_minor": 5
}
