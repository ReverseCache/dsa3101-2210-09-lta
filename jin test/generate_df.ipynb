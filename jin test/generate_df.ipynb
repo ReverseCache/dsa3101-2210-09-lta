{
 "cells": [
  {
   "cell_type": "code",
   "execution_count": 1,
   "id": "5bbb65c4",
   "metadata": {},
   "outputs": [],
   "source": [
    "import requests\n",
    "import pandas as pd\n",
    "import numpy as np\n",
    "import urllib.request"
   ]
  },
  {
   "cell_type": "code",
   "execution_count": 2,
   "id": "33c6fc2e",
   "metadata": {},
   "outputs": [],
   "source": [
    "from math import radians, cos, sin, asin, sqrt\n",
    "\n",
    "def haversine(lon1, lat1, lon2, lat2):\n",
    "\n",
    "    # convert decimal degrees to radians \n",
    "    lon1, lat1, lon2, lat2 = map(radians, [lon1, lat1, lon2, lat2])\n",
    "\n",
    "    # haversine formula \n",
    "    dlon = lon2 - lon1 \n",
    "    dlat = lat2 - lat1 \n",
    "    a = sin(dlat/2)**2 + cos(lat1) * cos(lat2) * sin(dlon/2)**2\n",
    "    c = 2 * asin(sqrt(a)) \n",
    "    r = 6371 # Radius of earth in kilometers. Use 3956 for miles. Determines return value units.\n",
    "    return c * r *1000"
   ]
  },
  {
   "cell_type": "code",
   "execution_count": 3,
   "id": "28f7fb9d",
   "metadata": {},
   "outputs": [],
   "source": [
    "def location_splitter(location):\n",
    "    location=location.split(' ')\n",
    "    return location[0],location[1],location[2],location[3]"
   ]
  },
  {
   "cell_type": "code",
   "execution_count": 11,
   "id": "884222b5",
   "metadata": {},
   "outputs": [],
   "source": [
    "def roadnamegrabber(latitude,longitude):\n",
    "    tempResponse=requests.get('https://developers.onemap.sg/privateapi/commonsvc/revgeocode?location=%s,%s&token=%s&buffer=100&addressType=all'%(str(latitude),str(longitude),onemapAPItoken))\n",
    "    name=pd.DataFrame(eval(tempResponse.content)['GeocodeInfo'])['ROAD'].mode()[0]\n",
    "    return name.replace('S','s').title()"
   ]
  },
  {
   "cell_type": "code",
   "execution_count": 25,
   "id": "dbe186c4",
   "metadata": {},
   "outputs": [],
   "source": [
    "traffic_image_url='http://datamall2.mytransport.sg/ltaodataservice/Traffic-Imagesv2'\n",
    "headers_val={'AccountKey':'AO4qMbK3S7CWKSlplQZqlA=='}\n",
    "traffic_image_req=requests.get(url=traffic_image_url,headers=headers_val)\n",
    "traffic_image_df=pd.DataFrame(eval(traffic_image_req.content)['value'])"
   ]
  },
  {
   "cell_type": "code",
   "execution_count": 26,
   "id": "6e528876",
   "metadata": {},
   "outputs": [],
   "source": [
    "traffic_image_df=traffic_image_df.merge(pd.read_csv('traffic_camera_region.csv',converters={'CameraID':str}),'left','CameraID')"
   ]
  },
  {
   "cell_type": "code",
   "execution_count": 6,
   "id": "d7beae03",
   "metadata": {},
   "outputs": [],
   "source": [
    "# traffic_speed_url='http://datamall2.mytransport.sg/ltaodataservice/TrafficSpeedBandsv2'\n",
    "# traffic_speed_req=requests.get(url=traffic_speed_url,headers=headers_val)\n",
    "# traffic_speed_df=pd.DataFrame(eval(traffic_speed_req.content)['value'])\n",
    "# road_category_letter=['A','B','C','D','E','F','G']\n",
    "# road_category_type=['Expressways','Major Arterial Roads','Arterial Roads','Minor Arterial Roads','Small Roads','Slip Roads','No category info available']\n",
    "# category_mapping=pd.DataFrame({'RoadCategory':road_category_letter,'category':road_category_type})\n",
    "# traffic_speed_df=traffic_speed_df.merge(category_mapping,'left','RoadCategory')\n",
    "# traffic_speed_df['start_latitude'],traffic_speed_df['start_longitude'],traffic_speed_df['end_latitude'],traffic_speed_df['end_longitude']=np.vectorize(location_splitter)(traffic_speed_df['Location'])\n",
    "# traffic_speed_df=traffic_speed_df.drop(['LinkID','RoadCategory','SpeedBand','MaximumSpeed','Location'],axis=1)\n",
    "# traffic_speed_df=traffic_speed_df.astype({'start_latitude':float,'start_longitude':float,'end_latitude':float,'end_longitude':float})"
   ]
  },
  {
   "cell_type": "code",
   "execution_count": 27,
   "id": "49a87654",
   "metadata": {},
   "outputs": [],
   "source": [
    "traffic_incidents_url='http://datamall2.mytransport.sg/ltaodataservice/TrafficIncidents'\n",
    "traffic_incidents_req=requests.get(url=traffic_incidents_url,headers=headers_val)\n",
    "traffic_incidents_df=pd.DataFrame(eval(traffic_incidents_req.content)['value'])\n"
   ]
  },
  {
   "cell_type": "markdown",
   "id": "77c0a431",
   "metadata": {},
   "source": [
    "# NEA API\n",
    "For some reason this one need to constantly call and keep track of previous results. Sometimes calls does not return all data.\n",
    "Some names are given as S123, etc, looking to try OneMap reverse geocoding to get road name from lat long."
   ]
  },
  {
   "cell_type": "code",
   "execution_count": 28,
   "id": "2f96d8a8",
   "metadata": {},
   "outputs": [],
   "source": [
    "weatherreq=requests.get(url='https://api.data.gov.sg/v1/environment/rainfall')\n",
    "weather_df=pd.DataFrame(eval(weatherreq.content)['metadata']['stations'])\n",
    "\n",
    "weather_df['latitude']=weather_df['location'].apply(lambda x: x['latitude'])\n",
    "weather_df['longitude']=weather_df['location'].apply(lambda x: x['longitude'])\n",
    "weather_df['timestamp']=eval(weatherreq.content)['items'][0]['timestamp']\n",
    "weather_df['timestamp']=pd.to_datetime(weather_df['timestamp'])\n",
    "\n",
    "station_rainfall=pd.DataFrame(eval(weatherreq.content)['items'][0]['readings']).rename(columns={'value':'rainfall'})\n",
    "\n",
    "weather_df=weather_df.merge(station_rainfall,how='left',left_on='id',right_on='station_id')\n",
    "weather_df=weather_df.drop(['id','device_id','station_id','location'],axis=1)"
   ]
  },
  {
   "cell_type": "markdown",
   "id": "7c15ff4e",
   "metadata": {},
   "source": [
    "# Onemap"
   ]
  },
  {
   "cell_type": "code",
   "execution_count": 29,
   "id": "c8ce6866",
   "metadata": {},
   "outputs": [],
   "source": [
    "onemapTokenAPIResponse=requests.post('https://developers.onemap.sg/privateapi/auth/post/getToken',json={'email':'leejin@u.nus.edu','password':'Whysohardtochange123!'})#.content\n",
    "onemapAPItoken=eval(onemapTokenAPIResponse.content)['access_token']"
   ]
  },
  {
   "cell_type": "markdown",
   "id": "3f57eb31",
   "metadata": {},
   "source": [
    "# Calculations\n"
   ]
  },
  {
   "cell_type": "code",
   "execution_count": 36,
   "id": "b684dad3",
   "metadata": {},
   "outputs": [],
   "source": [
    "traffic_image_df['key']=0\n",
    "traffic_incidents_df['key']=0\n",
    "weather_df['key']=0"
   ]
  },
  {
   "cell_type": "code",
   "execution_count": 38,
   "id": "7026b796",
   "metadata": {
    "scrolled": true
   },
   "outputs": [],
   "source": [
    "nearest_incidents=traffic_image_df.merge(traffic_incidents_df,'outer','key')\n",
    "nearest_incidents['incident_distance_from_id']=(np.vectorize(haversine)(nearest_incidents['Latitude_x'],nearest_incidents['Longitude_x'],nearest_incidents['Latitude_y'],nearest_incidents['Longitude_y']))\n",
    "nearest_incidents=nearest_incidents[nearest_incidents['incident_distance_from_id']<500].sort_values('incident_distance_from_id')\n",
    "nearest_incidents=nearest_incidents[['CameraID','Message']]"
   ]
  },
  {
   "cell_type": "code",
   "execution_count": 43,
   "id": "936d8da1",
   "metadata": {},
   "outputs": [
    {
     "data": {
      "text/html": [
       "<div>\n",
       "<style scoped>\n",
       "    .dataframe tbody tr th:only-of-type {\n",
       "        vertical-align: middle;\n",
       "    }\n",
       "\n",
       "    .dataframe tbody tr th {\n",
       "        vertical-align: top;\n",
       "    }\n",
       "\n",
       "    .dataframe thead th {\n",
       "        text-align: right;\n",
       "    }\n",
       "</style>\n",
       "<table border=\"1\" class=\"dataframe\">\n",
       "  <thead>\n",
       "    <tr style=\"text-align: right;\">\n",
       "      <th></th>\n",
       "      <th>CameraID</th>\n",
       "      <th>Latitude</th>\n",
       "      <th>Longitude</th>\n",
       "      <th>Region</th>\n",
       "      <th>rainfall</th>\n",
       "      <th>ImageLink</th>\n",
       "      <th>Count</th>\n",
       "    </tr>\n",
       "  </thead>\n",
       "  <tbody>\n",
       "    <tr>\n",
       "      <th>853</th>\n",
       "      <td>1701</td>\n",
       "      <td>1.323605</td>\n",
       "      <td>103.858780</td>\n",
       "      <td>Central</td>\n",
       "      <td>0</td>\n",
       "      <td>https://dm-traffic-camera-itsc.s3.ap-southeast...</td>\n",
       "      <td>94</td>\n",
       "    </tr>\n",
       "    <tr>\n",
       "      <th>2322</th>\n",
       "      <td>3795</td>\n",
       "      <td>1.301451</td>\n",
       "      <td>103.910596</td>\n",
       "      <td>Central</td>\n",
       "      <td>0</td>\n",
       "      <td>https://dm-traffic-camera-itsc.s3.ap-southeast...</td>\n",
       "      <td>71</td>\n",
       "    </tr>\n",
       "    <tr>\n",
       "      <th>2964</th>\n",
       "      <td>4706</td>\n",
       "      <td>1.297920</td>\n",
       "      <td>103.782050</td>\n",
       "      <td>West</td>\n",
       "      <td>0</td>\n",
       "      <td>https://dm-traffic-camera-itsc.s3.ap-southeast...</td>\n",
       "      <td>25</td>\n",
       "    </tr>\n",
       "    <tr>\n",
       "      <th>1547</th>\n",
       "      <td>2702</td>\n",
       "      <td>1.445554</td>\n",
       "      <td>103.768340</td>\n",
       "      <td>North</td>\n",
       "      <td>0</td>\n",
       "      <td>https://dm-traffic-camera-itsc.s3.ap-southeast...</td>\n",
       "      <td>17</td>\n",
       "    </tr>\n",
       "    <tr>\n",
       "      <th>4810</th>\n",
       "      <td>6713</td>\n",
       "      <td>1.340298</td>\n",
       "      <td>103.945652</td>\n",
       "      <td>East</td>\n",
       "      <td>0</td>\n",
       "      <td>https://dm-traffic-camera-itsc.s3.ap-southeast...</td>\n",
       "      <td>28</td>\n",
       "    </tr>\n",
       "    <tr>\n",
       "      <th>...</th>\n",
       "      <td>...</td>\n",
       "      <td>...</td>\n",
       "      <td>...</td>\n",
       "      <td>...</td>\n",
       "      <td>...</td>\n",
       "      <td>...</td>\n",
       "      <td>...</td>\n",
       "    </tr>\n",
       "    <tr>\n",
       "      <th>5618</th>\n",
       "      <td>8702</td>\n",
       "      <td>1.390590</td>\n",
       "      <td>103.771700</td>\n",
       "      <td>North</td>\n",
       "      <td>0</td>\n",
       "      <td>https://dm-traffic-camera-itsc.s3.ap-southeast...</td>\n",
       "      <td>11</td>\n",
       "    </tr>\n",
       "    <tr>\n",
       "      <th>596</th>\n",
       "      <td>1503</td>\n",
       "      <td>1.270664</td>\n",
       "      <td>103.856978</td>\n",
       "      <td>Central</td>\n",
       "      <td>0</td>\n",
       "      <td>https://dm-traffic-camera-itsc.s3.ap-southeast...</td>\n",
       "      <td>6</td>\n",
       "    </tr>\n",
       "    <tr>\n",
       "      <th>1950</th>\n",
       "      <td>2708</td>\n",
       "      <td>1.386500</td>\n",
       "      <td>103.774700</td>\n",
       "      <td>North</td>\n",
       "      <td>0</td>\n",
       "      <td>https://dm-traffic-camera-itsc.s3.ap-southeast...</td>\n",
       "      <td>84</td>\n",
       "    </tr>\n",
       "    <tr>\n",
       "      <th>1600</th>\n",
       "      <td>2703</td>\n",
       "      <td>1.350478</td>\n",
       "      <td>103.791034</td>\n",
       "      <td>Central</td>\n",
       "      <td>0</td>\n",
       "      <td>https://dm-traffic-camera-itsc.s3.ap-southeast...</td>\n",
       "      <td>28</td>\n",
       "    </tr>\n",
       "    <tr>\n",
       "      <th>5116</th>\n",
       "      <td>7793</td>\n",
       "      <td>1.377047</td>\n",
       "      <td>103.929470</td>\n",
       "      <td>East</td>\n",
       "      <td>0</td>\n",
       "      <td>https://dm-traffic-camera-itsc.s3.ap-southeast...</td>\n",
       "      <td>69</td>\n",
       "    </tr>\n",
       "  </tbody>\n",
       "</table>\n",
       "<p>87 rows × 7 columns</p>\n",
       "</div>"
      ],
      "text/plain": [
       "     CameraID  Latitude   Longitude   Region  rainfall  \\\n",
       "853      1701  1.323605  103.858780  Central         0   \n",
       "2322     3795  1.301451  103.910596  Central         0   \n",
       "2964     4706  1.297920  103.782050     West         0   \n",
       "1547     2702  1.445554  103.768340    North         0   \n",
       "4810     6713  1.340298  103.945652     East         0   \n",
       "...       ...       ...         ...      ...       ...   \n",
       "5618     8702  1.390590  103.771700    North         0   \n",
       "596      1503  1.270664  103.856978  Central         0   \n",
       "1950     2708  1.386500  103.774700    North         0   \n",
       "1600     2703  1.350478  103.791034  Central         0   \n",
       "5116     7793  1.377047  103.929470     East         0   \n",
       "\n",
       "                                              ImageLink  Count  \n",
       "853   https://dm-traffic-camera-itsc.s3.ap-southeast...     94  \n",
       "2322  https://dm-traffic-camera-itsc.s3.ap-southeast...     71  \n",
       "2964  https://dm-traffic-camera-itsc.s3.ap-southeast...     25  \n",
       "1547  https://dm-traffic-camera-itsc.s3.ap-southeast...     17  \n",
       "4810  https://dm-traffic-camera-itsc.s3.ap-southeast...     28  \n",
       "...                                                 ...    ...  \n",
       "5618  https://dm-traffic-camera-itsc.s3.ap-southeast...     11  \n",
       "596   https://dm-traffic-camera-itsc.s3.ap-southeast...      6  \n",
       "1950  https://dm-traffic-camera-itsc.s3.ap-southeast...     84  \n",
       "1600  https://dm-traffic-camera-itsc.s3.ap-southeast...     28  \n",
       "5116  https://dm-traffic-camera-itsc.s3.ap-southeast...     69  \n",
       "\n",
       "[87 rows x 7 columns]"
      ]
     },
     "execution_count": 43,
     "metadata": {},
     "output_type": "execute_result"
    }
   ],
   "source": [
    "final_df=traffic_image_df.merge(weather_df,'outer','key')\n",
    "final_df['distance_from_id']=(np.vectorize(haversine)(final_df['Latitude'],final_df['Longitude'],final_df['latitude'],final_df['longitude']))\n",
    "final_df=final_df.sort_values('distance_from_id').groupby('CameraID').head(1)[['CameraID','Latitude','Longitude','Region','rainfall','ImageLink','Count']]\n",
    "final_df"
   ]
  },
  {
   "cell_type": "code",
   "execution_count": 14,
   "id": "3b049112",
   "metadata": {},
   "outputs": [],
   "source": [
    "nearest_weather=traffic_image_df.merge(weather_df,'outer','key')\n",
    "nearest_weather['distance_from_id']=(np.vectorize(haversine)(nearest_weather['Latitude'],nearest_weather['Longitude'],nearest_weather['latitude'],nearest_weather['longitude']))\n",
    "nearest_weather=nearest_weather.sort_values('distance_from_id').groupby('CameraID').head(1).sort_values('distance_from_id')\n",
    "nearest_weather=nearest_weather"
   ]
  },
  {
   "cell_type": "code",
   "execution_count": 15,
   "id": "7feed59d",
   "metadata": {},
   "outputs": [],
   "source": [
    "final_df=nearest_weather.merge(nearest_incidents,'left','CameraID')"
   ]
  },
  {
   "cell_type": "code",
   "execution_count": 17,
   "id": "24412ff9",
   "metadata": {},
   "outputs": [
    {
     "data": {
      "text/html": [
       "<div>\n",
       "<style scoped>\n",
       "    .dataframe tbody tr th:only-of-type {\n",
       "        vertical-align: middle;\n",
       "    }\n",
       "\n",
       "    .dataframe tbody tr th {\n",
       "        vertical-align: top;\n",
       "    }\n",
       "\n",
       "    .dataframe thead th {\n",
       "        text-align: right;\n",
       "    }\n",
       "</style>\n",
       "<table border=\"1\" class=\"dataframe\">\n",
       "  <thead>\n",
       "    <tr style=\"text-align: right;\">\n",
       "      <th></th>\n",
       "      <th>CameraID</th>\n",
       "      <th>Latitude</th>\n",
       "      <th>Longitude</th>\n",
       "      <th>ImageLink</th>\n",
       "      <th>Region</th>\n",
       "      <th>Count</th>\n",
       "      <th>key</th>\n",
       "    </tr>\n",
       "  </thead>\n",
       "  <tbody>\n",
       "    <tr>\n",
       "      <th>0</th>\n",
       "      <td>1001</td>\n",
       "      <td>1.295313</td>\n",
       "      <td>103.871146</td>\n",
       "      <td>https://dm-traffic-camera-itsc.s3.ap-southeast...</td>\n",
       "      <td>Central</td>\n",
       "      <td>42</td>\n",
       "      <td>0</td>\n",
       "    </tr>\n",
       "    <tr>\n",
       "      <th>1</th>\n",
       "      <td>1002</td>\n",
       "      <td>1.319541</td>\n",
       "      <td>103.878563</td>\n",
       "      <td>https://dm-traffic-camera-itsc.s3.ap-southeast...</td>\n",
       "      <td>Central</td>\n",
       "      <td>68</td>\n",
       "      <td>0</td>\n",
       "    </tr>\n",
       "    <tr>\n",
       "      <th>2</th>\n",
       "      <td>1003</td>\n",
       "      <td>1.323957</td>\n",
       "      <td>103.872858</td>\n",
       "      <td>https://dm-traffic-camera-itsc.s3.ap-southeast...</td>\n",
       "      <td>Central</td>\n",
       "      <td>37</td>\n",
       "      <td>0</td>\n",
       "    </tr>\n",
       "    <tr>\n",
       "      <th>3</th>\n",
       "      <td>1004</td>\n",
       "      <td>1.319536</td>\n",
       "      <td>103.875067</td>\n",
       "      <td>https://dm-traffic-camera-itsc.s3.ap-southeast...</td>\n",
       "      <td>Central</td>\n",
       "      <td>27</td>\n",
       "      <td>0</td>\n",
       "    </tr>\n",
       "    <tr>\n",
       "      <th>4</th>\n",
       "      <td>1005</td>\n",
       "      <td>1.363520</td>\n",
       "      <td>103.905394</td>\n",
       "      <td>https://dm-traffic-camera-itsc.s3.ap-southeast...</td>\n",
       "      <td>East</td>\n",
       "      <td>7</td>\n",
       "      <td>0</td>\n",
       "    </tr>\n",
       "    <tr>\n",
       "      <th>...</th>\n",
       "      <td>...</td>\n",
       "      <td>...</td>\n",
       "      <td>...</td>\n",
       "      <td>...</td>\n",
       "      <td>...</td>\n",
       "      <td>...</td>\n",
       "      <td>...</td>\n",
       "    </tr>\n",
       "    <tr>\n",
       "      <th>82</th>\n",
       "      <td>9702</td>\n",
       "      <td>1.394741</td>\n",
       "      <td>103.817971</td>\n",
       "      <td>https://dm-traffic-camera-itsc.s3.ap-southeast...</td>\n",
       "      <td>North</td>\n",
       "      <td>20</td>\n",
       "      <td>0</td>\n",
       "    </tr>\n",
       "    <tr>\n",
       "      <th>83</th>\n",
       "      <td>9703</td>\n",
       "      <td>1.422857</td>\n",
       "      <td>103.773005</td>\n",
       "      <td>https://dm-traffic-camera-itsc.s3.ap-southeast...</td>\n",
       "      <td>North</td>\n",
       "      <td>77</td>\n",
       "      <td>0</td>\n",
       "    </tr>\n",
       "    <tr>\n",
       "      <th>84</th>\n",
       "      <td>9704</td>\n",
       "      <td>1.422143</td>\n",
       "      <td>103.795421</td>\n",
       "      <td>https://dm-traffic-camera-itsc.s3.ap-southeast...</td>\n",
       "      <td>North</td>\n",
       "      <td>20</td>\n",
       "      <td>0</td>\n",
       "    </tr>\n",
       "    <tr>\n",
       "      <th>85</th>\n",
       "      <td>9705</td>\n",
       "      <td>1.426277</td>\n",
       "      <td>103.787166</td>\n",
       "      <td>https://dm-traffic-camera-itsc.s3.ap-southeast...</td>\n",
       "      <td>North</td>\n",
       "      <td>91</td>\n",
       "      <td>0</td>\n",
       "    </tr>\n",
       "    <tr>\n",
       "      <th>86</th>\n",
       "      <td>9706</td>\n",
       "      <td>1.412701</td>\n",
       "      <td>103.806427</td>\n",
       "      <td>https://dm-traffic-camera-itsc.s3.ap-southeast...</td>\n",
       "      <td>North</td>\n",
       "      <td>67</td>\n",
       "      <td>0</td>\n",
       "    </tr>\n",
       "  </tbody>\n",
       "</table>\n",
       "<p>87 rows × 7 columns</p>\n",
       "</div>"
      ],
      "text/plain": [
       "   CameraID  Latitude   Longitude  \\\n",
       "0      1001  1.295313  103.871146   \n",
       "1      1002  1.319541  103.878563   \n",
       "2      1003  1.323957  103.872858   \n",
       "3      1004  1.319536  103.875067   \n",
       "4      1005  1.363520  103.905394   \n",
       "..      ...       ...         ...   \n",
       "82     9702  1.394741  103.817971   \n",
       "83     9703  1.422857  103.773005   \n",
       "84     9704  1.422143  103.795421   \n",
       "85     9705  1.426277  103.787166   \n",
       "86     9706  1.412701  103.806427   \n",
       "\n",
       "                                            ImageLink   Region  Count  key  \n",
       "0   https://dm-traffic-camera-itsc.s3.ap-southeast...  Central     42    0  \n",
       "1   https://dm-traffic-camera-itsc.s3.ap-southeast...  Central     68    0  \n",
       "2   https://dm-traffic-camera-itsc.s3.ap-southeast...  Central     37    0  \n",
       "3   https://dm-traffic-camera-itsc.s3.ap-southeast...  Central     27    0  \n",
       "4   https://dm-traffic-camera-itsc.s3.ap-southeast...     East      7    0  \n",
       "..                                                ...      ...    ...  ...  \n",
       "82  https://dm-traffic-camera-itsc.s3.ap-southeast...    North     20    0  \n",
       "83  https://dm-traffic-camera-itsc.s3.ap-southeast...    North     77    0  \n",
       "84  https://dm-traffic-camera-itsc.s3.ap-southeast...    North     20    0  \n",
       "85  https://dm-traffic-camera-itsc.s3.ap-southeast...    North     91    0  \n",
       "86  https://dm-traffic-camera-itsc.s3.ap-southeast...    North     67    0  \n",
       "\n",
       "[87 rows x 7 columns]"
      ]
     },
     "execution_count": 17,
     "metadata": {},
     "output_type": "execute_result"
    }
   ],
   "source": [
    "traffic_image_df"
   ]
  },
  {
   "cell_type": "code",
   "execution_count": null,
   "id": "ff631e73",
   "metadata": {},
   "outputs": [],
   "source": [
    "final_df"
   ]
  },
  {
   "cell_type": "code",
   "execution_count": 44,
   "id": "da7a9bce",
   "metadata": {},
   "outputs": [
    {
     "data": {
      "text/html": [
       "<div>\n",
       "<style scoped>\n",
       "    .dataframe tbody tr th:only-of-type {\n",
       "        vertical-align: middle;\n",
       "    }\n",
       "\n",
       "    .dataframe tbody tr th {\n",
       "        vertical-align: top;\n",
       "    }\n",
       "\n",
       "    .dataframe thead th {\n",
       "        text-align: right;\n",
       "    }\n",
       "</style>\n",
       "<table border=\"1\" class=\"dataframe\">\n",
       "  <thead>\n",
       "    <tr style=\"text-align: right;\">\n",
       "      <th></th>\n",
       "      <th>CameraID</th>\n",
       "      <th>Type</th>\n",
       "      <th>Message</th>\n",
       "    </tr>\n",
       "  </thead>\n",
       "  <tbody>\n",
       "    <tr>\n",
       "      <th>93</th>\n",
       "      <td>1709</td>\n",
       "      <td>Roadwork</td>\n",
       "      <td>(28/10)20:22 Roadworks on Thomson Road (toward...</td>\n",
       "    </tr>\n",
       "    <tr>\n",
       "      <th>292</th>\n",
       "      <td>6703</td>\n",
       "      <td>Roadwork</td>\n",
       "      <td>(28/10)20:34 Roadworks on Thomson Road (toward...</td>\n",
       "    </tr>\n",
       "    <tr>\n",
       "      <th>294</th>\n",
       "      <td>6703</td>\n",
       "      <td>Roadwork</td>\n",
       "      <td>(28/10)19:52 Roadworks on Thomson Road (toward...</td>\n",
       "    </tr>\n",
       "    <tr>\n",
       "      <th>90</th>\n",
       "      <td>1709</td>\n",
       "      <td>Roadwork</td>\n",
       "      <td>(28/10)20:50 Roadworks on Thomson Road (toward...</td>\n",
       "    </tr>\n",
       "    <tr>\n",
       "      <th>290</th>\n",
       "      <td>6703</td>\n",
       "      <td>Roadwork</td>\n",
       "      <td>(28/10)20:50 Roadworks on Thomson Road (toward...</td>\n",
       "    </tr>\n",
       "    <tr>\n",
       "      <th>92</th>\n",
       "      <td>1709</td>\n",
       "      <td>Roadwork</td>\n",
       "      <td>(28/10)20:34 Roadworks on Thomson Road (toward...</td>\n",
       "    </tr>\n",
       "  </tbody>\n",
       "</table>\n",
       "</div>"
      ],
      "text/plain": [
       "    CameraID      Type                                            Message\n",
       "93      1709  Roadwork  (28/10)20:22 Roadworks on Thomson Road (toward...\n",
       "292     6703  Roadwork  (28/10)20:34 Roadworks on Thomson Road (toward...\n",
       "294     6703  Roadwork  (28/10)19:52 Roadworks on Thomson Road (toward...\n",
       "90      1709  Roadwork  (28/10)20:50 Roadworks on Thomson Road (toward...\n",
       "290     6703  Roadwork  (28/10)20:50 Roadworks on Thomson Road (toward...\n",
       "92      1709  Roadwork  (28/10)20:34 Roadworks on Thomson Road (toward..."
      ]
     },
     "execution_count": 44,
     "metadata": {},
     "output_type": "execute_result"
    }
   ],
   "source": []
  },
  {
   "cell_type": "code",
   "execution_count": null,
   "id": "d55e86a3",
   "metadata": {},
   "outputs": [],
   "source": [
    "final_df.to_csv('main_df.csv',index=False)\n",
    "nearest_incidents.to_csv('traffic_incidents.csv',index=False)"
   ]
  },
  {
   "cell_type": "code",
   "execution_count": null,
   "id": "80cc3b74",
   "metadata": {},
   "outputs": [],
   "source": [
    "final_df\n"
   ]
  },
  {
   "cell_type": "code",
   "execution_count": null,
   "id": "5f36945b",
   "metadata": {},
   "outputs": [],
   "source": [
    "nearest_incidents.loc[nearest_incidents['CameraID']=='1709']['Message'].to_list()"
   ]
  },
  {
   "cell_type": "markdown",
   "id": "8141c3be",
   "metadata": {},
   "source": [
    "# END"
   ]
  },
  {
   "cell_type": "code",
   "execution_count": null,
   "id": "d0e1958d",
   "metadata": {},
   "outputs": [],
   "source": [
    "df = pd.read_csv('traffic_count_sample.csv')\n",
    "camera=[]"
   ]
  },
  {
   "cell_type": "code",
   "execution_count": null,
   "id": "56343112",
   "metadata": {},
   "outputs": [],
   "source": [
    "camera"
   ]
  },
  {
   "cell_type": "code",
   "execution_count": null,
   "id": "a08a74a4",
   "metadata": {},
   "outputs": [],
   "source": [
    "for i in range(len(df)):\n",
    "    d=dict(name = str(df.iloc[i,0]), lat = df.iloc[i,1], lon = df.iloc[i,2])\n",
    "    camera.append(d)"
   ]
  },
  {
   "cell_type": "code",
   "execution_count": null,
   "id": "59cd570f",
   "metadata": {},
   "outputs": [],
   "source": [
    "incident_res=''\n",
    "new_line = '\\n'\n",
    "for i in final_df.loc[final_df['CameraID']=='1004',][['Message']].reset_index(drop=True).itertuples():\n",
    "    incident_res+= '%s. %s \\n'%(str(i[0]+1),i[1])\n",
    "incident_res"
   ]
  },
  {
   "cell_type": "code",
   "execution_count": null,
   "id": "a02031ba",
   "metadata": {},
   "outputs": [],
   "source": [
    "new_line = '\\n'\n",
    "print(f\"Nearby Incidents:{new_line}{new_line.join(incident_res)}\")"
   ]
  },
  {
   "cell_type": "code",
   "execution_count": null,
   "id": "19ed2303",
   "metadata": {},
   "outputs": [],
   "source": [
    "final_df[final_df['Message'].notna()]"
   ]
  },
  {
   "cell_type": "code",
   "execution_count": null,
   "id": "36c01c0a",
   "metadata": {},
   "outputs": [],
   "source": [
    "final_df.loc[final_df['CameraID']=='1004',][['Message']].itertuples()"
   ]
  },
  {
   "cell_type": "code",
   "execution_count": null,
   "id": "6d6c37f8",
   "metadata": {},
   "outputs": [],
   "source": [
    "f\"{new_line}{new_line.join(incident_res)}\""
   ]
  },
  {
   "cell_type": "code",
   "execution_count": null,
   "id": "de93198a",
   "metadata": {},
   "outputs": [],
   "source": [
    "# Downloads all the csv files\n",
    "# traffic_image_df.to_csv('traffic_image.csv',index=False)\n",
    "# traffic_speed_df.to_csv('traffic_speed.csv',index=False)\n",
    "# traffic_incidents_df.to_csv('traffic_incidents.csv',index=False)\n",
    "# weather_df.to_csv('weather.csv',index=False)"
   ]
  }
 ],
 "metadata": {
  "kernelspec": {
   "display_name": "Python 3 (ipykernel)",
   "language": "python",
   "name": "python3"
  },
  "language_info": {
   "codemirror_mode": {
    "name": "ipython",
    "version": 3
   },
   "file_extension": ".py",
   "mimetype": "text/x-python",
   "name": "python",
   "nbconvert_exporter": "python",
   "pygments_lexer": "ipython3",
   "version": "3.8.5"
  }
 },
 "nbformat": 4,
 "nbformat_minor": 5
}
