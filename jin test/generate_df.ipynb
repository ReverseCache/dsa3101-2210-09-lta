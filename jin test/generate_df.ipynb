{
 "cells": [
  {
   "cell_type": "markdown",
   "id": "642567a0",
   "metadata": {},
   "source": [
    "Set-up"
   ]
  },
  {
   "cell_type": "code",
   "execution_count": 2,
   "id": "5bbb65c4",
   "metadata": {},
   "outputs": [],
   "source": [
    "import requests\n",
    "import pandas as pd\n",
    "import numpy as np\n",
    "import urllib.request"
   ]
  },
  {
   "cell_type": "markdown",
   "id": "dbfac76e",
   "metadata": {},
   "source": [
    "Function to calculate distance given latitude and longitude"
   ]
  },
  {
   "cell_type": "code",
   "execution_count": 65,
   "id": "33c6fc2e",
   "metadata": {},
   "outputs": [],
   "source": [
    "from math import radians, cos, sin, asin, sqrt\n",
    "\n",
    "def haversine(lon1, lat1, lon2, lat2):\n",
    "\n",
    "    # convert decimal degrees to radians \n",
    "    lon1, lat1, lon2, lat2 = map(radians, [lon1, lat1, lon2, lat2])\n",
    "\n",
    "    # haversine formula \n",
    "    dlon = lon2 - lon1 \n",
    "    dlat = lat2 - lat1 \n",
    "    a = sin(dlat/2)**2 + cos(lat1) * cos(lat2) * sin(dlon/2)**2\n",
    "    c = 2 * asin(sqrt(a)) \n",
    "    r = 6371 # Radius of earth in kilometers. Use 3956 for miles. Determines return value units.\n",
    "    return c * r *1000"
   ]
  },
  {
   "cell_type": "markdown",
   "id": "b5115602",
   "metadata": {},
   "source": [
    "Get LTA camera id and images"
   ]
  },
  {
   "cell_type": "code",
   "execution_count": 66,
   "id": "dbe186c4",
   "metadata": {},
   "outputs": [],
   "source": [
    "traffic_image_url='http://datamall2.mytransport.sg/ltaodataservice/Traffic-Imagesv2'\n",
    "headers_val={'AccountKey':'AO4qMbK3S7CWKSlplQZqlA=='}\n",
    "traffic_image_req=requests.get(url=traffic_image_url,headers=headers_val)\n",
    "traffic_image_df=pd.DataFrame(eval(traffic_image_req.content)['value'])\n",
    "traffic_image_df['Count']=np.random.uniform(low=0, high=20, size=(len(traffic_image_df.index),)).astype(int)\n",
    "traffic_image_df['is_jam']=0\n",
    "traffic_image_df=traffic_image_df.merge(pd.read_csv('traffic_camera_region_RoadName.csv',converters={'CameraID':str}),'left','CameraID')"
   ]
  },
  {
   "cell_type": "markdown",
   "id": "f484d5d3",
   "metadata": {},
   "source": [
    "Get LTA incidents on Expressways"
   ]
  },
  {
   "cell_type": "code",
   "execution_count": 68,
   "id": "49a87654",
   "metadata": {},
   "outputs": [],
   "source": [
    "traffic_incidents_url='http://datamall2.mytransport.sg/ltaodataservice/TrafficIncidents'\n",
    "traffic_incidents_req=requests.get(url=traffic_incidents_url,headers=headers_val)\n",
    "traffic_incidents_df=pd.DataFrame(eval(traffic_incidents_req.content)['value'])\n",
    "incidents_roads=['AYE','BKE','CTE','ECP','KJE','KPE','MCE','PIE','SLE','TPE','Sentosa','Tuas','Woodlands']\n",
    "traffic_incidents_df=traffic_incidents_df[traffic_incidents_df['Message'].apply(lambda x: any(expressway in x for expressway in incidents_roads))]"
   ]
  },
  {
   "cell_type": "markdown",
   "id": "77c0a431",
   "metadata": {},
   "source": [
    "NEA API to get rainfall in mm"
   ]
  },
  {
   "cell_type": "code",
   "execution_count": 3,
   "id": "2f96d8a8",
   "metadata": {},
   "outputs": [],
   "source": [
    "weatherreq=requests.get(url='https://api.data.gov.sg/v1/environment/rainfall')\n",
    "weather_df=pd.DataFrame(eval(weatherreq.content)['metadata']['stations'])\n",
    "\n",
    "weather_df['latitude']=weather_df['location'].apply(lambda x: x['latitude'])\n",
    "weather_df['longitude']=weather_df['location'].apply(lambda x: x['longitude'])\n",
    "weather_df['timestamp']=eval(weatherreq.content)['items'][0]['timestamp']\n",
    "weather_df['timestamp']=pd.to_datetime(weather_df['timestamp'])\n",
    "\n",
    "station_rainfall=pd.DataFrame(eval(weatherreq.content)['items'][0]['readings']).rename(columns={'value':'rainfall'})\n",
    "\n",
    "weather_df=weather_df.merge(station_rainfall,how='left',left_on='id',right_on='station_id')\n",
    "weather_df=weather_df.drop(['id','device_id','station_id','location'],axis=1)"
   ]
  },
  {
   "cell_type": "code",
   "execution_count": 4,
   "id": "020948a1",
   "metadata": {},
   "outputs": [
    {
     "data": {
      "text/html": [
       "<div>\n",
       "<style scoped>\n",
       "    .dataframe tbody tr th:only-of-type {\n",
       "        vertical-align: middle;\n",
       "    }\n",
       "\n",
       "    .dataframe tbody tr th {\n",
       "        vertical-align: top;\n",
       "    }\n",
       "\n",
       "    .dataframe thead th {\n",
       "        text-align: right;\n",
       "    }\n",
       "</style>\n",
       "<table border=\"1\" class=\"dataframe\">\n",
       "  <thead>\n",
       "    <tr style=\"text-align: right;\">\n",
       "      <th></th>\n",
       "      <th>name</th>\n",
       "      <th>latitude</th>\n",
       "      <th>longitude</th>\n",
       "      <th>timestamp</th>\n",
       "      <th>rainfall</th>\n",
       "    </tr>\n",
       "  </thead>\n",
       "  <tbody>\n",
       "    <tr>\n",
       "      <th>0</th>\n",
       "      <td>Alexandra Road</td>\n",
       "      <td>1.29370</td>\n",
       "      <td>103.81250</td>\n",
       "      <td>2022-10-30 17:30:00+08:00</td>\n",
       "      <td>0</td>\n",
       "    </tr>\n",
       "    <tr>\n",
       "      <th>1</th>\n",
       "      <td>Ang Mo Kio Avenue 5</td>\n",
       "      <td>1.37640</td>\n",
       "      <td>103.84920</td>\n",
       "      <td>2022-10-30 17:30:00+08:00</td>\n",
       "      <td>0</td>\n",
       "    </tr>\n",
       "    <tr>\n",
       "      <th>2</th>\n",
       "      <td>Bukit Panjang Road</td>\n",
       "      <td>1.38240</td>\n",
       "      <td>103.76030</td>\n",
       "      <td>2022-10-30 17:30:00+08:00</td>\n",
       "      <td>0</td>\n",
       "    </tr>\n",
       "    <tr>\n",
       "      <th>3</th>\n",
       "      <td>Bukit Timah Road</td>\n",
       "      <td>1.31910</td>\n",
       "      <td>103.81910</td>\n",
       "      <td>2022-10-30 17:30:00+08:00</td>\n",
       "      <td>0</td>\n",
       "    </tr>\n",
       "    <tr>\n",
       "      <th>4</th>\n",
       "      <td>Chai Chee Street</td>\n",
       "      <td>1.32300</td>\n",
       "      <td>103.92170</td>\n",
       "      <td>2022-10-30 17:30:00+08:00</td>\n",
       "      <td>0</td>\n",
       "    </tr>\n",
       "    <tr>\n",
       "      <th>...</th>\n",
       "      <td>...</td>\n",
       "      <td>...</td>\n",
       "      <td>...</td>\n",
       "      <td>...</td>\n",
       "      <td>...</td>\n",
       "    </tr>\n",
       "    <tr>\n",
       "      <th>67</th>\n",
       "      <td>Upper Serangoon Road</td>\n",
       "      <td>1.33820</td>\n",
       "      <td>103.86570</td>\n",
       "      <td>2022-10-30 17:30:00+08:00</td>\n",
       "      <td>0</td>\n",
       "    </tr>\n",
       "    <tr>\n",
       "      <th>68</th>\n",
       "      <td>Upper Thomson Road</td>\n",
       "      <td>1.37010</td>\n",
       "      <td>103.82710</td>\n",
       "      <td>2022-10-30 17:30:00+08:00</td>\n",
       "      <td>0</td>\n",
       "    </tr>\n",
       "    <tr>\n",
       "      <th>69</th>\n",
       "      <td>West Coast Highway</td>\n",
       "      <td>1.28100</td>\n",
       "      <td>103.75400</td>\n",
       "      <td>2022-10-30 17:30:00+08:00</td>\n",
       "      <td>0</td>\n",
       "    </tr>\n",
       "    <tr>\n",
       "      <th>70</th>\n",
       "      <td>Woodlands Avenue 9</td>\n",
       "      <td>1.44387</td>\n",
       "      <td>103.78538</td>\n",
       "      <td>2022-10-30 17:30:00+08:00</td>\n",
       "      <td>0</td>\n",
       "    </tr>\n",
       "    <tr>\n",
       "      <th>71</th>\n",
       "      <td>Woodlands Road</td>\n",
       "      <td>1.41720</td>\n",
       "      <td>103.74855</td>\n",
       "      <td>2022-10-30 17:30:00+08:00</td>\n",
       "      <td>0</td>\n",
       "    </tr>\n",
       "  </tbody>\n",
       "</table>\n",
       "<p>72 rows × 5 columns</p>\n",
       "</div>"
      ],
      "text/plain": [
       "                    name  latitude  longitude                 timestamp  \\\n",
       "0         Alexandra Road   1.29370  103.81250 2022-10-30 17:30:00+08:00   \n",
       "1    Ang Mo Kio Avenue 5   1.37640  103.84920 2022-10-30 17:30:00+08:00   \n",
       "2     Bukit Panjang Road   1.38240  103.76030 2022-10-30 17:30:00+08:00   \n",
       "3       Bukit Timah Road   1.31910  103.81910 2022-10-30 17:30:00+08:00   \n",
       "4       Chai Chee Street   1.32300  103.92170 2022-10-30 17:30:00+08:00   \n",
       "..                   ...       ...        ...                       ...   \n",
       "67  Upper Serangoon Road   1.33820  103.86570 2022-10-30 17:30:00+08:00   \n",
       "68    Upper Thomson Road   1.37010  103.82710 2022-10-30 17:30:00+08:00   \n",
       "69    West Coast Highway   1.28100  103.75400 2022-10-30 17:30:00+08:00   \n",
       "70    Woodlands Avenue 9   1.44387  103.78538 2022-10-30 17:30:00+08:00   \n",
       "71        Woodlands Road   1.41720  103.74855 2022-10-30 17:30:00+08:00   \n",
       "\n",
       "    rainfall  \n",
       "0          0  \n",
       "1          0  \n",
       "2          0  \n",
       "3          0  \n",
       "4          0  \n",
       "..       ...  \n",
       "67         0  \n",
       "68         0  \n",
       "69         0  \n",
       "70         0  \n",
       "71         0  \n",
       "\n",
       "[72 rows x 5 columns]"
      ]
     },
     "execution_count": 4,
     "metadata": {},
     "output_type": "execute_result"
    }
   ],
   "source": [
    "weather_df"
   ]
  },
  {
   "cell_type": "markdown",
   "id": "3f57eb31",
   "metadata": {},
   "source": [
    "Calculations and table joining\n"
   ]
  },
  {
   "cell_type": "code",
   "execution_count": 71,
   "id": "b684dad3",
   "metadata": {},
   "outputs": [],
   "source": [
    "traffic_image_df['key']=0\n",
    "traffic_incidents_df['key']=0\n",
    "weather_df['key']=0"
   ]
  },
  {
   "cell_type": "markdown",
   "id": "a229d800",
   "metadata": {},
   "source": [
    "Select incidents that occur within 500m of a camera location"
   ]
  },
  {
   "cell_type": "code",
   "execution_count": 72,
   "id": "7026b796",
   "metadata": {
    "scrolled": true
   },
   "outputs": [],
   "source": [
    "nearest_incidents=traffic_image_df.merge(traffic_incidents_df,'outer','key')\n",
    "nearest_incidents['incident_distance_from_id']=(np.vectorize(haversine)(nearest_incidents['Latitude_x'],nearest_incidents['Longitude_x'],nearest_incidents['Latitude_y'],nearest_incidents['Longitude_y']))\n",
    "nearest_incidents=nearest_incidents[nearest_incidents['incident_distance_from_id']<500].sort_values('incident_distance_from_id')\n",
    "nearest_incidents=nearest_incidents[['CameraID','Message']]"
   ]
  },
  {
   "cell_type": "markdown",
   "id": "af63f54b",
   "metadata": {},
   "source": [
    "Select nearest weather station for each camera id"
   ]
  },
  {
   "cell_type": "code",
   "execution_count": 73,
   "id": "5b5433cd",
   "metadata": {},
   "outputs": [],
   "source": [
    "final_df=traffic_image_df.merge(weather_df,'outer','key')\n",
    "final_df['distance_from_id']=(np.vectorize(haversine)(final_df['Latitude'],final_df['Longitude'],final_df['latitude'],final_df['longitude']))\n",
    "final_df=final_df.sort_values('distance_from_id').groupby('CameraID').head(1)[['CameraID','Latitude','Longitude','Region','rainfall','ImageLink','RoadName','Count','is_jam']]\n",
    "final_df=final_df.sort_values('CameraID').reset_index(drop=True)\n"
   ]
  },
  {
   "cell_type": "markdown",
   "id": "13f9a8da",
   "metadata": {},
   "source": [
    "Convert dataframes to CSV to be used in frontend"
   ]
  },
  {
   "cell_type": "code",
   "execution_count": 74,
   "id": "d55e86a3",
   "metadata": {},
   "outputs": [],
   "source": [
    "final_df.to_csv('main_df.csv',index=False)\n",
    "nearest_incidents.to_csv('traffic_incidents.csv',index=False)"
   ]
  },
  {
   "cell_type": "markdown",
   "id": "b1c8eb3e",
   "metadata": {},
   "source": [
    "# END"
   ]
  }
 ],
 "metadata": {
  "kernelspec": {
   "display_name": "Python 3.8.5 64-bit",
   "language": "python",
   "name": "python3"
  },
  "language_info": {
   "codemirror_mode": {
    "name": "ipython",
    "version": 3
   },
   "file_extension": ".py",
   "mimetype": "text/x-python",
   "name": "python",
   "nbconvert_exporter": "python",
   "pygments_lexer": "ipython3",
   "version": "3.8.5"
  },
  "vscode": {
   "interpreter": {
    "hash": "fb35dd890d68e096be9f14379b3a9284481e88885d0ed98f8469bd5ccd24451f"
   }
  }
 },
 "nbformat": 4,
 "nbformat_minor": 5
}
