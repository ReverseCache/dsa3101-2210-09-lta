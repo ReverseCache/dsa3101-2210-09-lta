{
 "cells": [
  {
   "cell_type": "code",
   "execution_count": 1,
   "id": "5bbb65c4",
   "metadata": {},
   "outputs": [],
   "source": [
    "import requests\n",
    "import pandas as pd\n",
    "import numpy as np\n",
    "import urllib.request"
   ]
  },
  {
   "cell_type": "code",
   "execution_count": 2,
   "id": "33c6fc2e",
   "metadata": {},
   "outputs": [],
   "source": [
    "from math import radians, cos, sin, asin, sqrt\n",
    "\n",
    "def haversine(lon1, lat1, lon2, lat2):\n",
    "\n",
    "    # convert decimal degrees to radians \n",
    "    lon1, lat1, lon2, lat2 = map(radians, [lon1, lat1, lon2, lat2])\n",
    "\n",
    "    # haversine formula \n",
    "    dlon = lon2 - lon1 \n",
    "    dlat = lat2 - lat1 \n",
    "    a = sin(dlat/2)**2 + cos(lat1) * cos(lat2) * sin(dlon/2)**2\n",
    "    c = 2 * asin(sqrt(a)) \n",
    "    r = 6371 # Radius of earth in kilometers. Use 3956 for miles. Determines return value units.\n",
    "    return c * r *1000"
   ]
  },
  {
   "cell_type": "code",
   "execution_count": 3,
   "id": "28f7fb9d",
   "metadata": {},
   "outputs": [],
   "source": [
    "def location_splitter(location):\n",
    "    location=location.split(' ')\n",
    "    return location[0],location[1],location[2],location[3]"
   ]
  },
  {
   "cell_type": "code",
   "execution_count": 4,
   "id": "884222b5",
   "metadata": {},
   "outputs": [],
   "source": [
    "def roadnamegrabber(latitude,longitude):\n",
    "    tempResponse=requests.get('https://developers.onemap.sg/privateapi/commonsvc/revgeocode?location=%s,%s&token=%s&buffer=100&addressType=all'%(str(latitude),str(longitude),onemapAPItoken))\n",
    "    name=pd.DataFrame(eval(tempResponse.content)['GeocodeInfo'])['ROAD'].mode()[0]\n",
    "    return name.replace('S','s').title()"
   ]
  },
  {
   "cell_type": "markdown",
   "id": "7c15ff4e",
   "metadata": {},
   "source": [
    "# Onemap"
   ]
  },
  {
   "cell_type": "code",
   "execution_count": 5,
   "id": "c8ce6866",
   "metadata": {},
   "outputs": [],
   "source": [
    "onemapTokenAPIResponse=requests.post('https://developers.onemap.sg/privateapi/auth/post/getToken',json={'email':'leejin@u.nus.edu','password':'Whysohardtochange123!'})#.content\n",
    "onemapAPItoken=eval(onemapTokenAPIResponse.content)['access_token']"
   ]
  },
  {
   "cell_type": "code",
   "execution_count": 6,
   "id": "dbe186c4",
   "metadata": {},
   "outputs": [],
   "source": [
    "traffic_image_url='http://datamall2.mytransport.sg/ltaodataservice/Traffic-Imagesv2'\n",
    "headers_val={'AccountKey':'AO4qMbK3S7CWKSlplQZqlA=='}\n",
    "traffic_image_req=requests.get(url=traffic_image_url,headers=headers_val)\n",
    "traffic_image_df=pd.DataFrame(eval(traffic_image_req.content)['value'])\n",
    "traffic_image_df['roadname']=np.vectorize(roadnamegrabber)(traffic_image_df['Latitude'],traffic_image_df['Longitude'])"
   ]
  },
  {
   "cell_type": "code",
   "execution_count": 7,
   "id": "915376d3",
   "metadata": {},
   "outputs": [],
   "source": [
    "traffic_image_df=traffic_image_df.merge(pd.read_csv('traffic_camera_region.csv',converters={'CameraID':str}),'left','CameraID')"
   ]
  },
  {
   "cell_type": "code",
   "execution_count": 8,
   "id": "49a87654",
   "metadata": {},
   "outputs": [],
   "source": [
    "traffic_incidents_url='http://datamall2.mytransport.sg/ltaodataservice/TrafficIncidents'\n",
    "traffic_incidents_req=requests.get(url=traffic_incidents_url,headers=headers_val)\n",
    "traffic_incidents_df=pd.DataFrame(eval(traffic_incidents_req.content)['value'])\n"
   ]
  },
  {
   "cell_type": "markdown",
   "id": "77c0a431",
   "metadata": {},
   "source": [
    "# NEA API\n",
    "For some reason this one need to constantly call and keep track of previous results. Sometimes calls does not return all data.\n",
    "Some names are given as S123, etc, looking to try OneMap reverse geocoding to get road name from lat long."
   ]
  },
  {
   "cell_type": "code",
   "execution_count": 9,
   "id": "2f96d8a8",
   "metadata": {},
   "outputs": [],
   "source": [
    "weatherreq=requests.get(url='https://api.data.gov.sg/v1/environment/rainfall')\n",
    "weather_df=pd.DataFrame(eval(weatherreq.content)['metadata']['stations'])\n",
    "\n",
    "weather_df['latitude']=weather_df['location'].apply(lambda x: x['latitude'])\n",
    "weather_df['longitude']=weather_df['location'].apply(lambda x: x['longitude'])\n",
    "weather_df['timestamp']=eval(weatherreq.content)['items'][0]['timestamp']\n",
    "weather_df['timestamp']=pd.to_datetime(weather_df['timestamp'])\n",
    "\n",
    "station_rainfall=pd.DataFrame(eval(weatherreq.content)['items'][0]['readings']).rename(columns={'value':'rainfall'})\n",
    "\n",
    "weather_df=weather_df.merge(station_rainfall,how='left',left_on='id',right_on='station_id')\n",
    "weather_df=weather_df.drop(['id','device_id','station_id','location'],axis=1)"
   ]
  },
  {
   "cell_type": "markdown",
   "id": "3f57eb31",
   "metadata": {},
   "source": [
    "# Calculations\n"
   ]
  },
  {
   "cell_type": "code",
   "execution_count": 10,
   "id": "b684dad3",
   "metadata": {},
   "outputs": [],
   "source": [
    "traffic_image_df['key']=0\n",
    "traffic_incidents_df['key']=0\n",
    "weather_df['key']=0"
   ]
  },
  {
   "cell_type": "code",
   "execution_count": 11,
   "id": "7026b796",
   "metadata": {
    "scrolled": true
   },
   "outputs": [],
   "source": [
    "nearest_incidents=traffic_image_df.merge(traffic_incidents_df,'outer','key')\n",
    "nearest_incidents['incident_distance_from_id']=(np.vectorize(haversine)(nearest_incidents['Latitude_x'],nearest_incidents['Longitude_x'],nearest_incidents['Latitude_y'],nearest_incidents['Longitude_y']))\n",
    "nearest_incidents=nearest_incidents[nearest_incidents['incident_distance_from_id']<500].sort_values('incident_distance_from_id')\n",
    "nearest_incidents=nearest_incidents[['CameraID','Message']]"
   ]
  },
  {
   "cell_type": "code",
   "execution_count": 12,
   "id": "fab0e8f0",
   "metadata": {},
   "outputs": [],
   "source": [
    "final_df=traffic_image_df.merge(weather_df,'outer','key')\n",
    "\n",
    "final_df['distance_from_id']=(np.vectorize(haversine)(final_df['Latitude'],final_df['Longitude'],final_df['latitude'],final_df['longitude']))\n",
    "final_df=final_df.sort_values('distance_from_id').groupby('CameraID').head(1)[['CameraID','Latitude','Longitude','Region','rainfall','ImageLink','roadname','Count']]\n",
    "final_df=final_df.sort_values('CameraID').reset_index(drop=True)\n"
   ]
  },
  {
   "cell_type": "code",
   "execution_count": 14,
   "id": "20ce9aeb",
   "metadata": {},
   "outputs": [
    {
     "data": {
      "text/html": [
       "<div>\n",
       "<style scoped>\n",
       "    .dataframe tbody tr th:only-of-type {\n",
       "        vertical-align: middle;\n",
       "    }\n",
       "\n",
       "    .dataframe tbody tr th {\n",
       "        vertical-align: top;\n",
       "    }\n",
       "\n",
       "    .dataframe thead th {\n",
       "        text-align: right;\n",
       "    }\n",
       "</style>\n",
       "<table border=\"1\" class=\"dataframe\">\n",
       "  <thead>\n",
       "    <tr style=\"text-align: right;\">\n",
       "      <th></th>\n",
       "      <th>CameraID</th>\n",
       "      <th>Latitude</th>\n",
       "      <th>Longitude</th>\n",
       "      <th>Region</th>\n",
       "      <th>rainfall</th>\n",
       "      <th>ImageLink</th>\n",
       "      <th>roadname</th>\n",
       "      <th>Count</th>\n",
       "    </tr>\n",
       "  </thead>\n",
       "  <tbody>\n",
       "    <tr>\n",
       "      <th>0</th>\n",
       "      <td>1001</td>\n",
       "      <td>1.295313</td>\n",
       "      <td>103.871146</td>\n",
       "      <td>Central</td>\n",
       "      <td>0</td>\n",
       "      <td>https://dm-traffic-camera-itsc.s3.ap-southeast...</td>\n",
       "      <td>Tanjong Rhu Road</td>\n",
       "      <td>42</td>\n",
       "    </tr>\n",
       "    <tr>\n",
       "      <th>1</th>\n",
       "      <td>1002</td>\n",
       "      <td>1.319541</td>\n",
       "      <td>103.878563</td>\n",
       "      <td>Central</td>\n",
       "      <td>0</td>\n",
       "      <td>https://dm-traffic-camera-itsc.s3.ap-southeast...</td>\n",
       "      <td>Sims Drive</td>\n",
       "      <td>68</td>\n",
       "    </tr>\n",
       "    <tr>\n",
       "      <th>2</th>\n",
       "      <td>1003</td>\n",
       "      <td>1.323957</td>\n",
       "      <td>103.872858</td>\n",
       "      <td>Central</td>\n",
       "      <td>0</td>\n",
       "      <td>https://dm-traffic-camera-itsc.s3.ap-southeast...</td>\n",
       "      <td>Kallang Sector</td>\n",
       "      <td>37</td>\n",
       "    </tr>\n",
       "    <tr>\n",
       "      <th>3</th>\n",
       "      <td>1004</td>\n",
       "      <td>1.319536</td>\n",
       "      <td>103.875067</td>\n",
       "      <td>Central</td>\n",
       "      <td>0</td>\n",
       "      <td>https://dm-traffic-camera-itsc.s3.ap-southeast...</td>\n",
       "      <td>Geylang Bahru</td>\n",
       "      <td>27</td>\n",
       "    </tr>\n",
       "    <tr>\n",
       "      <th>4</th>\n",
       "      <td>1005</td>\n",
       "      <td>1.363520</td>\n",
       "      <td>103.905394</td>\n",
       "      <td>East</td>\n",
       "      <td>0</td>\n",
       "      <td>https://dm-traffic-camera-itsc.s3.ap-southeast...</td>\n",
       "      <td>Greenwich Drive</td>\n",
       "      <td>7</td>\n",
       "    </tr>\n",
       "    <tr>\n",
       "      <th>...</th>\n",
       "      <td>...</td>\n",
       "      <td>...</td>\n",
       "      <td>...</td>\n",
       "      <td>...</td>\n",
       "      <td>...</td>\n",
       "      <td>...</td>\n",
       "      <td>...</td>\n",
       "      <td>...</td>\n",
       "    </tr>\n",
       "    <tr>\n",
       "      <th>82</th>\n",
       "      <td>9702</td>\n",
       "      <td>1.394741</td>\n",
       "      <td>103.817971</td>\n",
       "      <td>North</td>\n",
       "      <td>0</td>\n",
       "      <td>https://dm-traffic-camera-itsc.s3.ap-southeast...</td>\n",
       "      <td>Seletar Expressway</td>\n",
       "      <td>20</td>\n",
       "    </tr>\n",
       "    <tr>\n",
       "      <th>83</th>\n",
       "      <td>9703</td>\n",
       "      <td>1.422857</td>\n",
       "      <td>103.773005</td>\n",
       "      <td>North</td>\n",
       "      <td>0</td>\n",
       "      <td>https://dm-traffic-camera-itsc.s3.ap-southeast...</td>\n",
       "      <td>Seletar Expressway</td>\n",
       "      <td>77</td>\n",
       "    </tr>\n",
       "    <tr>\n",
       "      <th>84</th>\n",
       "      <td>9704</td>\n",
       "      <td>1.422143</td>\n",
       "      <td>103.795421</td>\n",
       "      <td>North</td>\n",
       "      <td>0</td>\n",
       "      <td>https://dm-traffic-camera-itsc.s3.ap-southeast...</td>\n",
       "      <td>Mandai Road</td>\n",
       "      <td>20</td>\n",
       "    </tr>\n",
       "    <tr>\n",
       "      <th>85</th>\n",
       "      <td>9705</td>\n",
       "      <td>1.426277</td>\n",
       "      <td>103.787166</td>\n",
       "      <td>North</td>\n",
       "      <td>0</td>\n",
       "      <td>https://dm-traffic-camera-itsc.s3.ap-southeast...</td>\n",
       "      <td>Champions Way</td>\n",
       "      <td>91</td>\n",
       "    </tr>\n",
       "    <tr>\n",
       "      <th>86</th>\n",
       "      <td>9706</td>\n",
       "      <td>1.412701</td>\n",
       "      <td>103.806427</td>\n",
       "      <td>North</td>\n",
       "      <td>0</td>\n",
       "      <td>https://dm-traffic-camera-itsc.s3.ap-southeast...</td>\n",
       "      <td>Mandai Road</td>\n",
       "      <td>67</td>\n",
       "    </tr>\n",
       "  </tbody>\n",
       "</table>\n",
       "<p>87 rows × 8 columns</p>\n",
       "</div>"
      ],
      "text/plain": [
       "   CameraID  Latitude   Longitude   Region  rainfall  \\\n",
       "0      1001  1.295313  103.871146  Central         0   \n",
       "1      1002  1.319541  103.878563  Central         0   \n",
       "2      1003  1.323957  103.872858  Central         0   \n",
       "3      1004  1.319536  103.875067  Central         0   \n",
       "4      1005  1.363520  103.905394     East         0   \n",
       "..      ...       ...         ...      ...       ...   \n",
       "82     9702  1.394741  103.817971    North         0   \n",
       "83     9703  1.422857  103.773005    North         0   \n",
       "84     9704  1.422143  103.795421    North         0   \n",
       "85     9705  1.426277  103.787166    North         0   \n",
       "86     9706  1.412701  103.806427    North         0   \n",
       "\n",
       "                                            ImageLink            roadname  \\\n",
       "0   https://dm-traffic-camera-itsc.s3.ap-southeast...    Tanjong Rhu Road   \n",
       "1   https://dm-traffic-camera-itsc.s3.ap-southeast...          Sims Drive   \n",
       "2   https://dm-traffic-camera-itsc.s3.ap-southeast...      Kallang Sector   \n",
       "3   https://dm-traffic-camera-itsc.s3.ap-southeast...       Geylang Bahru   \n",
       "4   https://dm-traffic-camera-itsc.s3.ap-southeast...     Greenwich Drive   \n",
       "..                                                ...                 ...   \n",
       "82  https://dm-traffic-camera-itsc.s3.ap-southeast...  Seletar Expressway   \n",
       "83  https://dm-traffic-camera-itsc.s3.ap-southeast...  Seletar Expressway   \n",
       "84  https://dm-traffic-camera-itsc.s3.ap-southeast...         Mandai Road   \n",
       "85  https://dm-traffic-camera-itsc.s3.ap-southeast...       Champions Way   \n",
       "86  https://dm-traffic-camera-itsc.s3.ap-southeast...         Mandai Road   \n",
       "\n",
       "    Count  \n",
       "0      42  \n",
       "1      68  \n",
       "2      37  \n",
       "3      27  \n",
       "4       7  \n",
       "..    ...  \n",
       "82     20  \n",
       "83     77  \n",
       "84     20  \n",
       "85     91  \n",
       "86     67  \n",
       "\n",
       "[87 rows x 8 columns]"
      ]
     },
     "execution_count": 14,
     "metadata": {},
     "output_type": "execute_result"
    }
   ],
   "source": [
    "final_df"
   ]
  },
  {
   "cell_type": "code",
   "execution_count": 15,
   "id": "d55e86a3",
   "metadata": {},
   "outputs": [],
   "source": [
    "final_df.to_csv('main_df.csv',index=False)\n",
    "nearest_incidents.to_csv('traffic_incidents.csv',index=False)"
   ]
  },
  {
   "cell_type": "markdown",
   "id": "c493fd0e",
   "metadata": {},
   "source": [
    "# END"
   ]
  },
  {
   "cell_type": "code",
   "execution_count": null,
   "id": "bfbb4c5c",
   "metadata": {},
   "outputs": [],
   "source": [
    "df = pd.read_csv('traffic_count_sample.csv')\n",
    "camera=[]"
   ]
  },
  {
   "cell_type": "code",
   "execution_count": null,
   "id": "34397652",
   "metadata": {},
   "outputs": [],
   "source": [
    "camera"
   ]
  },
  {
   "cell_type": "code",
   "execution_count": null,
   "id": "d9a6e2a1",
   "metadata": {},
   "outputs": [],
   "source": [
    "for i in range(len(df)):\n",
    "    d=dict(name = str(df.iloc[i,0]), lat = df.iloc[i,1], lon = df.iloc[i,2])\n",
    "    camera.append(d)"
   ]
  },
  {
   "cell_type": "code",
   "execution_count": null,
   "id": "59cd570f",
   "metadata": {},
   "outputs": [],
   "source": [
    "incident_res=''\n",
    "new_line = '\\n'\n",
    "for i in final_df.loc[final_df['CameraID']=='1004',][['Message']].reset_index(drop=True).itertuples():\n",
    "    incident_res+= '%s. %s \\n'%(str(i[0]+1),i[1])\n",
    "incident_res"
   ]
  },
  {
   "cell_type": "code",
   "execution_count": null,
   "id": "a02031ba",
   "metadata": {},
   "outputs": [],
   "source": [
    "new_line = '\\n'\n",
    "print(f\"Nearby Incidents:{new_line}{new_line.join(incident_res)}\")"
   ]
  },
  {
   "cell_type": "code",
   "execution_count": null,
   "id": "19ed2303",
   "metadata": {},
   "outputs": [],
   "source": [
    "final_df[final_df['Message'].notna()]"
   ]
  },
  {
   "cell_type": "code",
   "execution_count": null,
   "id": "36c01c0a",
   "metadata": {},
   "outputs": [],
   "source": [
    "final_df.loc[final_df['CameraID']=='1004',][['Message']].itertuples()"
   ]
  },
  {
   "cell_type": "code",
   "execution_count": null,
   "id": "6d6c37f8",
   "metadata": {},
   "outputs": [],
   "source": [
    "f\"{new_line}{new_line.join(incident_res)}\""
   ]
  },
  {
   "cell_type": "code",
   "execution_count": null,
   "id": "de93198a",
   "metadata": {},
   "outputs": [],
   "source": [
    "# Downloads all the csv files\n",
    "# traffic_image_df.to_csv('traffic_image.csv',index=False)\n",
    "# traffic_speed_df.to_csv('traffic_speed.csv',index=False)\n",
    "# traffic_incidents_df.to_csv('traffic_incidents.csv',index=False)\n",
    "# weather_df.to_csv('weather.csv',index=False)"
   ]
  }
 ],
 "metadata": {
  "kernelspec": {
   "display_name": "Python 3 (ipykernel)",
   "language": "python",
   "name": "python3"
  },
  "language_info": {
   "codemirror_mode": {
    "name": "ipython",
    "version": 3
   },
   "file_extension": ".py",
   "mimetype": "text/x-python",
   "name": "python",
   "nbconvert_exporter": "python",
   "pygments_lexer": "ipython3",
   "version": "3.8.5"
  }
 },
 "nbformat": 4,
 "nbformat_minor": 5
}
