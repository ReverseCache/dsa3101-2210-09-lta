{
 "cells": [
  {
   "cell_type": "code",
   "execution_count": 1,
   "id": "5bbb65c4",
   "metadata": {},
   "outputs": [],
   "source": [
    "import requests\n",
    "import pandas as pd\n",
    "import numpy as np\n",
    "import urllib.request"
   ]
  },
  {
   "cell_type": "code",
   "execution_count": 2,
   "id": "33c6fc2e",
   "metadata": {},
   "outputs": [],
   "source": [
    "from math import radians, cos, sin, asin, sqrt\n",
    "\n",
    "def haversine(lon1, lat1, lon2, lat2):\n",
    "\n",
    "    # convert decimal degrees to radians \n",
    "    lon1, lat1, lon2, lat2 = map(radians, [lon1, lat1, lon2, lat2])\n",
    "\n",
    "    # haversine formula \n",
    "    dlon = lon2 - lon1 \n",
    "    dlat = lat2 - lat1 \n",
    "    a = sin(dlat/2)**2 + cos(lat1) * cos(lat2) * sin(dlon/2)**2\n",
    "    c = 2 * asin(sqrt(a)) \n",
    "    r = 6371 # Radius of earth in kilometers. Use 3956 for miles. Determines return value units.\n",
    "    return c * r *1000"
   ]
  },
  {
   "cell_type": "code",
   "execution_count": 3,
   "id": "dbe186c4",
   "metadata": {},
   "outputs": [],
   "source": [
    "traffic_image_url='http://datamall2.mytransport.sg/ltaodataservice/Traffic-Imagesv2'\n",
    "headers_val={'AccountKey':'AO4qMbK3S7CWKSlplQZqlA=='}\n",
    "traffic_image_req=requests.get(url=traffic_image_url,headers=headers_val)\n",
    "traffic_image_df=pd.DataFrame(eval(traffic_image_req.content)['value'])\n",
    "traffic_image_df['Count']=np.random.uniform(low=0, high=20, size=(87,)).astype(int)\n",
    "traffic_image_df['is_jam']=0"
   ]
  },
  {
   "cell_type": "code",
   "execution_count": 4,
   "id": "5adb38ae",
   "metadata": {},
   "outputs": [],
   "source": [
    "traffic_image_df=traffic_image_df.merge(pd.read_csv('traffic_camera_region_roadname.csv',converters={'CameraID':str}),'left','CameraID')"
   ]
  },
  {
   "cell_type": "code",
   "execution_count": 5,
   "id": "82e52536",
   "metadata": {},
   "outputs": [
    {
     "data": {
      "text/html": [
       "<div>\n",
       "<style scoped>\n",
       "    .dataframe tbody tr th:only-of-type {\n",
       "        vertical-align: middle;\n",
       "    }\n",
       "\n",
       "    .dataframe tbody tr th {\n",
       "        vertical-align: top;\n",
       "    }\n",
       "\n",
       "    .dataframe thead th {\n",
       "        text-align: right;\n",
       "    }\n",
       "</style>\n",
       "<table border=\"1\" class=\"dataframe\">\n",
       "  <thead>\n",
       "    <tr style=\"text-align: right;\">\n",
       "      <th></th>\n",
       "      <th>CameraID</th>\n",
       "      <th>Latitude</th>\n",
       "      <th>Longitude</th>\n",
       "      <th>ImageLink</th>\n",
       "      <th>Count</th>\n",
       "      <th>is_jam</th>\n",
       "      <th>Region</th>\n",
       "      <th>roadname</th>\n",
       "    </tr>\n",
       "  </thead>\n",
       "  <tbody>\n",
       "    <tr>\n",
       "      <th>0</th>\n",
       "      <td>1001</td>\n",
       "      <td>1.295313</td>\n",
       "      <td>103.871146</td>\n",
       "      <td>https://dm-traffic-camera-itsc.s3.ap-southeast...</td>\n",
       "      <td>1</td>\n",
       "      <td>0</td>\n",
       "      <td>Central</td>\n",
       "      <td>East Coast Parkway (ECP)</td>\n",
       "    </tr>\n",
       "    <tr>\n",
       "      <th>1</th>\n",
       "      <td>1002</td>\n",
       "      <td>1.319541</td>\n",
       "      <td>103.878563</td>\n",
       "      <td>https://dm-traffic-camera-itsc.s3.ap-southeast...</td>\n",
       "      <td>9</td>\n",
       "      <td>0</td>\n",
       "      <td>Central</td>\n",
       "      <td>Pan-Island Expressway (PIE)</td>\n",
       "    </tr>\n",
       "    <tr>\n",
       "      <th>2</th>\n",
       "      <td>1003</td>\n",
       "      <td>1.323957</td>\n",
       "      <td>103.872858</td>\n",
       "      <td>https://dm-traffic-camera-itsc.s3.ap-southeast...</td>\n",
       "      <td>12</td>\n",
       "      <td>0</td>\n",
       "      <td>Central</td>\n",
       "      <td>Pan-Island Expressway (PIE)</td>\n",
       "    </tr>\n",
       "    <tr>\n",
       "      <th>3</th>\n",
       "      <td>1004</td>\n",
       "      <td>1.319536</td>\n",
       "      <td>103.875067</td>\n",
       "      <td>https://dm-traffic-camera-itsc.s3.ap-southeast...</td>\n",
       "      <td>13</td>\n",
       "      <td>0</td>\n",
       "      <td>Central</td>\n",
       "      <td>Kallang Way Flyover</td>\n",
       "    </tr>\n",
       "    <tr>\n",
       "      <th>4</th>\n",
       "      <td>1005</td>\n",
       "      <td>1.363520</td>\n",
       "      <td>103.905394</td>\n",
       "      <td>https://dm-traffic-camera-itsc.s3.ap-southeast...</td>\n",
       "      <td>2</td>\n",
       "      <td>0</td>\n",
       "      <td>East</td>\n",
       "      <td>Kallang-Paya Lebar Expressway (KPE)</td>\n",
       "    </tr>\n",
       "    <tr>\n",
       "      <th>...</th>\n",
       "      <td>...</td>\n",
       "      <td>...</td>\n",
       "      <td>...</td>\n",
       "      <td>...</td>\n",
       "      <td>...</td>\n",
       "      <td>...</td>\n",
       "      <td>...</td>\n",
       "      <td>...</td>\n",
       "    </tr>\n",
       "    <tr>\n",
       "      <th>82</th>\n",
       "      <td>9702</td>\n",
       "      <td>1.394741</td>\n",
       "      <td>103.817971</td>\n",
       "      <td>https://dm-traffic-camera-itsc.s3.ap-southeast...</td>\n",
       "      <td>7</td>\n",
       "      <td>0</td>\n",
       "      <td>North</td>\n",
       "      <td>Seletar Expressway (SLE)</td>\n",
       "    </tr>\n",
       "    <tr>\n",
       "      <th>83</th>\n",
       "      <td>9703</td>\n",
       "      <td>1.422857</td>\n",
       "      <td>103.773005</td>\n",
       "      <td>https://dm-traffic-camera-itsc.s3.ap-southeast...</td>\n",
       "      <td>9</td>\n",
       "      <td>0</td>\n",
       "      <td>North</td>\n",
       "      <td>Seletar Expressway (SLE)</td>\n",
       "    </tr>\n",
       "    <tr>\n",
       "      <th>84</th>\n",
       "      <td>9704</td>\n",
       "      <td>1.422143</td>\n",
       "      <td>103.795421</td>\n",
       "      <td>https://dm-traffic-camera-itsc.s3.ap-southeast...</td>\n",
       "      <td>12</td>\n",
       "      <td>0</td>\n",
       "      <td>North</td>\n",
       "      <td>Seletar Expressway (SLE)</td>\n",
       "    </tr>\n",
       "    <tr>\n",
       "      <th>85</th>\n",
       "      <td>9705</td>\n",
       "      <td>1.426277</td>\n",
       "      <td>103.787166</td>\n",
       "      <td>https://dm-traffic-camera-itsc.s3.ap-southeast...</td>\n",
       "      <td>8</td>\n",
       "      <td>0</td>\n",
       "      <td>North</td>\n",
       "      <td>Seletar Expressway (SLE)</td>\n",
       "    </tr>\n",
       "    <tr>\n",
       "      <th>86</th>\n",
       "      <td>9706</td>\n",
       "      <td>1.412701</td>\n",
       "      <td>103.806427</td>\n",
       "      <td>https://dm-traffic-camera-itsc.s3.ap-southeast...</td>\n",
       "      <td>3</td>\n",
       "      <td>0</td>\n",
       "      <td>North</td>\n",
       "      <td>Seletar Expressway (SLE)</td>\n",
       "    </tr>\n",
       "  </tbody>\n",
       "</table>\n",
       "<p>87 rows × 8 columns</p>\n",
       "</div>"
      ],
      "text/plain": [
       "   CameraID  Latitude   Longitude  \\\n",
       "0      1001  1.295313  103.871146   \n",
       "1      1002  1.319541  103.878563   \n",
       "2      1003  1.323957  103.872858   \n",
       "3      1004  1.319536  103.875067   \n",
       "4      1005  1.363520  103.905394   \n",
       "..      ...       ...         ...   \n",
       "82     9702  1.394741  103.817971   \n",
       "83     9703  1.422857  103.773005   \n",
       "84     9704  1.422143  103.795421   \n",
       "85     9705  1.426277  103.787166   \n",
       "86     9706  1.412701  103.806427   \n",
       "\n",
       "                                            ImageLink  Count  is_jam   Region  \\\n",
       "0   https://dm-traffic-camera-itsc.s3.ap-southeast...      1       0  Central   \n",
       "1   https://dm-traffic-camera-itsc.s3.ap-southeast...      9       0  Central   \n",
       "2   https://dm-traffic-camera-itsc.s3.ap-southeast...     12       0  Central   \n",
       "3   https://dm-traffic-camera-itsc.s3.ap-southeast...     13       0  Central   \n",
       "4   https://dm-traffic-camera-itsc.s3.ap-southeast...      2       0     East   \n",
       "..                                                ...    ...     ...      ...   \n",
       "82  https://dm-traffic-camera-itsc.s3.ap-southeast...      7       0    North   \n",
       "83  https://dm-traffic-camera-itsc.s3.ap-southeast...      9       0    North   \n",
       "84  https://dm-traffic-camera-itsc.s3.ap-southeast...     12       0    North   \n",
       "85  https://dm-traffic-camera-itsc.s3.ap-southeast...      8       0    North   \n",
       "86  https://dm-traffic-camera-itsc.s3.ap-southeast...      3       0    North   \n",
       "\n",
       "                               roadname  \n",
       "0              East Coast Parkway (ECP)  \n",
       "1           Pan-Island Expressway (PIE)  \n",
       "2           Pan-Island Expressway (PIE)  \n",
       "3                   Kallang Way Flyover  \n",
       "4   Kallang-Paya Lebar Expressway (KPE)  \n",
       "..                                  ...  \n",
       "82             Seletar Expressway (SLE)  \n",
       "83             Seletar Expressway (SLE)  \n",
       "84             Seletar Expressway (SLE)  \n",
       "85             Seletar Expressway (SLE)  \n",
       "86             Seletar Expressway (SLE)  \n",
       "\n",
       "[87 rows x 8 columns]"
      ]
     },
     "execution_count": 5,
     "metadata": {},
     "output_type": "execute_result"
    }
   ],
   "source": [
    "traffic_image_df"
   ]
  },
  {
   "cell_type": "code",
   "execution_count": 6,
   "id": "49a87654",
   "metadata": {},
   "outputs": [],
   "source": [
    "traffic_incidents_url='http://datamall2.mytransport.sg/ltaodataservice/TrafficIncidents'\n",
    "traffic_incidents_req=requests.get(url=traffic_incidents_url,headers=headers_val)\n",
    "traffic_incidents_df=pd.DataFrame(eval(traffic_incidents_req.content)['value'])\n"
   ]
  },
  {
   "cell_type": "markdown",
   "id": "77c0a431",
   "metadata": {},
   "source": [
    "# NEA API\n",
    "For some reason this one need to constantly call and keep track of previous results. Sometimes calls does not return all data.\n",
    "Some names are given as S123, etc, looking to try OneMap reverse geocoding to get road name from lat long."
   ]
  },
  {
   "cell_type": "code",
   "execution_count": 7,
   "id": "2f96d8a8",
   "metadata": {},
   "outputs": [],
   "source": [
    "weatherreq=requests.get(url='https://api.data.gov.sg/v1/environment/rainfall')\n",
    "weather_df=pd.DataFrame(eval(weatherreq.content)['metadata']['stations'])\n",
    "\n",
    "weather_df['latitude']=weather_df['location'].apply(lambda x: x['latitude'])\n",
    "weather_df['longitude']=weather_df['location'].apply(lambda x: x['longitude'])\n",
    "weather_df['timestamp']=eval(weatherreq.content)['items'][0]['timestamp']\n",
    "weather_df['timestamp']=pd.to_datetime(weather_df['timestamp'])\n",
    "\n",
    "station_rainfall=pd.DataFrame(eval(weatherreq.content)['items'][0]['readings']).rename(columns={'value':'rainfall'})\n",
    "\n",
    "weather_df=weather_df.merge(station_rainfall,how='left',left_on='id',right_on='station_id')\n",
    "weather_df=weather_df.drop(['id','device_id','station_id','location'],axis=1)"
   ]
  },
  {
   "cell_type": "markdown",
   "id": "3f57eb31",
   "metadata": {},
   "source": [
    "# Calculations\n"
   ]
  },
  {
   "cell_type": "code",
   "execution_count": 8,
   "id": "b684dad3",
   "metadata": {},
   "outputs": [],
   "source": [
    "traffic_image_df['key']=0\n",
    "traffic_incidents_df['key']=0\n",
    "weather_df['key']=0"
   ]
  },
  {
   "cell_type": "code",
   "execution_count": 9,
   "id": "7026b796",
   "metadata": {
    "scrolled": true
   },
   "outputs": [],
   "source": [
    "nearest_incidents=traffic_image_df.merge(traffic_incidents_df,'outer','key')\n",
    "nearest_incidents['incident_distance_from_id']=(np.vectorize(haversine)(nearest_incidents['Latitude_x'],nearest_incidents['Longitude_x'],nearest_incidents['Latitude_y'],nearest_incidents['Longitude_y']))\n",
    "nearest_incidents=nearest_incidents[nearest_incidents['incident_distance_from_id']<500].sort_values('incident_distance_from_id')\n",
    "nearest_incidents=nearest_incidents[['CameraID','Message']]"
   ]
  },
  {
   "cell_type": "code",
   "execution_count": 10,
   "id": "5b5433cd",
   "metadata": {},
   "outputs": [],
   "source": [
    "final_df=traffic_image_df.merge(weather_df,'outer','key')\n",
    "\n",
    "final_df['distance_from_id']=(np.vectorize(haversine)(final_df['Latitude'],final_df['Longitude'],final_df['latitude'],final_df['longitude']))\n",
    "final_df=final_df.sort_values('distance_from_id').groupby('CameraID').head(1)[['CameraID','Latitude','Longitude','Region','rainfall','ImageLink','roadname','Count','is_jam']]\n",
    "final_df=final_df.sort_values('CameraID').reset_index(drop=True)\n"
   ]
  },
  {
   "cell_type": "code",
   "execution_count": 11,
   "id": "d55e86a3",
   "metadata": {},
   "outputs": [],
   "source": [
    "final_df.to_csv('main_df.csv',index=False)\n",
    "nearest_incidents.to_csv('traffic_incidents.csv',index=False)"
   ]
  },
  {
   "cell_type": "markdown",
   "id": "b1c8eb3e",
   "metadata": {},
   "source": [
    "# END"
   ]
  }
 ],
 "metadata": {
  "kernelspec": {
   "display_name": "Python 3.8.5 64-bit",
   "language": "python",
   "name": "python3"
  },
  "language_info": {
   "codemirror_mode": {
    "name": "ipython",
    "version": 3
   },
   "file_extension": ".py",
   "mimetype": "text/x-python",
   "name": "python",
   "nbconvert_exporter": "python",
   "pygments_lexer": "ipython3",
   "version": "3.8.5"
  },
  "vscode": {
   "interpreter": {
    "hash": "fb35dd890d68e096be9f14379b3a9284481e88885d0ed98f8469bd5ccd24451f"
   }
  }
 },
 "nbformat": 4,
 "nbformat_minor": 5
}
