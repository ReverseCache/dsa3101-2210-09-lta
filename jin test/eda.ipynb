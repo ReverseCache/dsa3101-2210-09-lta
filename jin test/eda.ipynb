{
 "cells": [
  {
   "cell_type": "code",
   "execution_count": 1,
   "metadata": {},
   "outputs": [],
   "source": [
    "import os\n",
    "import zipfile\n",
    "import datetime\n",
    "import pandas as pd\n",
    "import numpy as np\n",
    "import seaborn as sns\n",
    "import matplotlib.pyplot as plt"
   ]
  },
  {
   "cell_type": "code",
   "execution_count": 2,
   "metadata": {},
   "outputs": [],
   "source": [
    "file_path = os.path.dirname(os.path.abspath(''))\n",
    "images_path = file_path + \"/model/images/\""
   ]
  },
  {
   "cell_type": "code",
   "execution_count": 3,
   "metadata": {},
   "outputs": [
    {
     "data": {
      "text/plain": [
       "datetime.datetime(2022, 1, 22, 23, 38, 47)"
      ]
     },
     "execution_count": 3,
     "metadata": {},
     "output_type": "execute_result"
    }
   ],
   "source": [
    "datetime.datetime.strptime(\"20220122233847\", '%Y%m%d%H%M%S')"
   ]
  },
  {
   "cell_type": "code",
   "execution_count": 4,
   "metadata": {},
   "outputs": [],
   "source": [
    "images = []\n",
    "\n",
    "for zipped_file in os.listdir(images_path):\n",
    "    with zipfile.ZipFile(images_path + os.path.basename(zipped_file)) as zf:\n",
    "        zip_year, zip_month, zip_day, zip_hour, zip_minute = map(int, zipped_file[:-4].split(\"_\"))\n",
    "        zip_date = datetime.datetime(zip_year, zip_month, zip_day)\n",
    "        zip_datetime = datetime.datetime(zip_year, zip_month, zip_day, zip_hour, zip_minute)\n",
    "        for image_name in zf.namelist():\n",
    "            temp = image_name.split(\"_\")\n",
    "            camera_id = temp[0]\n",
    "            image_datetime = datetime.datetime.strptime(temp[2], '%Y%m%d%H%M%S')\n",
    "            images.append([zip_date, zip_datetime, camera_id, image_datetime])"
   ]
  },
  {
   "cell_type": "code",
   "execution_count": 5,
   "metadata": {},
   "outputs": [],
   "source": [
    "df = pd.DataFrame(images, columns = [\"zip_date\", \"zip_datetime\", \"camera_id\", \"image_datetime\"])"
   ]
  },
  {
   "cell_type": "markdown",
   "metadata": {},
   "source": [
    "# Questions to answer:\n",
    "1. How many cameras do we have?\n",
    "2. Are there duplicate rows in df?\n",
    "3. Are the camera IDs in each zip file different?\n",
    "4. Do we have complete days starting from 5 Jan to 23 Jan?\n",
    "5. Which days / hours are incomplete (do not have all zip files every 5 mins)?\n",
    "6. Which zip files are incomplete (do not have all 87 locations)?\n",
    "7. Which camera ids are incomplete (do not have all zip_datetime)?\n",
    "8. Are there duplicate images (same image_datetime has 2 zip_datetime)?\n",
    "9. Are the image_datetime within the last 5 minutes of zip_datetime?"
   ]
  },
  {
   "cell_type": "markdown",
   "metadata": {},
   "source": [
    "How many cameras do we have?\n",
    "\n",
    "87"
   ]
  },
  {
   "cell_type": "code",
   "execution_count": 6,
   "metadata": {},
   "outputs": [
    {
     "data": {
      "text/plain": [
       "87"
      ]
     },
     "execution_count": 6,
     "metadata": {},
     "output_type": "execute_result"
    }
   ],
   "source": [
    "df[\"camera_id\"].nunique()"
   ]
  },
  {
   "cell_type": "markdown",
   "metadata": {},
   "source": [
    "Are there duplicate rows in df? \n",
    "\n",
    "No"
   ]
  },
  {
   "cell_type": "code",
   "execution_count": 7,
   "metadata": {},
   "outputs": [
    {
     "data": {
      "text/plain": [
       "True"
      ]
     },
     "execution_count": 7,
     "metadata": {},
     "output_type": "execute_result"
    }
   ],
   "source": [
    "df.equals(df.drop_duplicates())"
   ]
  },
  {
   "cell_type": "markdown",
   "metadata": {},
   "source": [
    "Are the camera IDs in each zip file different? \n",
    "\n",
    "No"
   ]
  },
  {
   "cell_type": "code",
   "execution_count": 8,
   "metadata": {},
   "outputs": [
    {
     "data": {
      "text/plain": [
       "True"
      ]
     },
     "execution_count": 8,
     "metadata": {},
     "output_type": "execute_result"
    }
   ],
   "source": [
    "df.equals(df.drop_duplicates(subset = [\"zip_datetime\", \"camera_id\"]))"
   ]
  },
  {
   "cell_type": "markdown",
   "metadata": {},
   "source": [
    "Do we have complete days starting from 5 Jan to 23 Jan?\n",
    "\n",
    "No. We have 5 missing days from 15 Jan to 19 Jan"
   ]
  },
  {
   "cell_type": "code",
   "execution_count": 9,
   "metadata": {},
   "outputs": [
    {
     "data": {
      "text/plain": [
       "5"
      ]
     },
     "execution_count": 9,
     "metadata": {},
     "output_type": "execute_result"
    }
   ],
   "source": [
    "(df[\"zip_date\"].max() - df[\"zip_date\"].min()).days + 1 - df[\"zip_date\"].nunique()"
   ]
  },
  {
   "cell_type": "code",
   "execution_count": 10,
   "metadata": {},
   "outputs": [
    {
     "data": {
      "text/plain": [
       "array(['2022-01-05T00:00:00.000000000', '2022-01-06T00:00:00.000000000',\n",
       "       '2022-01-07T00:00:00.000000000', '2022-01-08T00:00:00.000000000',\n",
       "       '2022-01-09T00:00:00.000000000', '2022-01-10T00:00:00.000000000',\n",
       "       '2022-01-11T00:00:00.000000000', '2022-01-12T00:00:00.000000000',\n",
       "       '2022-01-13T00:00:00.000000000', '2022-01-14T00:00:00.000000000',\n",
       "       '2022-01-20T00:00:00.000000000', '2022-01-21T00:00:00.000000000',\n",
       "       '2022-01-22T00:00:00.000000000', '2022-01-23T00:00:00.000000000'],\n",
       "      dtype='datetime64[ns]')"
      ]
     },
     "execution_count": 10,
     "metadata": {},
     "output_type": "execute_result"
    }
   ],
   "source": [
    "df[\"zip_date\"].unique()"
   ]
  },
  {
   "cell_type": "markdown",
   "metadata": {},
   "source": [
    "Which days / hours are incomplete (do not have all zip files every 5 mins)?\n",
    "\n",
    "Only 5 days have all zip files every 5 mins"
   ]
  },
  {
   "cell_type": "code",
   "execution_count": 11,
   "metadata": {},
   "outputs": [
    {
     "data": {
      "image/png": "[encoded data removed]",
      "text/plain": [
       "<Figure size 432x288 with 1 Axes>"
      ]
     },
     "metadata": {
      "needs_background": "light"
     },
     "output_type": "display_data"
    }
   ],
   "source": [
    "count_zip_files_per_day = df.groupby(\"zip_date\").agg(count_zips = (\"zip_datetime\", 'nunique')).reset_index().sort_values(\"zip_date\")\n",
    "\n",
    "sns.barplot(x = count_zip_files_per_day[\"zip_date\"].dt.strftime('%Y-%m-%d'), y = count_zip_files_per_day[\"count_zips\"])\\\n",
    "    .set(title='Total Zip Files per Day')\n",
    "\n",
    "plt.xticks(\n",
    "    rotation=45, \n",
    "    horizontalalignment='right',\n",
    "    fontweight='light'  \n",
    ")\n",
    "\n",
    "ax = plt.gca()\n",
    "ax.set_ylim([0, 310])\n",
    "\n",
    "# Iterate through the list of axes' patches\n",
    "for p in ax.patches:\n",
    "    ax.text(p.get_x() + p.get_width()/2., p.get_height() + 2, '%d' % int(p.get_height()), \n",
    "            fontsize=10, color='black', ha='center', va='bottom')"
   ]
  },
  {
   "cell_type": "code",
   "execution_count": 12,
   "metadata": {},
   "outputs": [
    {
     "data": {
      "image/png": "[encoded data removed]",
      "text/plain": [
       "<Figure size 432x288 with 1 Axes>"
      ]
     },
     "metadata": {
      "needs_background": "light"
     },
     "output_type": "display_data"
    }
   ],
   "source": [
    "count_images_per_day = df.groupby(\"zip_date\").agg(count_images = (\"image_datetime\", 'nunique')).reset_index().sort_values(\"zip_date\")\n",
    "\n",
    "sns.barplot(x = count_images_per_day[\"zip_date\"].dt.strftime('%Y-%m-%d'), y = count_images_per_day[\"count_images\"])\\\n",
    "    .set(title='Total Images per Day')\n",
    "\n",
    "plt.xticks(\n",
    "    rotation=45, \n",
    "    horizontalalignment='right',\n",
    "    fontweight='light'  \n",
    ")\n",
    "\n",
    "ax = plt.gca()\n",
    "ax.set_ylim([0, 15300])\n",
    "\n",
    "# Iterate through the list of axes' patches\n",
    "for p in ax.patches:\n",
    "    ax.text(p.get_x() + p.get_width()/2., p.get_height() + 2, '%d' % int(p.get_height()), \n",
    "            fontsize=8, color='black', ha='center', va='bottom')"
   ]
  },
  {
   "cell_type": "markdown",
   "metadata": {},
   "source": [
    "Which zip files are incomplete (do not have all 87 locations)?\n",
    "\n",
    "204 out of 3330 are incomplete"
   ]
  },
  {
   "cell_type": "code",
   "execution_count": 13,
   "metadata": {},
   "outputs": [
    {
     "data": {
      "text/html": [
       "<div>\n",
       "<style scoped>\n",
       "    .dataframe tbody tr th:only-of-type {\n",
       "        vertical-align: middle;\n",
       "    }\n",
       "\n",
       "    .dataframe tbody tr th {\n",
       "        vertical-align: top;\n",
       "    }\n",
       "\n",
       "    .dataframe thead th {\n",
       "        text-align: right;\n",
       "    }\n",
       "</style>\n",
       "<table border=\"1\" class=\"dataframe\">\n",
       "  <thead>\n",
       "    <tr style=\"text-align: right;\">\n",
       "      <th></th>\n",
       "      <th>zip_date</th>\n",
       "      <th>zip_datetime</th>\n",
       "      <th>count_camera_ids</th>\n",
       "    </tr>\n",
       "  </thead>\n",
       "  <tbody>\n",
       "    <tr>\n",
       "      <th>0</th>\n",
       "      <td>2022-01-12</td>\n",
       "      <td>2022-01-12 09:30:00</td>\n",
       "      <td>2</td>\n",
       "    </tr>\n",
       "    <tr>\n",
       "      <th>1</th>\n",
       "      <td>2022-01-10</td>\n",
       "      <td>2022-01-10 22:40:00</td>\n",
       "      <td>3</td>\n",
       "    </tr>\n",
       "    <tr>\n",
       "      <th>2</th>\n",
       "      <td>2022-01-13</td>\n",
       "      <td>2022-01-13 21:40:00</td>\n",
       "      <td>4</td>\n",
       "    </tr>\n",
       "    <tr>\n",
       "      <th>3</th>\n",
       "      <td>2022-01-13</td>\n",
       "      <td>2022-01-13 20:40:00</td>\n",
       "      <td>4</td>\n",
       "    </tr>\n",
       "    <tr>\n",
       "      <th>4</th>\n",
       "      <td>2022-01-13</td>\n",
       "      <td>2022-01-13 20:20:00</td>\n",
       "      <td>4</td>\n",
       "    </tr>\n",
       "    <tr>\n",
       "      <th>...</th>\n",
       "      <td>...</td>\n",
       "      <td>...</td>\n",
       "      <td>...</td>\n",
       "    </tr>\n",
       "    <tr>\n",
       "      <th>199</th>\n",
       "      <td>2022-01-11</td>\n",
       "      <td>2022-01-11 22:00:00</td>\n",
       "      <td>86</td>\n",
       "    </tr>\n",
       "    <tr>\n",
       "      <th>200</th>\n",
       "      <td>2022-01-05</td>\n",
       "      <td>2022-01-05 15:30:00</td>\n",
       "      <td>86</td>\n",
       "    </tr>\n",
       "    <tr>\n",
       "      <th>201</th>\n",
       "      <td>2022-01-05</td>\n",
       "      <td>2022-01-05 18:35:00</td>\n",
       "      <td>86</td>\n",
       "    </tr>\n",
       "    <tr>\n",
       "      <th>202</th>\n",
       "      <td>2022-01-05</td>\n",
       "      <td>2022-01-05 18:30:00</td>\n",
       "      <td>86</td>\n",
       "    </tr>\n",
       "    <tr>\n",
       "      <th>203</th>\n",
       "      <td>2022-01-22</td>\n",
       "      <td>2022-01-22 17:10:00</td>\n",
       "      <td>86</td>\n",
       "    </tr>\n",
       "  </tbody>\n",
       "</table>\n",
       "<p>204 rows × 3 columns</p>\n",
       "</div>"
      ],
      "text/plain": [
       "      zip_date        zip_datetime  count_camera_ids\n",
       "0   2022-01-12 2022-01-12 09:30:00                 2\n",
       "1   2022-01-10 2022-01-10 22:40:00                 3\n",
       "2   2022-01-13 2022-01-13 21:40:00                 4\n",
       "3   2022-01-13 2022-01-13 20:40:00                 4\n",
       "4   2022-01-13 2022-01-13 20:20:00                 4\n",
       "..         ...                 ...               ...\n",
       "199 2022-01-11 2022-01-11 22:00:00                86\n",
       "200 2022-01-05 2022-01-05 15:30:00                86\n",
       "201 2022-01-05 2022-01-05 18:35:00                86\n",
       "202 2022-01-05 2022-01-05 18:30:00                86\n",
       "203 2022-01-22 2022-01-22 17:10:00                86\n",
       "\n",
       "[204 rows x 3 columns]"
      ]
     },
     "execution_count": 13,
     "metadata": {},
     "output_type": "execute_result"
    }
   ],
   "source": [
    "total_cameras = df[\"camera_id\"].nunique()\n",
    "\n",
    "zip_total_cameras = df.groupby([\"zip_date\", \"zip_datetime\"]).agg(count_camera_ids = (\"camera_id\", \"count\")).sort_values(\"count_camera_ids\").reset_index()\n",
    "incomplete_zip_files = zip_total_cameras[zip_total_cameras[\"count_camera_ids\"] != total_cameras]\n",
    "\n",
    "incomplete_zip_files"
   ]
  },
  {
   "cell_type": "code",
   "execution_count": 14,
   "metadata": {},
   "outputs": [
    {
     "data": {
      "text/plain": [
       "[Text(0.5, 1.0, 'Total Images in Incomplete Zip Files')]"
      ]
     },
     "execution_count": 14,
     "metadata": {},
     "output_type": "execute_result"
    },
    {
     "data": {
      "image/png": "[encoded data removed]",
      "text/plain": [
       "<Figure size 432x288 with 1 Axes>"
      ]
     },
     "metadata": {
      "needs_background": "light"
     },
     "output_type": "display_data"
    }
   ],
   "source": [
    "sns.histplot(incomplete_zip_files[\"count_camera_ids\"], binwidth = 1)\\\n",
    "    .set(title='Total Images in Incomplete Zip Files')"
   ]
  },
  {
   "cell_type": "code",
   "execution_count": 15,
   "metadata": {},
   "outputs": [
    {
     "data": {
      "text/plain": [
       "(array([ 0,  1,  2,  3,  4,  5,  6,  7,  8,  9, 10, 11, 12, 13]),\n",
       " [Text(0, 0, '2022-01-05'),\n",
       "  Text(1, 0, '2022-01-06'),\n",
       "  Text(2, 0, '2022-01-07'),\n",
       "  Text(3, 0, '2022-01-08'),\n",
       "  Text(4, 0, '2022-01-09'),\n",
       "  Text(5, 0, '2022-01-10'),\n",
       "  Text(6, 0, '2022-01-11'),\n",
       "  Text(7, 0, '2022-01-12'),\n",
       "  Text(8, 0, '2022-01-13'),\n",
       "  Text(9, 0, '2022-01-14'),\n",
       "  Text(10, 0, '2022-01-20'),\n",
       "  Text(11, 0, '2022-01-21'),\n",
       "  Text(12, 0, '2022-01-22'),\n",
       "  Text(13, 0, '2022-01-23')])"
      ]
     },
     "execution_count": 15,
     "metadata": {},
     "output_type": "execute_result"
    },
    {
     "data": {
      "image/png": "[encoded data removed]",
      "text/plain": [
       "<Figure size 432x288 with 1 Axes>"
      ]
     },
     "metadata": {
      "needs_background": "light"
     },
     "output_type": "display_data"
    }
   ],
   "source": [
    "sns.countplot(x = incomplete_zip_files.sort_values(\"zip_date\")[\"zip_date\"].dt.strftime('%Y-%m-%d'))\\\n",
    "    .set(title='Total Incomplete Zip Files per Day')\n",
    "\n",
    "plt.xticks(\n",
    "    rotation=45, \n",
    "    horizontalalignment='right',\n",
    "    fontweight='light'  \n",
    ")"
   ]
  },
  {
   "cell_type": "code",
   "execution_count": 16,
   "metadata": {},
   "outputs": [
    {
     "name": "stderr",
     "output_type": "stream",
     "text": [
      "C:\\Users\\clift\\AppData\\Local\\Temp/ipykernel_9248/3493726243.py:1: SettingWithCopyWarning: \n",
      "A value is trying to be set on a copy of a slice from a DataFrame.\n",
      "Try using .loc[row_indexer,col_indexer] = value instead\n",
      "\n",
      "See the caveats in the documentation: https://pandas.pydata.org/pandas-docs/stable/user_guide/indexing.html#returning-a-view-versus-a-copy\n",
      "  incomplete_zip_files[\"zip_hour\"] = incomplete_zip_files[\"zip_datetime\"].apply(lambda x: x.hour)\n"
     ]
    }
   ],
   "source": [
    "incomplete_zip_files[\"zip_hour\"] = incomplete_zip_files[\"zip_datetime\"].apply(lambda x: x.hour)"
   ]
  },
  {
   "cell_type": "code",
   "execution_count": 17,
   "metadata": {},
   "outputs": [
    {
     "data": {
      "text/plain": [
       "[Text(0.5, 1.0, 'Total Incomplete Zip Files per Hour')]"
      ]
     },
     "execution_count": 17,
     "metadata": {},
     "output_type": "execute_result"
    },
    {
     "data": {
      "image/png": "[encoded data removed]",
      "text/plain": [
       "<Figure size 432x288 with 1 Axes>"
      ]
     },
     "metadata": {
      "needs_background": "light"
     },
     "output_type": "display_data"
    }
   ],
   "source": [
    "sns.countplot(x = incomplete_zip_files.sort_values(\"zip_hour\")[\"zip_hour\"])\\\n",
    "    .set(title='Total Incomplete Zip Files per Hour')"
   ]
  },
  {
   "cell_type": "code",
   "execution_count": 18,
   "metadata": {},
   "outputs": [
    {
     "data": {
      "text/html": [
       "<div>\n",
       "<style scoped>\n",
       "    .dataframe tbody tr th:only-of-type {\n",
       "        vertical-align: middle;\n",
       "    }\n",
       "\n",
       "    .dataframe tbody tr th {\n",
       "        vertical-align: top;\n",
       "    }\n",
       "\n",
       "    .dataframe thead th {\n",
       "        text-align: right;\n",
       "    }\n",
       "</style>\n",
       "<table border=\"1\" class=\"dataframe\">\n",
       "  <thead>\n",
       "    <tr style=\"text-align: right;\">\n",
       "      <th></th>\n",
       "      <th>zip_date</th>\n",
       "      <th>zip_hour</th>\n",
       "      <th>count_incomplete_zips</th>\n",
       "    </tr>\n",
       "  </thead>\n",
       "  <tbody>\n",
       "    <tr>\n",
       "      <th>109</th>\n",
       "      <td>2022-01-21</td>\n",
       "      <td>4</td>\n",
       "      <td>11</td>\n",
       "    </tr>\n",
       "    <tr>\n",
       "      <th>25</th>\n",
       "      <td>2022-01-07</td>\n",
       "      <td>9</td>\n",
       "      <td>5</td>\n",
       "    </tr>\n",
       "    <tr>\n",
       "      <th>13</th>\n",
       "      <td>2022-01-06</td>\n",
       "      <td>9</td>\n",
       "      <td>4</td>\n",
       "    </tr>\n",
       "    <tr>\n",
       "      <th>71</th>\n",
       "      <td>2022-01-11</td>\n",
       "      <td>22</td>\n",
       "      <td>4</td>\n",
       "    </tr>\n",
       "    <tr>\n",
       "      <th>8</th>\n",
       "      <td>2022-01-05</td>\n",
       "      <td>22</td>\n",
       "      <td>4</td>\n",
       "    </tr>\n",
       "    <tr>\n",
       "      <th>...</th>\n",
       "      <td>...</td>\n",
       "      <td>...</td>\n",
       "      <td>...</td>\n",
       "    </tr>\n",
       "    <tr>\n",
       "      <th>44</th>\n",
       "      <td>2022-01-09</td>\n",
       "      <td>10</td>\n",
       "      <td>1</td>\n",
       "    </tr>\n",
       "    <tr>\n",
       "      <th>42</th>\n",
       "      <td>2022-01-09</td>\n",
       "      <td>2</td>\n",
       "      <td>1</td>\n",
       "    </tr>\n",
       "    <tr>\n",
       "      <th>41</th>\n",
       "      <td>2022-01-09</td>\n",
       "      <td>0</td>\n",
       "      <td>1</td>\n",
       "    </tr>\n",
       "    <tr>\n",
       "      <th>40</th>\n",
       "      <td>2022-01-08</td>\n",
       "      <td>23</td>\n",
       "      <td>1</td>\n",
       "    </tr>\n",
       "    <tr>\n",
       "      <th>126</th>\n",
       "      <td>2022-01-23</td>\n",
       "      <td>0</td>\n",
       "      <td>1</td>\n",
       "    </tr>\n",
       "  </tbody>\n",
       "</table>\n",
       "<p>127 rows × 3 columns</p>\n",
       "</div>"
      ],
      "text/plain": [
       "      zip_date  zip_hour  count_incomplete_zips\n",
       "109 2022-01-21         4                     11\n",
       "25  2022-01-07         9                      5\n",
       "13  2022-01-06         9                      4\n",
       "71  2022-01-11        22                      4\n",
       "8   2022-01-05        22                      4\n",
       "..         ...       ...                    ...\n",
       "44  2022-01-09        10                      1\n",
       "42  2022-01-09         2                      1\n",
       "41  2022-01-09         0                      1\n",
       "40  2022-01-08        23                      1\n",
       "126 2022-01-23         0                      1\n",
       "\n",
       "[127 rows x 3 columns]"
      ]
     },
     "execution_count": 18,
     "metadata": {},
     "output_type": "execute_result"
    }
   ],
   "source": [
    "incomplete_zip_files.groupby([\"zip_date\", \"zip_hour\"]).agg(count_incomplete_zips = (\"zip_datetime\", \"count\"))\\\n",
    "    .reset_index().sort_values(\"count_incomplete_zips\", ascending = False)"
   ]
  },
  {
   "cell_type": "markdown",
   "metadata": {},
   "source": [
    "Which camera ids are incomplete (do not have all zip_datetime)?\n",
    "\n",
    "No camera exists in all 3330 zip files"
   ]
  },
  {
   "cell_type": "code",
   "execution_count": 19,
   "metadata": {},
   "outputs": [
    {
     "data": {
      "text/html": [
       "<div>\n",
       "<style scoped>\n",
       "    .dataframe tbody tr th:only-of-type {\n",
       "        vertical-align: middle;\n",
       "    }\n",
       "\n",
       "    .dataframe tbody tr th {\n",
       "        vertical-align: top;\n",
       "    }\n",
       "\n",
       "    .dataframe thead th {\n",
       "        text-align: right;\n",
       "    }\n",
       "</style>\n",
       "<table border=\"1\" class=\"dataframe\">\n",
       "  <thead>\n",
       "    <tr style=\"text-align: right;\">\n",
       "      <th></th>\n",
       "      <th>camera_id</th>\n",
       "      <th>count_zip_files</th>\n",
       "    </tr>\n",
       "  </thead>\n",
       "  <tbody>\n",
       "    <tr>\n",
       "      <th>82</th>\n",
       "      <td>9702</td>\n",
       "      <td>3255</td>\n",
       "    </tr>\n",
       "    <tr>\n",
       "      <th>83</th>\n",
       "      <td>9703</td>\n",
       "      <td>3258</td>\n",
       "    </tr>\n",
       "    <tr>\n",
       "      <th>86</th>\n",
       "      <td>9706</td>\n",
       "      <td>3259</td>\n",
       "    </tr>\n",
       "    <tr>\n",
       "      <th>80</th>\n",
       "      <td>8706</td>\n",
       "      <td>3259</td>\n",
       "    </tr>\n",
       "    <tr>\n",
       "      <th>85</th>\n",
       "      <td>9705</td>\n",
       "      <td>3260</td>\n",
       "    </tr>\n",
       "    <tr>\n",
       "      <th>...</th>\n",
       "      <td>...</td>\n",
       "      <td>...</td>\n",
       "    </tr>\n",
       "    <tr>\n",
       "      <th>13</th>\n",
       "      <td>1703</td>\n",
       "      <td>3309</td>\n",
       "    </tr>\n",
       "    <tr>\n",
       "      <th>21</th>\n",
       "      <td>2702</td>\n",
       "      <td>3309</td>\n",
       "    </tr>\n",
       "    <tr>\n",
       "      <th>5</th>\n",
       "      <td>1006</td>\n",
       "      <td>3309</td>\n",
       "    </tr>\n",
       "    <tr>\n",
       "      <th>15</th>\n",
       "      <td>1705</td>\n",
       "      <td>3310</td>\n",
       "    </tr>\n",
       "    <tr>\n",
       "      <th>11</th>\n",
       "      <td>1701</td>\n",
       "      <td>3312</td>\n",
       "    </tr>\n",
       "  </tbody>\n",
       "</table>\n",
       "<p>87 rows × 2 columns</p>\n",
       "</div>"
      ],
      "text/plain": [
       "   camera_id  count_zip_files\n",
       "82      9702             3255\n",
       "83      9703             3258\n",
       "86      9706             3259\n",
       "80      8706             3259\n",
       "85      9705             3260\n",
       "..       ...              ...\n",
       "13      1703             3309\n",
       "21      2702             3309\n",
       "5       1006             3309\n",
       "15      1705             3310\n",
       "11      1701             3312\n",
       "\n",
       "[87 rows x 2 columns]"
      ]
     },
     "execution_count": 19,
     "metadata": {},
     "output_type": "execute_result"
    }
   ],
   "source": [
    "df.groupby(\"camera_id\").agg(count_zip_files = (\"zip_datetime\", 'count')).reset_index().sort_values(\"count_zip_files\")"
   ]
  },
  {
   "cell_type": "markdown",
   "metadata": {},
   "source": [
    "Are there duplicate images (same image_datetime has 2 zip_datetime)?\n",
    "\n",
    "41438 images appear more than 1 time, around 200k appear 1 time only"
   ]
  },
  {
   "cell_type": "code",
   "execution_count": 20,
   "metadata": {},
   "outputs": [
    {
     "name": "stdout",
     "output_type": "stream",
     "text": [
      "244047\n"
     ]
    }
   ],
   "source": [
    "image_total_zip_files = df.groupby([\"camera_id\", \"image_datetime\"]).agg(count_zip_files = (\"zip_datetime\", \"count\"))\\\n",
    "    .reset_index().sort_values(\"count_zip_files\")\n",
    "\n",
    "print(len(image_total_zip_files))"
   ]
  },
  {
   "cell_type": "code",
   "execution_count": 21,
   "metadata": {},
   "outputs": [
    {
     "data": {
      "text/html": [
       "<div>\n",
       "<style scoped>\n",
       "    .dataframe tbody tr th:only-of-type {\n",
       "        vertical-align: middle;\n",
       "    }\n",
       "\n",
       "    .dataframe tbody tr th {\n",
       "        vertical-align: top;\n",
       "    }\n",
       "\n",
       "    .dataframe thead th {\n",
       "        text-align: right;\n",
       "    }\n",
       "</style>\n",
       "<table border=\"1\" class=\"dataframe\">\n",
       "  <thead>\n",
       "    <tr style=\"text-align: right;\">\n",
       "      <th></th>\n",
       "      <th>camera_id</th>\n",
       "      <th>image_datetime</th>\n",
       "      <th>count_zip_files</th>\n",
       "    </tr>\n",
       "  </thead>\n",
       "  <tbody>\n",
       "    <tr>\n",
       "      <th>2729</th>\n",
       "      <td>1001</td>\n",
       "      <td>2022-01-22 14:14:27</td>\n",
       "      <td>2</td>\n",
       "    </tr>\n",
       "    <tr>\n",
       "      <th>18782</th>\n",
       "      <td>1501</td>\n",
       "      <td>2022-01-13 02:59:17</td>\n",
       "      <td>2</td>\n",
       "    </tr>\n",
       "    <tr>\n",
       "      <th>217355</th>\n",
       "      <td>8701</td>\n",
       "      <td>2022-01-10 12:29:21</td>\n",
       "      <td>2</td>\n",
       "    </tr>\n",
       "    <tr>\n",
       "      <th>110525</th>\n",
       "      <td>4704</td>\n",
       "      <td>2022-01-08 18:17:13</td>\n",
       "      <td>2</td>\n",
       "    </tr>\n",
       "    <tr>\n",
       "      <th>217307</th>\n",
       "      <td>8701</td>\n",
       "      <td>2022-01-10 07:03:46</td>\n",
       "      <td>2</td>\n",
       "    </tr>\n",
       "    <tr>\n",
       "      <th>...</th>\n",
       "      <td>...</td>\n",
       "      <td>...</td>\n",
       "      <td>...</td>\n",
       "    </tr>\n",
       "    <tr>\n",
       "      <th>44671</th>\n",
       "      <td>1705</td>\n",
       "      <td>2022-01-21 03:35:16</td>\n",
       "      <td>14</td>\n",
       "    </tr>\n",
       "    <tr>\n",
       "      <th>41853</th>\n",
       "      <td>1704</td>\n",
       "      <td>2022-01-21 03:35:16</td>\n",
       "      <td>14</td>\n",
       "    </tr>\n",
       "    <tr>\n",
       "      <th>92482</th>\n",
       "      <td>3795</td>\n",
       "      <td>2022-01-21 03:35:54</td>\n",
       "      <td>14</td>\n",
       "    </tr>\n",
       "    <tr>\n",
       "      <th>123368</th>\n",
       "      <td>4708</td>\n",
       "      <td>2022-01-21 03:36:55</td>\n",
       "      <td>14</td>\n",
       "    </tr>\n",
       "    <tr>\n",
       "      <th>36225</th>\n",
       "      <td>1702</td>\n",
       "      <td>2022-01-21 03:35:15</td>\n",
       "      <td>14</td>\n",
       "    </tr>\n",
       "  </tbody>\n",
       "</table>\n",
       "<p>41438 rows × 3 columns</p>\n",
       "</div>"
      ],
      "text/plain": [
       "       camera_id      image_datetime  count_zip_files\n",
       "2729        1001 2022-01-22 14:14:27                2\n",
       "18782       1501 2022-01-13 02:59:17                2\n",
       "217355      8701 2022-01-10 12:29:21                2\n",
       "110525      4704 2022-01-08 18:17:13                2\n",
       "217307      8701 2022-01-10 07:03:46                2\n",
       "...          ...                 ...              ...\n",
       "44671       1705 2022-01-21 03:35:16               14\n",
       "41853       1704 2022-01-21 03:35:16               14\n",
       "92482       3795 2022-01-21 03:35:54               14\n",
       "123368      4708 2022-01-21 03:36:55               14\n",
       "36225       1702 2022-01-21 03:35:15               14\n",
       "\n",
       "[41438 rows x 3 columns]"
      ]
     },
     "execution_count": 21,
     "metadata": {},
     "output_type": "execute_result"
    }
   ],
   "source": [
    "image_total_zip_files[image_total_zip_files[\"count_zip_files\"] > 1]"
   ]
  },
  {
   "cell_type": "code",
   "execution_count": 22,
   "metadata": {},
   "outputs": [
    {
     "data": {
      "text/html": [
       "<div>\n",
       "<style scoped>\n",
       "    .dataframe tbody tr th:only-of-type {\n",
       "        vertical-align: middle;\n",
       "    }\n",
       "\n",
       "    .dataframe tbody tr th {\n",
       "        vertical-align: top;\n",
       "    }\n",
       "\n",
       "    .dataframe thead th {\n",
       "        text-align: right;\n",
       "    }\n",
       "</style>\n",
       "<table border=\"1\" class=\"dataframe\">\n",
       "  <thead>\n",
       "    <tr style=\"text-align: right;\">\n",
       "      <th></th>\n",
       "      <th>zip_date</th>\n",
       "      <th>zip_datetime</th>\n",
       "      <th>camera_id</th>\n",
       "      <th>image_datetime</th>\n",
       "    </tr>\n",
       "  </thead>\n",
       "  <tbody>\n",
       "    <tr>\n",
       "      <th>243586</th>\n",
       "      <td>2022-01-21</td>\n",
       "      <td>2022-01-21 03:45:00</td>\n",
       "      <td>1702</td>\n",
       "      <td>2022-01-21 03:35:15</td>\n",
       "    </tr>\n",
       "    <tr>\n",
       "      <th>243654</th>\n",
       "      <td>2022-01-21</td>\n",
       "      <td>2022-01-21 03:50:00</td>\n",
       "      <td>1702</td>\n",
       "      <td>2022-01-21 03:35:15</td>\n",
       "    </tr>\n",
       "    <tr>\n",
       "      <th>243722</th>\n",
       "      <td>2022-01-21</td>\n",
       "      <td>2022-01-21 03:55:00</td>\n",
       "      <td>1702</td>\n",
       "      <td>2022-01-21 03:35:15</td>\n",
       "    </tr>\n",
       "    <tr>\n",
       "      <th>243790</th>\n",
       "      <td>2022-01-21</td>\n",
       "      <td>2022-01-21 04:00:00</td>\n",
       "      <td>1702</td>\n",
       "      <td>2022-01-21 03:35:15</td>\n",
       "    </tr>\n",
       "    <tr>\n",
       "      <th>243858</th>\n",
       "      <td>2022-01-21</td>\n",
       "      <td>2022-01-21 04:05:00</td>\n",
       "      <td>1702</td>\n",
       "      <td>2022-01-21 03:35:15</td>\n",
       "    </tr>\n",
       "    <tr>\n",
       "      <th>243926</th>\n",
       "      <td>2022-01-21</td>\n",
       "      <td>2022-01-21 04:10:00</td>\n",
       "      <td>1702</td>\n",
       "      <td>2022-01-21 03:35:15</td>\n",
       "    </tr>\n",
       "    <tr>\n",
       "      <th>243994</th>\n",
       "      <td>2022-01-21</td>\n",
       "      <td>2022-01-21 04:15:00</td>\n",
       "      <td>1702</td>\n",
       "      <td>2022-01-21 03:35:15</td>\n",
       "    </tr>\n",
       "    <tr>\n",
       "      <th>244062</th>\n",
       "      <td>2022-01-21</td>\n",
       "      <td>2022-01-21 04:20:00</td>\n",
       "      <td>1702</td>\n",
       "      <td>2022-01-21 03:35:15</td>\n",
       "    </tr>\n",
       "    <tr>\n",
       "      <th>244130</th>\n",
       "      <td>2022-01-21</td>\n",
       "      <td>2022-01-21 04:25:00</td>\n",
       "      <td>1702</td>\n",
       "      <td>2022-01-21 03:35:15</td>\n",
       "    </tr>\n",
       "    <tr>\n",
       "      <th>244198</th>\n",
       "      <td>2022-01-21</td>\n",
       "      <td>2022-01-21 04:30:00</td>\n",
       "      <td>1702</td>\n",
       "      <td>2022-01-21 03:35:15</td>\n",
       "    </tr>\n",
       "    <tr>\n",
       "      <th>244266</th>\n",
       "      <td>2022-01-21</td>\n",
       "      <td>2022-01-21 04:35:00</td>\n",
       "      <td>1702</td>\n",
       "      <td>2022-01-21 03:35:15</td>\n",
       "    </tr>\n",
       "    <tr>\n",
       "      <th>244334</th>\n",
       "      <td>2022-01-21</td>\n",
       "      <td>2022-01-21 04:40:00</td>\n",
       "      <td>1702</td>\n",
       "      <td>2022-01-21 03:35:15</td>\n",
       "    </tr>\n",
       "    <tr>\n",
       "      <th>244402</th>\n",
       "      <td>2022-01-21</td>\n",
       "      <td>2022-01-21 04:45:00</td>\n",
       "      <td>1702</td>\n",
       "      <td>2022-01-21 03:35:15</td>\n",
       "    </tr>\n",
       "    <tr>\n",
       "      <th>244470</th>\n",
       "      <td>2022-01-21</td>\n",
       "      <td>2022-01-21 04:50:00</td>\n",
       "      <td>1702</td>\n",
       "      <td>2022-01-21 03:35:15</td>\n",
       "    </tr>\n",
       "  </tbody>\n",
       "</table>\n",
       "</div>"
      ],
      "text/plain": [
       "         zip_date        zip_datetime camera_id      image_datetime\n",
       "243586 2022-01-21 2022-01-21 03:45:00      1702 2022-01-21 03:35:15\n",
       "243654 2022-01-21 2022-01-21 03:50:00      1702 2022-01-21 03:35:15\n",
       "243722 2022-01-21 2022-01-21 03:55:00      1702 2022-01-21 03:35:15\n",
       "243790 2022-01-21 2022-01-21 04:00:00      1702 2022-01-21 03:35:15\n",
       "243858 2022-01-21 2022-01-21 04:05:00      1702 2022-01-21 03:35:15\n",
       "243926 2022-01-21 2022-01-21 04:10:00      1702 2022-01-21 03:35:15\n",
       "243994 2022-01-21 2022-01-21 04:15:00      1702 2022-01-21 03:35:15\n",
       "244062 2022-01-21 2022-01-21 04:20:00      1702 2022-01-21 03:35:15\n",
       "244130 2022-01-21 2022-01-21 04:25:00      1702 2022-01-21 03:35:15\n",
       "244198 2022-01-21 2022-01-21 04:30:00      1702 2022-01-21 03:35:15\n",
       "244266 2022-01-21 2022-01-21 04:35:00      1702 2022-01-21 03:35:15\n",
       "244334 2022-01-21 2022-01-21 04:40:00      1702 2022-01-21 03:35:15\n",
       "244402 2022-01-21 2022-01-21 04:45:00      1702 2022-01-21 03:35:15\n",
       "244470 2022-01-21 2022-01-21 04:50:00      1702 2022-01-21 03:35:15"
      ]
     },
     "execution_count": 22,
     "metadata": {},
     "output_type": "execute_result"
    }
   ],
   "source": [
    "df[(df[\"image_datetime\"] == \"2022-01-21 03:35:15\") & (df[\"camera_id\"] == '1702')] #appear in 14 zip files"
   ]
  },
  {
   "cell_type": "markdown",
   "metadata": {},
   "source": [
    "Are the image_datetime within the last 5 minutes of zip_datetime?\n",
    "\n",
    "Most of the images are within the last 10 minutes from zip_datetime. Only 1180 images are before 10 minutes from zip_datetime. \n",
    "\n",
    "It means that eventhough the API documentation says that the image will be updated every 1 - 5 mins, some images are not updated after 5 mins"
   ]
  },
  {
   "cell_type": "code",
   "execution_count": 23,
   "metadata": {},
   "outputs": [],
   "source": [
    "df[\"image_zip_time_difference\"] = df[\"zip_datetime\"] - df[\"image_datetime\"]"
   ]
  },
  {
   "cell_type": "code",
   "execution_count": 24,
   "metadata": {},
   "outputs": [
    {
     "data": {
      "text/plain": [
       "Timedelta('0 days 01:15:00')"
      ]
     },
     "execution_count": 24,
     "metadata": {},
     "output_type": "execute_result"
    }
   ],
   "source": [
    "df[\"image_zip_time_difference\"].max()"
   ]
  },
  {
   "cell_type": "code",
   "execution_count": 25,
   "metadata": {},
   "outputs": [
    {
     "data": {
      "text/html": [
       "<div>\n",
       "<style scoped>\n",
       "    .dataframe tbody tr th:only-of-type {\n",
       "        vertical-align: middle;\n",
       "    }\n",
       "\n",
       "    .dataframe tbody tr th {\n",
       "        vertical-align: top;\n",
       "    }\n",
       "\n",
       "    .dataframe thead th {\n",
       "        text-align: right;\n",
       "    }\n",
       "</style>\n",
       "<table border=\"1\" class=\"dataframe\">\n",
       "  <thead>\n",
       "    <tr style=\"text-align: right;\">\n",
       "      <th></th>\n",
       "      <th>zip_date</th>\n",
       "      <th>zip_datetime</th>\n",
       "      <th>camera_id</th>\n",
       "      <th>image_datetime</th>\n",
       "      <th>image_zip_time_difference</th>\n",
       "    </tr>\n",
       "  </thead>\n",
       "  <tbody>\n",
       "    <tr>\n",
       "      <th>50130</th>\n",
       "      <td>2022-01-07</td>\n",
       "      <td>2022-01-07 12:45:00</td>\n",
       "      <td>1001</td>\n",
       "      <td>2022-01-07 12:34:57</td>\n",
       "      <td>0 days 00:10:03</td>\n",
       "    </tr>\n",
       "    <tr>\n",
       "      <th>50131</th>\n",
       "      <td>2022-01-07</td>\n",
       "      <td>2022-01-07 12:45:00</td>\n",
       "      <td>1002</td>\n",
       "      <td>2022-01-07 12:34:57</td>\n",
       "      <td>0 days 00:10:03</td>\n",
       "    </tr>\n",
       "    <tr>\n",
       "      <th>50132</th>\n",
       "      <td>2022-01-07</td>\n",
       "      <td>2022-01-07 12:45:00</td>\n",
       "      <td>1003</td>\n",
       "      <td>2022-01-07 12:34:57</td>\n",
       "      <td>0 days 00:10:03</td>\n",
       "    </tr>\n",
       "    <tr>\n",
       "      <th>50133</th>\n",
       "      <td>2022-01-07</td>\n",
       "      <td>2022-01-07 12:45:00</td>\n",
       "      <td>1004</td>\n",
       "      <td>2022-01-07 12:34:56</td>\n",
       "      <td>0 days 00:10:04</td>\n",
       "    </tr>\n",
       "    <tr>\n",
       "      <th>50134</th>\n",
       "      <td>2022-01-07</td>\n",
       "      <td>2022-01-07 12:45:00</td>\n",
       "      <td>1005</td>\n",
       "      <td>2022-01-07 12:34:56</td>\n",
       "      <td>0 days 00:10:04</td>\n",
       "    </tr>\n",
       "    <tr>\n",
       "      <th>...</th>\n",
       "      <td>...</td>\n",
       "      <td>...</td>\n",
       "      <td>...</td>\n",
       "      <td>...</td>\n",
       "      <td>...</td>\n",
       "    </tr>\n",
       "    <tr>\n",
       "      <th>256404</th>\n",
       "      <td>2022-01-21</td>\n",
       "      <td>2022-01-21 18:25:00</td>\n",
       "      <td>4703</td>\n",
       "      <td>2022-01-21 18:14:28</td>\n",
       "      <td>0 days 00:10:32</td>\n",
       "    </tr>\n",
       "    <tr>\n",
       "      <th>256405</th>\n",
       "      <td>2022-01-21</td>\n",
       "      <td>2022-01-21 18:25:00</td>\n",
       "      <td>4704</td>\n",
       "      <td>2022-01-21 18:14:43</td>\n",
       "      <td>0 days 00:10:17</td>\n",
       "    </tr>\n",
       "    <tr>\n",
       "      <th>256406</th>\n",
       "      <td>2022-01-21</td>\n",
       "      <td>2022-01-21 18:25:00</td>\n",
       "      <td>4705</td>\n",
       "      <td>2022-01-21 18:14:46</td>\n",
       "      <td>0 days 00:10:14</td>\n",
       "    </tr>\n",
       "    <tr>\n",
       "      <th>256407</th>\n",
       "      <td>2022-01-21</td>\n",
       "      <td>2022-01-21 18:25:00</td>\n",
       "      <td>4706</td>\n",
       "      <td>2022-01-21 18:14:46</td>\n",
       "      <td>0 days 00:10:14</td>\n",
       "    </tr>\n",
       "    <tr>\n",
       "      <th>256408</th>\n",
       "      <td>2022-01-21</td>\n",
       "      <td>2022-01-21 18:25:00</td>\n",
       "      <td>4707</td>\n",
       "      <td>2022-01-21 18:14:55</td>\n",
       "      <td>0 days 00:10:05</td>\n",
       "    </tr>\n",
       "  </tbody>\n",
       "</table>\n",
       "<p>1180 rows × 5 columns</p>\n",
       "</div>"
      ],
      "text/plain": [
       "         zip_date        zip_datetime camera_id      image_datetime  \\\n",
       "50130  2022-01-07 2022-01-07 12:45:00      1001 2022-01-07 12:34:57   \n",
       "50131  2022-01-07 2022-01-07 12:45:00      1002 2022-01-07 12:34:57   \n",
       "50132  2022-01-07 2022-01-07 12:45:00      1003 2022-01-07 12:34:57   \n",
       "50133  2022-01-07 2022-01-07 12:45:00      1004 2022-01-07 12:34:56   \n",
       "50134  2022-01-07 2022-01-07 12:45:00      1005 2022-01-07 12:34:56   \n",
       "...           ...                 ...       ...                 ...   \n",
       "256404 2022-01-21 2022-01-21 18:25:00      4703 2022-01-21 18:14:28   \n",
       "256405 2022-01-21 2022-01-21 18:25:00      4704 2022-01-21 18:14:43   \n",
       "256406 2022-01-21 2022-01-21 18:25:00      4705 2022-01-21 18:14:46   \n",
       "256407 2022-01-21 2022-01-21 18:25:00      4706 2022-01-21 18:14:46   \n",
       "256408 2022-01-21 2022-01-21 18:25:00      4707 2022-01-21 18:14:55   \n",
       "\n",
       "       image_zip_time_difference  \n",
       "50130            0 days 00:10:03  \n",
       "50131            0 days 00:10:03  \n",
       "50132            0 days 00:10:03  \n",
       "50133            0 days 00:10:04  \n",
       "50134            0 days 00:10:04  \n",
       "...                          ...  \n",
       "256404           0 days 00:10:32  \n",
       "256405           0 days 00:10:17  \n",
       "256406           0 days 00:10:14  \n",
       "256407           0 days 00:10:14  \n",
       "256408           0 days 00:10:05  \n",
       "\n",
       "[1180 rows x 5 columns]"
      ]
     },
     "execution_count": 25,
     "metadata": {},
     "output_type": "execute_result"
    }
   ],
   "source": [
    "df[df[\"image_zip_time_difference\"].dt.seconds > 600]"
   ]
  },
  {
   "cell_type": "code",
   "execution_count": 26,
   "metadata": {},
   "outputs": [
    {
     "data": {
      "text/plain": [
       "[Text(0.5, 1.0, 'Time Difference between Zip Datetime and Image Datetime')]"
      ]
     },
     "execution_count": 26,
     "metadata": {},
     "output_type": "execute_result"
    },
    {
     "data": {
      "image/png": "[encoded data removed]",
      "text/plain": [
       "<Figure size 432x288 with 1 Axes>"
      ]
     },
     "metadata": {
      "needs_background": "light"
     },
     "output_type": "display_data"
    }
   ],
   "source": [
    "sns.histplot(df[\"image_zip_time_difference\"].apply(lambda x: x.seconds / 60), binwidth = 5)\\\n",
    "    .set(title='Time Difference between Zip Datetime and Image Datetime')"
   ]
  }
 ],
 "metadata": {
  "kernelspec": {
   "display_name": "Python 3.9.5 64-bit",
   "language": "python",
   "name": "python3"
  },
  "language_info": {
   "codemirror_mode": {
    "name": "ipython",
    "version": 3
   },
   "file_extension": ".py",
   "mimetype": "text/x-python",
   "name": "python",
   "nbconvert_exporter": "python",
   "pygments_lexer": "ipython3",
   "version": "3.9.5"
  },
  "vscode": {
   "interpreter": {
    "hash": "22e1dc71cd78e51883740a1740c03e15b68fc00d65fe551fee792e85a1c033c6"
   }
  }
 },
 "nbformat": 4,
 "nbformat_minor": 2
}
