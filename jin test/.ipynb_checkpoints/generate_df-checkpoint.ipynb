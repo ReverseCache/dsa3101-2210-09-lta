{
 "cells": [
  {
   "cell_type": "code",
   "execution_count": 1,
   "id": "5bbb65c4",
   "metadata": {},
   "outputs": [],
   "source": [
    "import requests\n",
    "import pandas as pd\n",
    "import numpy as np\n",
    "import urllib.request"
   ]
  },
  {
   "cell_type": "code",
   "execution_count": 2,
   "id": "33c6fc2e",
   "metadata": {},
   "outputs": [],
   "source": [
    "from math import radians, cos, sin, asin, sqrt\n",
    "\n",
    "def haversine(lon1, lat1, lon2, lat2):\n",
    "\n",
    "    # convert decimal degrees to radians \n",
    "    lon1, lat1, lon2, lat2 = map(radians, [lon1, lat1, lon2, lat2])\n",
    "\n",
    "    # haversine formula \n",
    "    dlon = lon2 - lon1 \n",
    "    dlat = lat2 - lat1 \n",
    "    a = sin(dlat/2)**2 + cos(lat1) * cos(lat2) * sin(dlon/2)**2\n",
    "    c = 2 * asin(sqrt(a)) \n",
    "    r = 6371 # Radius of earth in kilometers. Use 3956 for miles. Determines return value units.\n",
    "    return c * r *1000"
   ]
  },
  {
   "cell_type": "code",
   "execution_count": 3,
   "id": "28f7fb9d",
   "metadata": {},
   "outputs": [],
   "source": [
    "def location_splitter(location):\n",
    "    location=location.split(' ')\n",
    "    return location[0],location[1],location[2],location[3]"
   ]
  },
  {
   "cell_type": "code",
   "execution_count": 4,
   "id": "dbe186c4",
   "metadata": {},
   "outputs": [],
   "source": [
    "traffic_image_url='http://datamall2.mytransport.sg/ltaodataservice/Traffic-Imagesv2'\n",
    "headers_val={'AccountKey':'AO4qMbK3S7CWKSlplQZqlA=='}\n",
    "traffic_image_req=requests.get(url=traffic_image_url,headers=headers_val)\n",
    "traffic_image_df=pd.DataFrame(eval(traffic_image_req.content)['value'])"
   ]
  },
  {
   "cell_type": "code",
   "execution_count": 5,
   "id": "d7beae03",
   "metadata": {},
   "outputs": [],
   "source": [
    "traffic_speed_url='http://datamall2.mytransport.sg/ltaodataservice/TrafficSpeedBandsv2'\n",
    "traffic_speed_req=requests.get(url=traffic_speed_url,headers=headers_val)\n",
    "traffic_speed_df=pd.DataFrame(eval(traffic_speed_req.content)['value'])\n",
    "road_category_letter=['A','B','C','D','E','F','G']\n",
    "road_category_type=['Expressways','Major Arterial Roads','Arterial Roads','Minor Arterial Roads','Small Roads','Slip Roads','No category info available']\n",
    "category_mapping=pd.DataFrame({'RoadCategory':road_category_letter,'category':road_category_type})\n",
    "traffic_speed_df=traffic_speed_df.merge(category_mapping,'left','RoadCategory')\n",
    "traffic_speed_df['start_latitude'],traffic_speed_df['start_longitude'],traffic_speed_df['end_latitude'],traffic_speed_df['end_longitude']=np.vectorize(location_splitter)(traffic_speed_df['Location'])\n",
    "traffic_speed_df=traffic_speed_df.drop(['LinkID','RoadCategory','SpeedBand','MaximumSpeed','Location'],axis=1)\n",
    "traffic_speed_df=traffic_speed_df.astype({'start_latitude':float,'start_longitude':float,'end_latitude':float,'end_longitude':float})"
   ]
  },
  {
   "cell_type": "code",
   "execution_count": 6,
   "id": "49a87654",
   "metadata": {},
   "outputs": [],
   "source": [
    "traffic_incidents_url='http://datamall2.mytransport.sg/ltaodataservice/TrafficIncidents'\n",
    "traffic_incidents_req=requests.get(url=traffic_incidents_url,headers=headers_val)\n",
    "traffic_incidents_df=pd.DataFrame(eval(traffic_incidents_req.content)['value'])\n"
   ]
  },
  {
   "cell_type": "markdown",
   "id": "77c0a431",
   "metadata": {},
   "source": [
    "# NEA API\n",
    "For some reason this one need to constantly call and keep track of previous results. Sometimes calls does not return all data.\n",
    "Some names are given as S123, etc, looking to try OneMap reverse geocoding to get road name from lat long."
   ]
  },
  {
   "cell_type": "code",
   "execution_count": 7,
   "id": "2f96d8a8",
   "metadata": {},
   "outputs": [],
   "source": [
    "weatherreq=requests.get(url='https://api.data.gov.sg/v1/environment/rainfall')\n",
    "weather_df=pd.DataFrame(eval(weatherreq.content)['metadata']['stations'])\n",
    "\n",
    "weather_df['latitude']=weather_df['location'].apply(lambda x: x['latitude'])\n",
    "weather_df['longitude']=weather_df['location'].apply(lambda x: x['longitude'])\n",
    "weather_df['timestamp']=eval(weatherreq.content)['items'][0]['timestamp']\n",
    "weather_df['timestamp']=pd.to_datetime(weather_df['timestamp'])\n",
    "\n",
    "station_rainfall=pd.DataFrame(eval(weatherreq.content)['items'][0]['readings']).rename(columns={'value':'rainfall in mm'})\n",
    "\n",
    "weather_df=weather_df.merge(station_rainfall,how='left',left_on='id',right_on='station_id')\n",
    "weather_df=weather_df.drop(['id','device_id','station_id','location'],axis=1)"
   ]
  },
  {
   "cell_type": "markdown",
   "id": "7c15ff4e",
   "metadata": {},
   "source": [
    "# Onemap"
   ]
  },
  {
   "cell_type": "code",
   "execution_count": 8,
   "id": "c8ce6866",
   "metadata": {},
   "outputs": [],
   "source": [
    "onemapTokenAPIResponse=requests.post('https://developers.onemap.sg/privateapi/auth/post/getToken',json={'email':'leejin@u.nus.edu','password':'Whysohardtochange123!'})#.content\n",
    "onemapAPItoken=eval(onemapTokenAPIResponse.content)['access_token']"
   ]
  },
  {
   "cell_type": "code",
   "execution_count": 9,
   "id": "884222b5",
   "metadata": {},
   "outputs": [],
   "source": [
    "def roadnamegrabber(latitude,longitude):\n",
    "    tempResponse=requests.get('https://developers.onemap.sg/privateapi/commonsvc/revgeocode?location=%s,%s&token=%s&buffer=100&addressType=all'%(str(latitude),str(longitude),onemapAPItoken))\n",
    "    name=pd.DataFrame(eval(tempResponse.content)['GeocodeInfo'])['ROAD'].mode()[0]\n",
    "    return name.title()"
   ]
  },
  {
   "cell_type": "markdown",
   "id": "3f57eb31",
   "metadata": {},
   "source": [
    "# Calculations\n"
   ]
  },
  {
   "cell_type": "code",
   "execution_count": 10,
   "id": "b684dad3",
   "metadata": {},
   "outputs": [],
   "source": [
    "traffic_image_df['key']=0\n",
    "traffic_incidents_df['key']=0\n",
    "weather_df['key']=0"
   ]
  },
  {
   "cell_type": "code",
   "execution_count": 11,
   "id": "7026b796",
   "metadata": {},
   "outputs": [],
   "source": [
    "nearest_incidents=traffic_image_df.merge(traffic_incidents_df,'outer','key')\n",
    "nearest_incidents['incident_distance_from_id']=(np.vectorize(haversine)(nearest_incidents['Latitude_x'],nearest_incidents['Longitude_x'],nearest_incidents['Latitude_y'],nearest_incidents['Longitude_y']))\n",
    "nearest_incidents=nearest_incidents[nearest_incidents['incident_distance_from_id']<500].sort_values('incident_distance_from_id')\n",
    "nearest_incidents=nearest_incidents[['CameraID','Type','Message']]"
   ]
  },
  {
   "cell_type": "code",
   "execution_count": 12,
   "id": "3b049112",
   "metadata": {},
   "outputs": [],
   "source": [
    "nearest_weather=traffic_image_df.merge(weather_df,'outer','key')\n",
    "nearest_weather['distance_from_id']=(np.vectorize(haversine)(nearest_weather['Latitude'],nearest_weather['Longitude'],nearest_weather['latitude'],nearest_weather['longitude']))\n",
    "nearest_weather=nearest_weather.sort_values('distance_from_id').groupby('CameraID').head(1).sort_values('distance_from_id')\n",
    "nearest_weather=nearest_weather[['CameraID','Latitude','Longitude','ImageLink','rainfall in mm']]\n",
    "nearest_weather['name']=np.vectorize(roadnamegrabber)(nearest_weather['Latitude'],nearest_weather['Longitude'])"
   ]
  },
  {
   "cell_type": "code",
   "execution_count": 13,
   "id": "7feed59d",
   "metadata": {},
   "outputs": [
    {
     "data": {
      "text/html": [
       "<div>\n",
       "<style scoped>\n",
       "    .dataframe tbody tr th:only-of-type {\n",
       "        vertical-align: middle;\n",
       "    }\n",
       "\n",
       "    .dataframe tbody tr th {\n",
       "        vertical-align: top;\n",
       "    }\n",
       "\n",
       "    .dataframe thead th {\n",
       "        text-align: right;\n",
       "    }\n",
       "</style>\n",
       "<table border=\"1\" class=\"dataframe\">\n",
       "  <thead>\n",
       "    <tr style=\"text-align: right;\">\n",
       "      <th></th>\n",
       "      <th>CameraID</th>\n",
       "      <th>Latitude</th>\n",
       "      <th>Longitude</th>\n",
       "      <th>ImageLink</th>\n",
       "      <th>rainfall in mm</th>\n",
       "      <th>name</th>\n",
       "      <th>Type</th>\n",
       "      <th>Message</th>\n",
       "    </tr>\n",
       "  </thead>\n",
       "  <tbody>\n",
       "    <tr>\n",
       "      <th>0</th>\n",
       "      <td>1701</td>\n",
       "      <td>1.323605</td>\n",
       "      <td>103.858780</td>\n",
       "      <td>https://dm-traffic-camera-itsc.s3.ap-southeast...</td>\n",
       "      <td>0.0</td>\n",
       "      <td>Saint George'S Lane</td>\n",
       "      <td>NaN</td>\n",
       "      <td>NaN</td>\n",
       "    </tr>\n",
       "    <tr>\n",
       "      <th>1</th>\n",
       "      <td>3795</td>\n",
       "      <td>1.301451</td>\n",
       "      <td>103.910596</td>\n",
       "      <td>https://dm-traffic-camera-itsc.s3.ap-southeast...</td>\n",
       "      <td>0.0</td>\n",
       "      <td>Still Road South</td>\n",
       "      <td>NaN</td>\n",
       "      <td>NaN</td>\n",
       "    </tr>\n",
       "    <tr>\n",
       "      <th>2</th>\n",
       "      <td>4706</td>\n",
       "      <td>1.297920</td>\n",
       "      <td>103.782050</td>\n",
       "      <td>https://dm-traffic-camera-itsc.s3.ap-southeast...</td>\n",
       "      <td>0.0</td>\n",
       "      <td>Lower Kent Ridge Road</td>\n",
       "      <td>NaN</td>\n",
       "      <td>NaN</td>\n",
       "    </tr>\n",
       "    <tr>\n",
       "      <th>3</th>\n",
       "      <td>2702</td>\n",
       "      <td>1.445554</td>\n",
       "      <td>103.768340</td>\n",
       "      <td>https://dm-traffic-camera-itsc.s3.ap-southeast...</td>\n",
       "      <td>0.0</td>\n",
       "      <td>Woodlands Crossing</td>\n",
       "      <td>NaN</td>\n",
       "      <td>NaN</td>\n",
       "    </tr>\n",
       "    <tr>\n",
       "      <th>4</th>\n",
       "      <td>6713</td>\n",
       "      <td>1.340298</td>\n",
       "      <td>103.945652</td>\n",
       "      <td>https://dm-traffic-camera-itsc.s3.ap-southeast...</td>\n",
       "      <td>0.0</td>\n",
       "      <td>Tampines Street 92</td>\n",
       "      <td>NaN</td>\n",
       "      <td>NaN</td>\n",
       "    </tr>\n",
       "    <tr>\n",
       "      <th>...</th>\n",
       "      <td>...</td>\n",
       "      <td>...</td>\n",
       "      <td>...</td>\n",
       "      <td>...</td>\n",
       "      <td>...</td>\n",
       "      <td>...</td>\n",
       "      <td>...</td>\n",
       "      <td>...</td>\n",
       "    </tr>\n",
       "    <tr>\n",
       "      <th>123</th>\n",
       "      <td>8702</td>\n",
       "      <td>1.390590</td>\n",
       "      <td>103.771700</td>\n",
       "      <td>https://dm-traffic-camera-itsc.s3.ap-southeast...</td>\n",
       "      <td>0.0</td>\n",
       "      <td>Segar Road</td>\n",
       "      <td>NaN</td>\n",
       "      <td>NaN</td>\n",
       "    </tr>\n",
       "    <tr>\n",
       "      <th>124</th>\n",
       "      <td>1503</td>\n",
       "      <td>1.270664</td>\n",
       "      <td>103.856978</td>\n",
       "      <td>https://dm-traffic-camera-itsc.s3.ap-southeast...</td>\n",
       "      <td>0.0</td>\n",
       "      <td>Marina Coastal Drive</td>\n",
       "      <td>NaN</td>\n",
       "      <td>NaN</td>\n",
       "    </tr>\n",
       "    <tr>\n",
       "      <th>125</th>\n",
       "      <td>2708</td>\n",
       "      <td>1.386500</td>\n",
       "      <td>103.774700</td>\n",
       "      <td>https://dm-traffic-camera-itsc.s3.ap-southeast...</td>\n",
       "      <td>0.2</td>\n",
       "      <td>Bukit Timah Expressway</td>\n",
       "      <td>NaN</td>\n",
       "      <td>NaN</td>\n",
       "    </tr>\n",
       "    <tr>\n",
       "      <th>126</th>\n",
       "      <td>2703</td>\n",
       "      <td>1.350478</td>\n",
       "      <td>103.791034</td>\n",
       "      <td>https://dm-traffic-camera-itsc.s3.ap-southeast...</td>\n",
       "      <td>0.0</td>\n",
       "      <td>Rifle Range Road</td>\n",
       "      <td>NaN</td>\n",
       "      <td>NaN</td>\n",
       "    </tr>\n",
       "    <tr>\n",
       "      <th>127</th>\n",
       "      <td>7793</td>\n",
       "      <td>1.377047</td>\n",
       "      <td>103.929470</td>\n",
       "      <td>https://dm-traffic-camera-itsc.s3.ap-southeast...</td>\n",
       "      <td>0.0</td>\n",
       "      <td>Pasir Ris Drive 12</td>\n",
       "      <td>NaN</td>\n",
       "      <td>NaN</td>\n",
       "    </tr>\n",
       "  </tbody>\n",
       "</table>\n",
       "<p>128 rows × 8 columns</p>\n",
       "</div>"
      ],
      "text/plain": [
       "    CameraID  Latitude   Longitude  \\\n",
       "0       1701  1.323605  103.858780   \n",
       "1       3795  1.301451  103.910596   \n",
       "2       4706  1.297920  103.782050   \n",
       "3       2702  1.445554  103.768340   \n",
       "4       6713  1.340298  103.945652   \n",
       "..       ...       ...         ...   \n",
       "123     8702  1.390590  103.771700   \n",
       "124     1503  1.270664  103.856978   \n",
       "125     2708  1.386500  103.774700   \n",
       "126     2703  1.350478  103.791034   \n",
       "127     7793  1.377047  103.929470   \n",
       "\n",
       "                                             ImageLink  rainfall in mm  \\\n",
       "0    https://dm-traffic-camera-itsc.s3.ap-southeast...             0.0   \n",
       "1    https://dm-traffic-camera-itsc.s3.ap-southeast...             0.0   \n",
       "2    https://dm-traffic-camera-itsc.s3.ap-southeast...             0.0   \n",
       "3    https://dm-traffic-camera-itsc.s3.ap-southeast...             0.0   \n",
       "4    https://dm-traffic-camera-itsc.s3.ap-southeast...             0.0   \n",
       "..                                                 ...             ...   \n",
       "123  https://dm-traffic-camera-itsc.s3.ap-southeast...             0.0   \n",
       "124  https://dm-traffic-camera-itsc.s3.ap-southeast...             0.0   \n",
       "125  https://dm-traffic-camera-itsc.s3.ap-southeast...             0.2   \n",
       "126  https://dm-traffic-camera-itsc.s3.ap-southeast...             0.0   \n",
       "127  https://dm-traffic-camera-itsc.s3.ap-southeast...             0.0   \n",
       "\n",
       "                       name Type Message  \n",
       "0       Saint George'S Lane  NaN     NaN  \n",
       "1          Still Road South  NaN     NaN  \n",
       "2     Lower Kent Ridge Road  NaN     NaN  \n",
       "3        Woodlands Crossing  NaN     NaN  \n",
       "4        Tampines Street 92  NaN     NaN  \n",
       "..                      ...  ...     ...  \n",
       "123              Segar Road  NaN     NaN  \n",
       "124    Marina Coastal Drive  NaN     NaN  \n",
       "125  Bukit Timah Expressway  NaN     NaN  \n",
       "126        Rifle Range Road  NaN     NaN  \n",
       "127      Pasir Ris Drive 12  NaN     NaN  \n",
       "\n",
       "[128 rows x 8 columns]"
      ]
     },
     "execution_count": 13,
     "metadata": {},
     "output_type": "execute_result"
    }
   ],
   "source": [
    "final_df=nearest_weather.merge(nearest_incidents,'left','CameraID')\n",
    "final_df"
   ]
  },
  {
   "cell_type": "code",
   "execution_count": 15,
   "id": "d55e86a3",
   "metadata": {},
   "outputs": [],
   "source": [
    "final_df.to_csv('main_df.csv',index=False)"
   ]
  },
  {
   "cell_type": "code",
   "execution_count": 14,
   "id": "de93198a",
   "metadata": {},
   "outputs": [],
   "source": [
    "# Downloads all the csv files\n",
    "# traffic_image_df.to_csv('traffic_image.csv',index=False)\n",
    "# traffic_speed_df.to_csv('traffic_speed.csv',index=False)\n",
    "# traffic_incidents_df.to_csv('traffic_incidents.csv',index=False)\n",
    "# weather_df.to_csv('weather.csv',index=False)"
   ]
  }
 ],
 "metadata": {
  "kernelspec": {
   "display_name": "Python 3 (ipykernel)",
   "language": "python",
   "name": "python3"
  },
  "language_info": {
   "codemirror_mode": {
    "name": "ipython",
    "version": 3
   },
   "file_extension": ".py",
   "mimetype": "text/x-python",
   "name": "python",
   "nbconvert_exporter": "python",
   "pygments_lexer": "ipython3",
   "version": "3.8.5"
  }
 },
 "nbformat": 4,
 "nbformat_minor": 5
}
