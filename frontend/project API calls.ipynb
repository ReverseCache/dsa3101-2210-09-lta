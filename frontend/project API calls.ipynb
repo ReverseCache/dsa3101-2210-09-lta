{
 "cells": [
  {
   "cell_type": "code",
   "execution_count": 21,
   "id": "5bbb65c4",
   "metadata": {},
   "outputs": [],
   "source": [
    "import requests\n",
    "import pandas as pd\n",
    "import numpy as np\n",
    "import urllib.request"
   ]
  },
  {
   "cell_type": "code",
   "execution_count": 22,
   "id": "dbe186c4",
   "metadata": {},
   "outputs": [],
   "source": [
    "traffic_image_url='http://datamall2.mytransport.sg/ltaodataservice/Traffic-Imagesv2'\n",
    "headers_val={'AccountKey':'AO4qMbK3S7CWKSlplQZqlA=='}\n",
    "traffic_image_req=requests.get(url=traffic_image_url,headers=headers_val)\n",
    "traffic_image_df=pd.DataFrame(eval(traffic_image_req.content)['value'])\n",
    "\n",
    "# downloads all the latest photos.\n",
    "# traffic_image_df.apply(lambda x: urllib.request.urlretrieve(x['ImageLink'],'%s.jpg'%x['CameraID']) ,axis=1)"
   ]
  },
  {
   "cell_type": "code",
   "execution_count": 23,
   "id": "d7beae03",
   "metadata": {},
   "outputs": [],
   "source": [
    "traffic_speed_url='http://datamall2.mytransport.sg/ltaodataservice/TrafficSpeedBandsv2'\n",
    "traffic_speed_req=requests.get(url=traffic_speed_url,headers=headers_val)\n",
    "traffic_speed_df=pd.DataFrame(eval(traffic_speed_req.content)['value'])\n",
    "\n",
    "# road category \n",
    "# A – Expressways\n",
    "# B – Major Arterial Roads\n",
    "# C – Arterial Roads\n",
    "# D – Minor Arterial Roads\n",
    "# E – Small Roads\n",
    "# F – Slip Roads\n",
    "# G – No category info available\n",
    "\n",
    "# speed bands\n",
    "# 1 – indicates speed range from 0 < 9\n",
    "# 2 – indicates speed range from 10 < 19\n",
    "# 3 – indicates speed range from 20 < 29\n",
    "# 4 – indicates speed range from 30 < 39\n",
    "# 5 – indicates speed range from 40 < 49\n",
    "# 6 – indicates speed range from 50 < 59\n",
    "# 7 – indicates speed range from 60 < 69\n",
    "# 8 – speed range from 70 or more\n"
   ]
  },
  {
   "cell_type": "code",
   "execution_count": 24,
   "id": "28f7fb9d",
   "metadata": {},
   "outputs": [],
   "source": [
    "def location_splitter(location):\n",
    "    location=location.split(' ')\n",
    "    return location[0],location[1],location[2],location[3]"
   ]
  },
  {
   "cell_type": "code",
   "execution_count": 25,
   "id": "b1f1ee7b",
   "metadata": {},
   "outputs": [],
   "source": [
    "traffic_speed_df['start_latitude'],traffic_speed_df['start_longitude'],traffic_speed_df['end_latitude'],traffic_speed_df['end_longitude']=np.vectorize(location_splitter)(traffic_speed_df['Location'])"
   ]
  },
  {
   "cell_type": "code",
   "execution_count": 26,
   "id": "49a87654",
   "metadata": {},
   "outputs": [],
   "source": [
    "traffic_incidents_url='http://datamall2.mytransport.sg/ltaodataservice/TrafficIncidents'\n",
    "traffic_incidents_req=requests.get(url=traffic_incidents_url,headers=headers_val)\n",
    "traffic_incidents_df=pd.DataFrame(eval(traffic_incidents_req.content)['value'])\n"
   ]
  },
  {
   "cell_type": "markdown",
   "id": "77c0a431",
   "metadata": {},
   "source": [
    "# NEA API\n",
    "For some reason this one need to constantly call and keep track of previous results. Sometimes calls does not return all data.\n",
    "Some names are given as S123, etc, looking to try OneMap reverse geocoding to get road name from lat long."
   ]
  },
  {
   "cell_type": "code",
   "execution_count": 27,
   "id": "2f96d8a8",
   "metadata": {},
   "outputs": [],
   "source": [
    "# weather_df=pd.read_csv('weather.csv')\n",
    "weatherreq=requests.get(url='https://api.data.gov.sg/v1/environment/rainfall')\n",
    "\n",
    "new_weather_df=pd.DataFrame(eval(weatherreq.content)['metadata']['stations'])\n",
    "\n",
    "new_weather_df['latitude']=new_weather_df['location'].apply(lambda x: x['latitude'])\n",
    "new_weather_df['longitude']=new_weather_df['location'].apply(lambda x: x['longitude'])\n",
    "new_weather_df['timestamp']=eval(weatherreq.content)['items'][0]['timestamp']\n",
    "new_weather_df['timestamp']=pd.to_datetime(new_weather_df['timestamp'])\n",
    "\n",
    "station_rainfall=pd.DataFrame(eval(weatherreq.content)['items'][0]['readings']).rename(columns={'value':'rainfall in mm'})\n",
    "\n",
    "new_weather_df=new_weather_df.merge(station_rainfall,how='left',left_on='id',right_on='station_id')\n",
    "new_weather_df=new_weather_df.drop(['id','device_id','station_id','location'],axis=1)\n",
    "\n",
    "# pd.concat([new_weather_df,weather_df]).drop_duplicates().to_csv('weather.csv',index=False)"
   ]
  },
  {
   "cell_type": "code",
   "execution_count": 28,
   "id": "d26bdbc4",
   "metadata": {},
   "outputs": [
    {
     "data": {
      "text/html": [
       "<div>\n",
       "<style scoped>\n",
       "    .dataframe tbody tr th:only-of-type {\n",
       "        vertical-align: middle;\n",
       "    }\n",
       "\n",
       "    .dataframe tbody tr th {\n",
       "        vertical-align: top;\n",
       "    }\n",
       "\n",
       "    .dataframe thead th {\n",
       "        text-align: right;\n",
       "    }\n",
       "</style>\n",
       "<table border=\"1\" class=\"dataframe\">\n",
       "  <thead>\n",
       "    <tr style=\"text-align: right;\">\n",
       "      <th></th>\n",
       "      <th>name</th>\n",
       "      <th>latitude</th>\n",
       "      <th>longitude</th>\n",
       "      <th>timestamp</th>\n",
       "      <th>rainfall in mm</th>\n",
       "    </tr>\n",
       "  </thead>\n",
       "  <tbody>\n",
       "    <tr>\n",
       "      <th>0</th>\n",
       "      <td>Alexandra Road</td>\n",
       "      <td>1.29370</td>\n",
       "      <td>103.81250</td>\n",
       "      <td>2022-10-24 21:00:00+08:00</td>\n",
       "      <td>0</td>\n",
       "    </tr>\n",
       "    <tr>\n",
       "      <th>1</th>\n",
       "      <td>Ang Mo Kio Avenue 5</td>\n",
       "      <td>1.37640</td>\n",
       "      <td>103.84920</td>\n",
       "      <td>2022-10-24 21:00:00+08:00</td>\n",
       "      <td>0</td>\n",
       "    </tr>\n",
       "    <tr>\n",
       "      <th>2</th>\n",
       "      <td>Bukit Panjang Road</td>\n",
       "      <td>1.38240</td>\n",
       "      <td>103.76030</td>\n",
       "      <td>2022-10-24 21:00:00+08:00</td>\n",
       "      <td>0</td>\n",
       "    </tr>\n",
       "    <tr>\n",
       "      <th>3</th>\n",
       "      <td>Bukit Timah Road</td>\n",
       "      <td>1.31910</td>\n",
       "      <td>103.81910</td>\n",
       "      <td>2022-10-24 21:00:00+08:00</td>\n",
       "      <td>0</td>\n",
       "    </tr>\n",
       "    <tr>\n",
       "      <th>4</th>\n",
       "      <td>Chai Chee Street</td>\n",
       "      <td>1.32300</td>\n",
       "      <td>103.92170</td>\n",
       "      <td>2022-10-24 21:00:00+08:00</td>\n",
       "      <td>0</td>\n",
       "    </tr>\n",
       "    <tr>\n",
       "      <th>...</th>\n",
       "      <td>...</td>\n",
       "      <td>...</td>\n",
       "      <td>...</td>\n",
       "      <td>...</td>\n",
       "      <td>...</td>\n",
       "    </tr>\n",
       "    <tr>\n",
       "      <th>65</th>\n",
       "      <td>Upper Serangoon Road</td>\n",
       "      <td>1.33820</td>\n",
       "      <td>103.86570</td>\n",
       "      <td>2022-10-24 21:00:00+08:00</td>\n",
       "      <td>0</td>\n",
       "    </tr>\n",
       "    <tr>\n",
       "      <th>66</th>\n",
       "      <td>Upper Thomson Road</td>\n",
       "      <td>1.37010</td>\n",
       "      <td>103.82710</td>\n",
       "      <td>2022-10-24 21:00:00+08:00</td>\n",
       "      <td>0</td>\n",
       "    </tr>\n",
       "    <tr>\n",
       "      <th>67</th>\n",
       "      <td>West Coast Highway</td>\n",
       "      <td>1.28100</td>\n",
       "      <td>103.75400</td>\n",
       "      <td>2022-10-24 21:00:00+08:00</td>\n",
       "      <td>0</td>\n",
       "    </tr>\n",
       "    <tr>\n",
       "      <th>68</th>\n",
       "      <td>Woodlands Avenue 9</td>\n",
       "      <td>1.44387</td>\n",
       "      <td>103.78538</td>\n",
       "      <td>2022-10-24 21:00:00+08:00</td>\n",
       "      <td>0</td>\n",
       "    </tr>\n",
       "    <tr>\n",
       "      <th>69</th>\n",
       "      <td>Woodlands Road</td>\n",
       "      <td>1.41720</td>\n",
       "      <td>103.74855</td>\n",
       "      <td>2022-10-24 21:00:00+08:00</td>\n",
       "      <td>0</td>\n",
       "    </tr>\n",
       "  </tbody>\n",
       "</table>\n",
       "<p>70 rows × 5 columns</p>\n",
       "</div>"
      ],
      "text/plain": [
       "                    name  latitude  longitude                 timestamp  \\\n",
       "0         Alexandra Road   1.29370  103.81250 2022-10-24 21:00:00+08:00   \n",
       "1    Ang Mo Kio Avenue 5   1.37640  103.84920 2022-10-24 21:00:00+08:00   \n",
       "2     Bukit Panjang Road   1.38240  103.76030 2022-10-24 21:00:00+08:00   \n",
       "3       Bukit Timah Road   1.31910  103.81910 2022-10-24 21:00:00+08:00   \n",
       "4       Chai Chee Street   1.32300  103.92170 2022-10-24 21:00:00+08:00   \n",
       "..                   ...       ...        ...                       ...   \n",
       "65  Upper Serangoon Road   1.33820  103.86570 2022-10-24 21:00:00+08:00   \n",
       "66    Upper Thomson Road   1.37010  103.82710 2022-10-24 21:00:00+08:00   \n",
       "67    West Coast Highway   1.28100  103.75400 2022-10-24 21:00:00+08:00   \n",
       "68    Woodlands Avenue 9   1.44387  103.78538 2022-10-24 21:00:00+08:00   \n",
       "69        Woodlands Road   1.41720  103.74855 2022-10-24 21:00:00+08:00   \n",
       "\n",
       "    rainfall in mm  \n",
       "0                0  \n",
       "1                0  \n",
       "2                0  \n",
       "3                0  \n",
       "4                0  \n",
       "..             ...  \n",
       "65               0  \n",
       "66               0  \n",
       "67               0  \n",
       "68               0  \n",
       "69               0  \n",
       "\n",
       "[70 rows x 5 columns]"
      ]
     },
     "execution_count": 28,
     "metadata": {},
     "output_type": "execute_result"
    }
   ],
   "source": [
    "new_weather_df"
   ]
  },
  {
   "cell_type": "markdown",
   "id": "7c15ff4e",
   "metadata": {},
   "source": [
    "# Onemap (to get road name from lat long (WIP)"
   ]
  },
  {
   "cell_type": "code",
   "execution_count": 29,
   "id": "c8ce6866",
   "metadata": {},
   "outputs": [],
   "source": [
    "onemapTokenAPIResponse=requests.post('https://developers.onemap.sg/privateapi/auth/post/getToken',json={'email':'leejin@u.nus.edu','password':'Whysohardtochange123!'})#.content\n",
    "onemapAPItoken=eval(onemapTokenAPIResponse.content)['access_token']"
   ]
  },
  {
   "cell_type": "code",
   "execution_count": 30,
   "id": "dab06ea5",
   "metadata": {},
   "outputs": [],
   "source": [
    "onemapResponse=requests.get('https://developers.onemap.sg/privateapi/commonsvc/revgeocode?location=%s,%s&token=%s&buffer=100&addressType=all'%(str(1.32311),str(103.76714),onemapAPItoken))\n",
    "# onemapResponse=requests.get('https://developers.onemap.sg/privateapi/commonsvc/revgeocode?location=1.3,103.8&token=0v9hsciobp1ifa5bgpkin21cs3&buffer=100&addressType=all"
   ]
  },
  {
   "cell_type": "code",
   "execution_count": 31,
   "id": "884222b5",
   "metadata": {},
   "outputs": [],
   "source": [
    "def roadnamegrabber(name,latitude,longitude):\n",
    "    if name[0]=='S' and len(name)<5:\n",
    "        tempResponse=requests.get('https://developers.onemap.sg/privateapi/commonsvc/revgeocode?location=%s,%s&token=%s&buffer=100&addressType=all'%(str(latitude),str(longitude),onemapAPItoken))\n",
    "        name=pd.DataFrame(eval(tempResponse.content)['GeocodeInfo'])['ROAD'].mode()[0]\n",
    "    return name"
   ]
  },
  {
   "cell_type": "code",
   "execution_count": 32,
   "id": "19ea11c0",
   "metadata": {},
   "outputs": [],
   "source": [
    "new_weather_df['name']=np.vectorize(roadnamegrabber)(new_weather_df['name'],new_weather_df['latitude'],new_weather_df['longitude'])"
   ]
  },
  {
   "cell_type": "code",
   "execution_count": 33,
   "id": "de93198a",
   "metadata": {},
   "outputs": [],
   "source": [
    "# Downloads all the csv files\n",
    "traffic_image_df.to_csv('traffic_image.csv',index=False)\n",
    "traffic_speed_df.to_csv('traffic_speed.csv',index=False)\n",
    "traffic_incidents_df.to_csv('traffic_incidents.csv',index=False)\n",
    "new_weather_df.to_csv('weather.csv',index=False)"
   ]
  },
  {
   "cell_type": "markdown",
   "id": "3f57eb31",
   "metadata": {},
   "source": [
    "# END"
   ]
  },
  {
   "cell_type": "code",
   "execution_count": 34,
   "id": "dfe9a502",
   "metadata": {},
   "outputs": [],
   "source": [
    "# id_options=[]\n",
    "# for i in traffic_image_df['CameraID']:\n",
    "#     temp={'label':'id%s'%str(i),'value':i}\n",
    "#     id_options.append(temp)\n",
    "# id_options"
   ]
  },
  {
   "cell_type": "code",
   "execution_count": 35,
   "id": "7c684b17",
   "metadata": {},
   "outputs": [],
   "source": [
    "\n",
    "# traffic_image_df['timestamp']=traffic_image_df['ImageLink'].apply(lambda x: x.split('/')[3] +' '+ x.split('/')[4].replace('-',''))\n",
    "# .replace('-','/')\n",
    "#\n",
    "\n",
    "# traffic_image_df['filename']=traffic_image_df.apply(lambda x:'%s_%s.jpg'%(x['CameraID'],x['timestamp']),axis=1)\n",
    "\n",
    "\n",
    "\n",
    "# traffic_image_df['timestamp']=pd.to_datetime(traffic_image_df['timestamp'])\n"
   ]
  }
 ],
 "metadata": {
  "kernelspec": {
   "display_name": "Python 3 (ipykernel)",
   "language": "python",
   "name": "python3"
  },
  "language_info": {
   "codemirror_mode": {
    "name": "ipython",
    "version": 3
   },
   "file_extension": ".py",
   "mimetype": "text/x-python",
   "name": "python",
   "nbconvert_exporter": "python",
   "pygments_lexer": "ipython3",
   "version": "3.8.5"
  }
 },
 "nbformat": 4,
 "nbformat_minor": 5
}
